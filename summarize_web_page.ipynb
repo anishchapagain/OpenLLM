{
 "cells": [
  {
   "cell_type": "code",
   "id": "initial_id",
   "metadata": {
    "collapsed": true,
    "ExecuteTime": {
     "end_time": "2024-10-07T10:26:30.349474Z",
     "start_time": "2024-10-07T10:26:28.464150Z"
    }
   },
   "source": [
    "from langchain.chains.summarize import load_summarize_chain\n",
    "from langchain_community.document_loaders import WebBaseLoader\n",
    "from langchain_community.llms import Ollama"
   ],
   "outputs": [
    {
     "name": "stderr",
     "output_type": "stream",
     "text": [
      "USER_AGENT environment variable not set, consider setting it to identify your requests.\n"
     ]
    }
   ],
   "execution_count": 1
  },
  {
   "metadata": {
    "ExecuteTime": {
     "end_time": "2024-10-07T10:26:30.755722Z",
     "start_time": "2024-10-07T10:26:30.752519Z"
    }
   },
   "cell_type": "code",
   "source": [
    "model = \"llama3.2\"\n",
    "# model = \"gemma2\""
   ],
   "id": "60623ef1498c16dd",
   "outputs": [],
   "execution_count": 2
  },
  {
   "metadata": {},
   "cell_type": "markdown",
   "source": "### Summarize Web content",
   "id": "297e2454044f636c"
  },
  {
   "metadata": {
    "ExecuteTime": {
     "end_time": "2024-10-07T10:26:33.357992Z",
     "start_time": "2024-10-07T10:26:30.767735Z"
    }
   },
   "cell_type": "code",
   "source": [
    "# loader = WebBaseLoader(\"https://ollama.com/blog/run-llama2-uncensored-locally\")\n",
    "loader = WebBaseLoader(\"https://docs.mulesoft.com/rpa-home/\")\n",
    "docs = loader.load()\n",
    "\n",
    "llm = Ollama(model=model)\n",
    "chain = load_summarize_chain(llm, chain_type=\"stuff\")"
   ],
   "id": "b39093a68c96dc3f",
   "outputs": [],
   "execution_count": 3
  },
  {
   "metadata": {
    "ExecuteTime": {
     "end_time": "2024-10-07T10:26:33.366914Z",
     "start_time": "2024-10-07T10:26:33.364199Z"
    }
   },
   "cell_type": "code",
   "source": "from IPython.display import Markdown, display",
   "id": "c52ea3f6df0ada78",
   "outputs": [],
   "execution_count": 4
  },
  {
   "metadata": {
    "ExecuteTime": {
     "end_time": "2024-10-07T10:26:37.789402Z",
     "start_time": "2024-10-07T10:26:33.373749Z"
    }
   },
   "cell_type": "code",
   "source": "result = chain.invoke(docs)",
   "id": "e89e62d6eaa9be58",
   "outputs": [],
   "execution_count": 5
  },
  {
   "metadata": {
    "ExecuteTime": {
     "end_time": "2024-10-07T10:26:37.800792Z",
     "start_time": "2024-10-07T10:26:37.795735Z"
    }
   },
   "cell_type": "code",
   "source": "display(Markdown(result['output_text']))",
   "id": "853041416e186782",
   "outputs": [
    {
     "data": {
      "text/plain": [
       "<IPython.core.display.Markdown object>"
      ],
      "text/markdown": "The article discusses the RPA (Robotic Process Automation) lifecycle and its various phases, including evaluation, design, build, test, deployment, and monitoring. It also introduces the MuleSoft RPA tools, which include:\n\n1. RPA Manager: A cloud-based control plane for managing automations.\n2. RPA Builder: An on-premise application for building automations.\n3. RPA Recorder: An on-premise tool for automatically recording action steps from a local environment.\n4. RPA Bot: Software robots that run in an on-premise environment and execute assigned automations.\n\nThe article provides an overview of each tool, their features, and use cases, as well as links to tutorials, documentation, and other resources."
     },
     "metadata": {},
     "output_type": "display_data"
    }
   ],
   "execution_count": 6
  }
 ],
 "metadata": {
  "kernelspec": {
   "display_name": "Python 3",
   "language": "python",
   "name": "python3"
  },
  "language_info": {
   "codemirror_mode": {
    "name": "ipython",
    "version": 2
   },
   "file_extension": ".py",
   "mimetype": "text/x-python",
   "name": "python",
   "nbconvert_exporter": "python",
   "pygments_lexer": "ipython2",
   "version": "2.7.6"
  }
 },
 "nbformat": 4,
 "nbformat_minor": 5
}
