{
 "cells": [
  {
   "cell_type": "markdown",
   "id": "9aff99cd-dc09-467c-bd09-897ffe06a232",
   "metadata": {},
   "source": [
    "## \"extract\" instead of \"summarize\""
   ]
  },
  {
   "cell_type": "code",
   "execution_count": 1,
   "id": "8ac673e1",
   "metadata": {
    "height": 132
   },
   "outputs": [],
   "source": [
    "import openai\n",
    "import os\n",
    "\n",
    "from dotenv import load_dotenv, find_dotenv\n",
    "\n",
    "_ = load_dotenv(find_dotenv()) # read local .env file\n",
    "\n",
    "openai.api_key  = os.getenv('OPENAI_API_KEY')"
   ]
  },
  {
   "cell_type": "code",
   "execution_count": 2,
   "id": "66de8ca6",
   "metadata": {
    "height": 183
   },
   "outputs": [],
   "source": [
    "def get_completion(prompt, model=\"gpt-3.5-turbo\"): \n",
    "    messages = [{\"role\": \"user\", \"content\": prompt}]\n",
    "    response = openai.ChatCompletion.create(\n",
    "        model=model,\n",
    "        messages=messages,\n",
    "        temperature=0, # this is the degree of randomness of the model's output\n",
    "    )\n",
    "    return response.choices[0].message[\"content\"]\n"
   ]
  },
  {
   "cell_type": "markdown",
   "id": "47db12b7",
   "metadata": {},
   "source": [
    "Course Description: https://areganti.notion.site/Applied-LLMs-Mastery-2024-562ddaa27791463e9a1286199325045c\n"
   ]
  },
  {
   "cell_type": "code",
   "execution_count": 13,
   "id": "d05d8a20-86f2-4613-835e-41c49a504b5b",
   "metadata": {
    "height": 200
   },
   "outputs": [],
   "source": [
    "# Description\n",
    "applied_LLM=\"\"\"\n",
    "Welcome to an exciting 10-week journey into the world of large language models!\n",
    "\n",
    "LLMs are currently experiencing a substantial surge in popularity. Their significance has notably increased in diverse applications, including natural language processing, machine translation, and code and text generation. This rise in prominence is driven by a growing trend among both companies and individuals to leverage LLMs for automating a wide range of tasks. Understanding and learning about LLMs is highly valuable in light of their growing usage and transformative impact across various domains.\n",
    "\n",
    "If you're eager to dive into this trend, you'll discover plenty of resources on the internet. But here's the catch – many of them are all over the place, missing a step-by-step guide from basics to real-world use. This can be overwhelming, and you might feel a bit lost. \n",
    "\n",
    "Imagine this course as your comprehensive guide, exploring every aspect of using LLMs in real-world scenarios. It serves as the crucial link that brings everything together. Each week, we'll delve into the above topics, providing in-depth insights and hands-on experiences. This approach ensures you gain a thorough and well-rounded understanding of every facet within the topic.\n",
    "\"\"\""
   ]
  },
  {
   "cell_type": "markdown",
   "id": "2364f883",
   "metadata": {},
   "source": [
    "## summarize"
   ]
  },
  {
   "cell_type": "code",
   "execution_count": 14,
   "id": "0858cb25",
   "metadata": {
    "height": 149
   },
   "outputs": [],
   "source": [
    "summarize_prompt = f\"\"\"\n",
    "    Your task is to generate a short summary of an online course. \n",
    "\n",
    "    Summarize the course description below, delimited by triple \\\n",
    "    backticks in at most 50 words. \n",
    "\n",
    "    Description: ```{applied_LLM}```\n",
    "    \"\"\""
   ]
  },
  {
   "cell_type": "code",
   "execution_count": 15,
   "id": "ecbc475a",
   "metadata": {
    "height": 64
   },
   "outputs": [
    {
     "name": "stdout",
     "output_type": "stream",
     "text": [
      "This 10-week course offers a comprehensive guide to large language models (LLMs), exploring their applications in natural language processing, machine translation, and more. Gain in-depth insights and hands-on experience to understand and leverage LLMs effectively in various domains. \n",
      "\n"
     ]
    }
   ],
   "source": [
    "# Summarizing Description\n",
    "summarize_response = get_completion(summarize_prompt)\n",
    "print(summarize_response, \"\\n\")"
   ]
  },
  {
   "cell_type": "markdown",
   "id": "e329abb0",
   "metadata": {},
   "source": [
    "## extract"
   ]
  },
  {
   "cell_type": "code",
   "execution_count": 16,
   "id": "9b79b597",
   "metadata": {
    "height": 149
   },
   "outputs": [],
   "source": [
    "extract_prompt = f\"\"\"\n",
    "    Your task is to generate a short extract of an online course. \n",
    "\n",
    "    Extract the course description below, delimited by triple \\\n",
    "    backticks in at most 50 words. \n",
    "\n",
    "    Description: ```{applied_LLM}```\n",
    "    \"\"\""
   ]
  },
  {
   "cell_type": "code",
   "execution_count": 17,
   "id": "02586b80",
   "metadata": {
    "height": 64
   },
   "outputs": [
    {
     "name": "stdout",
     "output_type": "stream",
     "text": [
      "Join us for a 10-week journey into the world of large language models! Explore their growing significance in natural language processing, machine translation, and more. This course provides a step-by-step guide to using LLMs in real-world scenarios, ensuring a comprehensive understanding of their transformative impact. \n",
      "\n"
     ]
    }
   ],
   "source": [
    "# Extract Description\n",
    "extract_response = get_completion(extract_prompt)\n",
    "print(extract_response, \"\\n\")"
   ]
  },
  {
   "cell_type": "code",
   "execution_count": 21,
   "id": "05ab5e04",
   "metadata": {
    "height": 64
   },
   "outputs": [
    {
     "data": {
      "text/plain": [
       "'Summary: 284, Extract: 320'"
      ]
     },
     "execution_count": 21,
     "metadata": {},
     "output_type": "execute_result"
    }
   ],
   "source": [
    "# redefine summarize and etract prompt to see the difference\n",
    "\n",
    "f\"Summary: {len(summarize_response)}, Extract: {len(extract_response)}\""
   ]
  },
  {
   "cell_type": "markdown",
   "id": "66df59db",
   "metadata": {},
   "source": [
    "## Brief analysis: common words and sentiment using prompt!"
   ]
  },
  {
   "cell_type": "code",
   "execution_count": 30,
   "id": "7c4b2d12",
   "metadata": {
    "height": 64
   },
   "outputs": [],
   "source": [
    "from collections import Counter\n",
    "import re\n",
    "import json"
   ]
  },
  {
   "cell_type": "code",
   "execution_count": 31,
   "id": "e818dad5",
   "metadata": {
    "height": 64
   },
   "outputs": [],
   "source": [
    "def count_words(text):\n",
    "    words = re.findall(r'\\b\\w+\\b', text.lower())\n",
    "    return Counter(words)"
   ]
  },
  {
   "cell_type": "code",
   "execution_count": 32,
   "id": "223307f3",
   "metadata": {
    "height": 47
   },
   "outputs": [],
   "source": [
    "summarize_count = count_words(summarize_response)\n",
    "extract_count = count_words(extract_response)"
   ]
  },
  {
   "cell_type": "markdown",
   "id": "9f1f4275",
   "metadata": {
    "height": 30
   },
   "source": [
    "### Find common words and their counts"
   ]
  },
  {
   "cell_type": "code",
   "execution_count": 35,
   "id": "24f871e7",
   "metadata": {
    "height": 268
   },
   "outputs": [
    {
     "name": "stdout",
     "output_type": "stream",
     "text": [
      "dict_keys(['this', '10', 'week', 'course', 'a', 'comprehensive', 'guide', 'to', 'large', 'language', 'models', 'llms', 'their', 'in', 'natural', 'processing', 'machine', 'translation', 'and', 'more'])\n",
      "{\n",
      "    \"this\": {\n",
      "        \"summarize_count\": 1,\n",
      "        \"extract_count\": 1\n",
      "    },\n",
      "    \"10\": {\n",
      "        \"summarize_count\": 1,\n",
      "        \"extract_count\": 1\n",
      "    },\n",
      "    \"week\": {\n",
      "        \"summarize_count\": 1,\n",
      "        \"extract_count\": 1\n",
      "    },\n",
      "    \"course\": {\n",
      "        \"summarize_count\": 1,\n",
      "        \"extract_count\": 1\n",
      "    },\n",
      "    \"a\": {\n",
      "        \"summarize_count\": 1,\n",
      "        \"extract_count\": 3\n",
      "    },\n",
      "    \"comprehensive\": {\n",
      "        \"summarize_count\": 1,\n",
      "        \"extract_count\": 1\n",
      "    },\n",
      "    \"guide\": {\n",
      "        \"summarize_count\": 1,\n",
      "        \"extract_count\": 1\n",
      "    },\n",
      "    \"to\": {\n",
      "        \"summarize_count\": 2,\n",
      "        \"extract_count\": 1\n",
      "    },\n",
      "    \"large\": {\n",
      "        \"summarize_count\": 1,\n",
      "        \"extract_count\": 1\n",
      "    },\n",
      "    \"language\": {\n",
      "        \"summarize_count\": 2,\n",
      "        \"extract_count\": 2\n",
      "    },\n",
      "    \"models\": {\n",
      "        \"summarize_count\": 1,\n",
      "        \"extract_count\": 1\n",
      "    },\n",
      "    \"llms\": {\n",
      "        \"summarize_count\": 2,\n",
      "        \"extract_count\": 1\n",
      "    },\n",
      "    \"their\": {\n",
      "        \"summarize_count\": 1,\n",
      "        \"extract_count\": 2\n",
      "    },\n",
      "    \"in\": {\n",
      "        \"summarize_count\": 3,\n",
      "        \"extract_count\": 2\n",
      "    },\n",
      "    \"natural\": {\n",
      "        \"summarize_count\": 1,\n",
      "        \"extract_count\": 1\n",
      "    },\n",
      "    \"processing\": {\n",
      "        \"summarize_count\": 1,\n",
      "        \"extract_count\": 1\n",
      "    },\n",
      "    \"machine\": {\n",
      "        \"summarize_count\": 1,\n",
      "        \"extract_count\": 1\n",
      "    },\n",
      "    \"translation\": {\n",
      "        \"summarize_count\": 1,\n",
      "        \"extract_count\": 1\n",
      "    },\n",
      "    \"and\": {\n",
      "        \"summarize_count\": 3,\n",
      "        \"extract_count\": 1\n",
      "    },\n",
      "    \"more\": {\n",
      "        \"summarize_count\": 1,\n",
      "        \"extract_count\": 1\n",
      "    }\n",
      "}\n"
     ]
    }
   ],
   "source": [
    "common_words = {}\n",
    "for word in summarize_count:\n",
    "    if word in extract_count:\n",
    "        common_words[word] = {\n",
    "            \"summarize_count\": summarize_count[word],\n",
    "            \"extract_count\": extract_count[word]\n",
    "        }\n",
    "\n",
    "# Convert to JSON\n",
    "json_output = json.dumps(common_words, indent=4)\n",
    "\n",
    "\n",
    "# Print JSON with count\n",
    "print(json_output)"
   ]
  },
  {
   "cell_type": "markdown",
   "id": "30e7c041",
   "metadata": {
    "height": 30
   },
   "source": [
    "### sentiment: Lets check the sentiment using Prompt"
   ]
  },
  {
   "cell_type": "code",
   "execution_count": 36,
   "id": "6ed17954",
   "metadata": {
    "height": 81
   },
   "outputs": [
    {
     "name": "stdout",
     "output_type": "stream",
     "text": [
      "Positive \n",
      "\n"
     ]
    }
   ],
   "source": [
    "prompt = f\"Analyzing the sentiment of the following text:\\n{summarize_response}\\nSentiment:\"\n",
    "sentiment_response = get_completion(prompt)\n",
    "print(sentiment_response, \"\\n\")"
   ]
  },
  {
   "cell_type": "code",
   "execution_count": 37,
   "id": "9acdbc87",
   "metadata": {
    "height": 81
   },
   "outputs": [
    {
     "name": "stdout",
     "output_type": "stream",
     "text": [
      "Positive \n",
      "\n"
     ]
    }
   ],
   "source": [
    "prompt = f\"Analyzing the sentiment of the following text:\\n{extract_response}\\nSentiment:\"\n",
    "sentiment_response = get_completion(prompt)\n",
    "print(sentiment_response, \"\\n\")"
   ]
  },
  {
   "cell_type": "code",
   "execution_count": null,
   "id": "49c13807",
   "metadata": {
    "height": 30
   },
   "outputs": [],
   "source": []
  }
 ],
 "metadata": {
  "kernelspec": {
   "display_name": "Python 3 (ipykernel)",
   "language": "python",
   "name": "python3"
  },
  "language_info": {
   "codemirror_mode": {
    "name": "ipython",
    "version": 3
   },
   "file_extension": ".py",
   "mimetype": "text/x-python",
   "name": "python",
   "nbconvert_exporter": "python",
   "pygments_lexer": "ipython3",
   "version": "3.12.3"
  }
 },
 "nbformat": 4,
 "nbformat_minor": 5
}
