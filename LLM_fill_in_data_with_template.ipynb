{
  "cells": [
    {
      "metadata": {
        "id": "cbcb2bf496e91ad2"
      },
      "cell_type": "markdown",
      "source": [
        "# Fill JSON: Generate data using LLM to fill the Template"
      ],
      "id": "cbcb2bf496e91ad2"
    },
    {
      "metadata": {
        "ExecuteTime": {
          "end_time": "2024-10-17T06:27:18.133055Z",
          "start_time": "2024-10-17T06:27:18.129699Z"
        },
        "id": "60623ef1498c16dd"
      },
      "cell_type": "code",
      "source": [
        "model = \"llama3.2\"  # LLM Model\n",
        "# model = \"gemma2\""
      ],
      "id": "60623ef1498c16dd",
      "outputs": [],
      "execution_count": null
    },
    {
      "metadata": {
        "id": "157796014b42c31c"
      },
      "cell_type": "markdown",
      "source": [
        "## Template to be filled"
      ],
      "id": "157796014b42c31c"
    },
    {
      "metadata": {
        "ExecuteTime": {
          "end_time": "2024-10-17T06:27:18.140222Z",
          "start_time": "2024-10-17T06:27:18.136061Z"
        },
        "id": "a63221d78c521e09"
      },
      "cell_type": "code",
      "source": [
        "template = {\n",
        "    \"firstName\": \"\",\n",
        "    \"lastName\": \"\",\n",
        "    \"address\": {\n",
        "        \"street\": \"\",\n",
        "        \"city\": \"\",\n",
        "        \"state\": \"\",\n",
        "        \"zipCode\": \"\",\n",
        "    },\n",
        "    \"phoneNumber\": \"\"\n",
        "}"
      ],
      "id": "a63221d78c521e09",
      "outputs": [],
      "execution_count": null
    },
    {
      "metadata": {
        "ExecuteTime": {
          "end_time": "2024-10-17T06:27:18.293317Z",
          "start_time": "2024-10-17T06:27:18.289201Z"
        },
        "id": "8dd12ce917a23b03",
        "outputId": "a926d1ce-830c-4dcc-b441-1776b5f130ec"
      },
      "cell_type": "code",
      "source": [
        "template"
      ],
      "id": "8dd12ce917a23b03",
      "outputs": [
        {
          "data": {
            "text/plain": [
              "{'firstName': '',\n",
              " 'lastName': '',\n",
              " 'address': {'street': '', 'city': '', 'state': '', 'zipCode': ''},\n",
              " 'phoneNumber': ''}"
            ]
          },
          "execution_count": 3,
          "metadata": {},
          "output_type": "execute_result"
        }
      ],
      "execution_count": null
    },
    {
      "metadata": {
        "ExecuteTime": {
          "end_time": "2024-10-17T06:27:18.766445Z",
          "start_time": "2024-10-17T06:27:18.402099Z"
        },
        "id": "8e10164d720bf60a"
      },
      "cell_type": "code",
      "source": [
        "import json\n",
        "\n",
        "import requests"
      ],
      "id": "8e10164d720bf60a",
      "outputs": [],
      "execution_count": null
    },
    {
      "metadata": {
        "id": "673ec3e5bb342e9c"
      },
      "cell_type": "markdown",
      "source": [
        "## Prompt: change (prompt|model) and see the differences"
      ],
      "id": "673ec3e5bb342e9c"
    },
    {
      "metadata": {
        "ExecuteTime": {
          "end_time": "2024-10-17T06:27:19.001833Z",
          "start_time": "2024-10-17T06:27:18.998953Z"
        },
        "id": "63d08507977176cc"
      },
      "cell_type": "code",
      "source": [
        "prompt = (\n",
        "    f\"Generate realistic sample data set of a persons first name, last name, address in the nepal, and  phone number. \\n\"\n",
        "    f\"'lastName' and 'phoneNumber' should be unique.\\n\"\n",
        "    f\"'state' can contain values like Koshi, Madhesh, Bagmati, Gandaki, Lumbini, Karnali, Sudurpashchim \\n\"\n",
        "    f\"Use the following template: {json.dumps(template)}.\"\n",
        ")"
      ],
      "id": "63d08507977176cc",
      "outputs": [],
      "execution_count": null
    },
    {
      "metadata": {
        "ExecuteTime": {
          "end_time": "2024-10-17T06:27:20.782611Z",
          "start_time": "2024-10-17T06:27:20.779683Z"
        },
        "id": "152a39f003390c73"
      },
      "cell_type": "code",
      "source": [
        "data = {\n",
        "    \"prompt\": prompt,\n",
        "    \"model\": model,\n",
        "    \"format\": \"json\",\n",
        "    \"stream\": False,\n",
        "}"
      ],
      "id": "152a39f003390c73",
      "outputs": [],
      "execution_count": null
    },
    {
      "metadata": {
        "ExecuteTime": {
          "end_time": "2024-10-17T06:27:33.551218Z",
          "start_time": "2024-10-17T06:27:21.515506Z"
        },
        "id": "3e046f24847d4a54",
        "outputId": "bc366190-df55-4be1-bd70-afad673a245a"
      },
      "cell_type": "code",
      "source": [
        "print(f\"Generating a sample user using {model}\")\n",
        "\n",
        "jsons = []\n",
        "for i in range(3):\n",
        "    response = requests.post(\"http://localhost:11434/api/generate\", json=data, stream=False)\n",
        "    json_data = json.loads(response.text)\n",
        "    print(json.dumps(json.loads(json_data[\"response\"]), indent=2))"
      ],
      "id": "3e046f24847d4a54",
      "outputs": [
        {
          "name": "stdout",
          "output_type": "stream",
          "text": [
            "Generating a sample user using llama3.2\n",
            "{\n",
            "  \"firstName\": \"Ramesh\",\n",
            "  \"lastName\": \"Karnakar\",\n",
            "  \"address\": {\n",
            "    \"street\": \"Bharatpur Road\",\n",
            "    \"city\": \"Birgunj\",\n",
            "    \"state\": \"Madhesh\",\n",
            "    \"zipCode\": \"44411\"\n",
            "  },\n",
            "  \"phoneNumber\": \"977-9850325678\"\n",
            "}\n",
            "{\n",
            "  \"firstName\": \"Raj\",\n",
            "  \"lastName\": \"Shrestha\",\n",
            "  \"address\": {\n",
            "    \"street\": \"New Road\",\n",
            "    \"city\": \"Kathmandu\",\n",
            "    \"state\": \"Bagmati\",\n",
            "    \"zipCode\": \"44600\"\n",
            "  },\n",
            "  \"phoneNumber\": \"9843256789\"\n",
            "}\n",
            "{\n",
            "  \"firstName\": \"Raju\",\n",
            "  \"lastName\": \"Thapa\",\n",
            "  \"address\": {\n",
            "    \"street\": \"Kathmandu\",\n",
            "    \"city\": \"\",\n",
            "    \"state\": \"Bagmati\",\n",
            "    \"zipCode\": \"44312\"\n",
            "  },\n",
            "  \"phoneNumber\": \"9779851234567\"\n",
            "}\n"
          ]
        }
      ],
      "execution_count": null
    }
  ],
  "metadata": {
    "kernelspec": {
      "display_name": "Python 3",
      "language": "python",
      "name": "python3"
    },
    "language_info": {
      "codemirror_mode": {
        "name": "ipython",
        "version": 2
      },
      "file_extension": ".py",
      "mimetype": "text/x-python",
      "name": "python",
      "nbconvert_exporter": "python",
      "pygments_lexer": "ipython2",
      "version": "2.7.6"
    },
    "colab": {
      "provenance": []
    }
  },
  "nbformat": 4,
  "nbformat_minor": 5
}