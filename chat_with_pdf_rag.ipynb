{
  "cells": [
    {
      "cell_type": "markdown",
      "metadata": {
        "id": "view-in-github",
        "colab_type": "text"
      },
      "source": [
        "<a href=\"https://colab.research.google.com/github/anishchapagain/OpenLLM/blob/main/chat_with_pdf_rag.ipynb\" target=\"_parent\"><img src=\"https://colab.research.google.com/assets/colab-badge.svg\" alt=\"Open In Colab\"/></a>"
      ]
    },
    {
      "cell_type": "markdown",
      "id": "2349b52f",
      "metadata": {
        "id": "2349b52f"
      },
      "source": [
        "## Implementing RAG\n",
        "Chat with your document"
      ]
    },
    {
      "cell_type": "markdown",
      "id": "c862b827",
      "metadata": {
        "id": "c862b827"
      },
      "source": [
        "Step 1: Load the Document"
      ]
    },
    {
      "cell_type": "code",
      "execution_count": null,
      "id": "0bf2f068",
      "metadata": {
        "id": "0bf2f068"
      },
      "outputs": [],
      "source": [
        "from langchain.document_loaders import PyPDFLoader"
      ]
    },
    {
      "cell_type": "markdown",
      "id": "4564ed74",
      "metadata": {
        "id": "4564ed74"
      },
      "source": [
        "Provide doument path and load the object"
      ]
    },
    {
      "cell_type": "code",
      "execution_count": null,
      "id": "746551df",
      "metadata": {
        "id": "746551df"
      },
      "outputs": [],
      "source": [
        "pdf_obj = PyPDFLoader(\"sample_data/Six Python Web frameworks compared.pdf\")\n",
        "pdf_doc = pdf_obj.load()"
      ]
    },
    {
      "cell_type": "code",
      "execution_count": null,
      "id": "o-Mh_bG8VPg8",
      "metadata": {
        "id": "o-Mh_bG8VPg8"
      },
      "outputs": [],
      "source": [
        "pdf_doc2 = PyPDFLoader(\"sample_data/django-tutorial.pdf\").load()"
      ]
    },
    {
      "cell_type": "markdown",
      "id": "a9338859",
      "metadata": {
        "id": "a9338859"
      },
      "source": [
        "explore the object"
      ]
    },
    {
      "cell_type": "code",
      "execution_count": null,
      "id": "c86c378c",
      "metadata": {
        "colab": {
          "base_uri": "https://localhost:8080/"
        },
        "id": "c86c378c",
        "outputId": "97786879-1287-48cf-e0e1-a4a51307e450"
      },
      "outputs": [
        {
          "name": "stdout",
          "output_type": "stream",
          "text": [
            "['__add__', '__class__', '__class_getitem__', '__contains__', '__delattr__', '__delitem__', '__dir__', '__doc__', '__eq__', '__format__', '__ge__', '__getattribute__', '__getitem__', '__gt__', '__hash__', '__iadd__', '__imul__', '__init__', '__init_subclass__', '__iter__', '__le__', '__len__', '__lt__', '__mul__', '__ne__', '__new__', '__reduce__', '__reduce_ex__', '__repr__', '__reversed__', '__rmul__', '__setattr__', '__setitem__', '__sizeof__', '__str__', '__subclasshook__', 'append', 'clear', 'copy', 'count', 'extend', 'index', 'insert', 'pop', 'remove', 'reverse', 'sort']\n"
          ]
        }
      ],
      "source": [
        "print(dir(pdf_doc))"
      ]
    },
    {
      "cell_type": "code",
      "execution_count": null,
      "id": "27783187",
      "metadata": {
        "colab": {
          "base_uri": "https://localhost:8080/"
        },
        "id": "27783187",
        "outputId": "85acae44-636b-4705-9074-3765356ade18"
      },
      "outputs": [
        {
          "data": {
            "text/plain": [
              "6"
            ]
          },
          "execution_count": 13,
          "metadata": {},
          "output_type": "execute_result"
        }
      ],
      "source": [
        "len(pdf_doc) #  Length of doc (total pages)"
      ]
    },
    {
      "cell_type": "code",
      "execution_count": null,
      "id": "431079a3",
      "metadata": {
        "colab": {
          "base_uri": "https://localhost:8080/"
        },
        "id": "431079a3",
        "outputId": "3909ed69-5342-4003-b087-78752dd33c7b"
      },
      "outputs": [
        {
          "name": "stdout",
          "output_type": "stream",
          "text": [
            "First page: {'source': 'sample_data/Six Python Web frameworks compared.pdf', 'page': 0} and \n",
            "last page:{'source': 'sample_data/Six Python Web frameworks compared.pdf', 'page': 5}\n"
          ]
        }
      ],
      "source": [
        "# check some meta data from about page\n",
        "\n",
        "print(f\"First page: {pdf_doc[0].metadata} and \\nlast page:{pdf_doc[len(pdf_doc)-1].metadata}\")"
      ]
    },
    {
      "cell_type": "code",
      "execution_count": null,
      "id": "e049a076",
      "metadata": {
        "id": "e049a076",
        "outputId": "78c9c9e7-1fbd-48e0-9737-4030b5a5c433"
      },
      "outputs": [
        {
          "data": {
            "text/plain": [
              "'[11] http://www.infoworld.com/d/application-development/pillars-python-django-web-framework-168643[12] http://www.infoworld.com/d/application-development/pillars-python-cubicweb-web-framework-169105[1'"
            ]
          },
          "execution_count": 19,
          "metadata": {},
          "output_type": "execute_result"
        }
      ],
      "source": [
        "# Lets print some content from the last page\n",
        "\n",
        "pdf_doc[5].page_content[:200]"
      ]
    },
    {
      "cell_type": "code",
      "execution_count": null,
      "id": "d148127a",
      "metadata": {
        "id": "d148127a",
        "outputId": "15818223-2c8c-4656-f38f-1260bcc9037d"
      },
      "outputs": [
        {
          "data": {
            "text/plain": [
              "'Published on InfoWorld (http://www.infoworld.com)Home > Test Center > Application Development > Pillars of Python: Six Python Webframeworks... > Pillars of Python: Six Python Web frameworks comparedPi'"
            ]
          },
          "execution_count": 20,
          "metadata": {},
          "output_type": "execute_result"
        }
      ],
      "source": [
        "# Lets print some content from the first page\n",
        "\n",
        "pdf_doc[0].page_content[:200]"
      ]
    },
    {
      "cell_type": "markdown",
      "id": "0b9836ad",
      "metadata": {
        "id": "0b9836ad"
      },
      "source": [
        "Step 2: Break documents into chunks, split documents."
      ]
    },
    {
      "cell_type": "code",
      "execution_count": null,
      "id": "6c795ff1",
      "metadata": {
        "id": "6c795ff1"
      },
      "outputs": [],
      "source": [
        "from langchain.text_splitter import CharacterTextSplitter, RecursiveCharacterTextSplitter\n",
        "\n",
        "# Various types of splitter are available for the types of documents\n",
        "\n",
        "# text_splitter = CharacterTextSplitter(\n",
        "#     separator=\"\\n\",\n",
        "#     chunk_size=500,\n",
        "#     chunk_overlap=150,\n",
        "#     length_function=len\n",
        "# )\n",
        "\n",
        "# RecursiveCharacterTextSplitter handles generic text effectively by trying to keep semantically related pieces of text together. It uses a list of characters (like newlines and spaces) to recursively split the text into smaller parts\n",
        "text_splitter = RecursiveCharacterTextSplitter(\n",
        "    chunk_size = 1000,\n",
        "    chunk_overlap = 100\n",
        ")"
      ]
    },
    {
      "cell_type": "code",
      "execution_count": null,
      "id": "210313b2",
      "metadata": {
        "id": "210313b2"
      },
      "outputs": [],
      "source": [
        "texts = text_splitter.split_documents(pdf_doc)"
      ]
    },
    {
      "cell_type": "code",
      "execution_count": null,
      "id": "fAPKd19SVjme",
      "metadata": {
        "id": "fAPKd19SVjme"
      },
      "outputs": [],
      "source": [
        "text_splitter2 = RecursiveCharacterTextSplitter(\n",
        "    chunk_size = 2000,\n",
        "    chunk_overlap = 200\n",
        ")\n",
        "texts2 = text_splitter.split_documents(pdf_doc2)"
      ]
    },
    {
      "cell_type": "code",
      "execution_count": null,
      "id": "e948666f",
      "metadata": {
        "id": "e948666f"
      },
      "outputs": [],
      "source": [
        "# texts"
      ]
    },
    {
      "cell_type": "code",
      "execution_count": null,
      "id": "657a185d",
      "metadata": {
        "colab": {
          "base_uri": "https://localhost:8080/"
        },
        "id": "657a185d",
        "outputId": "ee5d0a49-b089-4006-c047-4c450ff216c0"
      },
      "outputs": [
        {
          "data": {
            "text/plain": [
              "17"
            ]
          },
          "execution_count": 18,
          "metadata": {},
          "output_type": "execute_result"
        }
      ],
      "source": [
        "len(texts)"
      ]
    },
    {
      "cell_type": "code",
      "execution_count": null,
      "id": "3910296e",
      "metadata": {
        "colab": {
          "base_uri": "https://localhost:8080/"
        },
        "id": "3910296e",
        "outputId": "5939d36f-9552-4741-9212-cf44e486f324"
      },
      "outputs": [
        {
          "data": {
            "text/plain": [
              "{'source': 'sample_data/Six Python Web frameworks compared.pdf', 'page': 0}"
            ]
          },
          "execution_count": 19,
          "metadata": {},
          "output_type": "execute_result"
        }
      ],
      "source": [
        "texts[0].metadata"
      ]
    },
    {
      "cell_type": "markdown",
      "id": "8ccc7320",
      "metadata": {
        "id": "8ccc7320"
      },
      "source": [
        "Step 3: Embeddings and Vectors\n",
        " - Embedding models create a vector representation of a piece of text"
      ]
    },
    {
      "cell_type": "code",
      "execution_count": null,
      "id": "96e7f8a2",
      "metadata": {
        "id": "96e7f8a2"
      },
      "outputs": [],
      "source": [
        "# !pip install -U sentence-transformers\n",
        "# !pip install -U langchain-huggingface"
      ]
    },
    {
      "cell_type": "code",
      "execution_count": null,
      "id": "znttUG6L6QOf",
      "metadata": {
        "id": "znttUG6L6QOf"
      },
      "outputs": [],
      "source": [
        "from langchain_huggingface import HuggingFaceEmbeddings"
      ]
    },
    {
      "cell_type": "code",
      "execution_count": null,
      "id": "1f90061a",
      "metadata": {
        "colab": {
          "base_uri": "https://localhost:8080/"
        },
        "id": "1f90061a",
        "outputId": "2aac9f2d-1f0d-43f3-a2e4-070f0338f627"
      },
      "outputs": [
        {
          "name": "stderr",
          "output_type": "stream",
          "text": [
            "/usr/local/lib/python3.10/dist-packages/huggingface_hub/file_download.py:1132: FutureWarning: `resume_download` is deprecated and will be removed in version 1.0.0. Downloads always resume when possible. If you want to force a new download, use `force_download=True`.\n",
            "  warnings.warn(\n"
          ]
        }
      ],
      "source": [
        "embeddings_model = HuggingFaceEmbeddings(model_name='sentence-transformers/all-mpnet-base-v2') # uses default or provide model name\n",
        "#embeddings_model = SentenceTransformer('sentence-transformers/all-mpnet-base-v2')\n",
        "#embeddings = embeddings_model.encode(texts)\n"
      ]
    },
    {
      "cell_type": "code",
      "execution_count": null,
      "id": "1NUjtePl7RHl",
      "metadata": {
        "colab": {
          "base_uri": "https://localhost:8080/"
        },
        "id": "1NUjtePl7RHl",
        "outputId": "1d3f4ea2-8b02-4e2a-81f7-38726dbcf8b7"
      },
      "outputs": [
        {
          "data": {
            "text/plain": [
              "HuggingFaceEmbeddings(client=SentenceTransformer(\n",
              "  (0): Transformer({'max_seq_length': 384, 'do_lower_case': False}) with Transformer model: MPNetModel \n",
              "  (1): Pooling({'word_embedding_dimension': 768, 'pooling_mode_cls_token': False, 'pooling_mode_mean_tokens': True, 'pooling_mode_max_tokens': False, 'pooling_mode_mean_sqrt_len_tokens': False, 'pooling_mode_weightedmean_tokens': False, 'pooling_mode_lasttoken': False, 'include_prompt': True})\n",
              "  (2): Normalize()\n",
              "), model_name='sentence-transformers/all-mpnet-base-v2', cache_folder=None, model_kwargs={}, encode_kwargs={}, multi_process=False, show_progress=False)"
            ]
          },
          "execution_count": 37,
          "metadata": {},
          "output_type": "execute_result"
        }
      ],
      "source": [
        "embeddings_model"
      ]
    },
    {
      "cell_type": "code",
      "execution_count": null,
      "id": "tV7IXplu7gai",
      "metadata": {
        "id": "tV7IXplu7gai"
      },
      "outputs": [],
      "source": [
        "embeddings = embeddings_model.embed_documents([t.page_content for t in texts])"
      ]
    },
    {
      "cell_type": "code",
      "execution_count": null,
      "id": "bg5TiPF9bvZ8",
      "metadata": {
        "id": "bg5TiPF9bvZ8"
      },
      "outputs": [],
      "source": [
        "embeddings2 = embeddings_model.embed_documents([t.page_content for t in texts2])"
      ]
    },
    {
      "cell_type": "code",
      "execution_count": null,
      "id": "UgF1VdzA712v",
      "metadata": {
        "colab": {
          "base_uri": "https://localhost:8080/"
        },
        "id": "UgF1VdzA712v",
        "outputId": "73ff4df3-9c04-4750-e9bd-1ef93fdcf9fa"
      },
      "outputs": [
        {
          "name": "stdout",
          "output_type": "stream",
          "text": [
            "[0.04003842547535896, 0.007408869918435812, 0.009532025083899498, -0.028926415368914604, 0.03152168542146683, 0.038307320326566696, 0.00893806666135788, 0.03869820013642311, 0.03240501880645752, -0.035013433545827866, -0.0038236205000430346, -0.019508637487888336, -0.0114468764513731, 0.07430919259786606, 0.01589842699468136, -0.04424750432372093, -0.024317588657140732, 0.009504065848886967, 0.013484138995409012, 0.04304581880569458, 0.0022763381712138653, 0.010166814550757408, -0.04432743042707443, 0.041128940880298615, -0.00927024520933628, 0.000900412502232939, -0.02456771209836006, 0.02430560812354088, -0.035833101719617844, -0.04800298064947128, -0.023996848613023758, -0.02775401622056961, 0.006136573851108551, 0.007041544653475285, 2.528028289816575e-06, -0.019529063254594803, 0.00889536552131176, 0.02000272087752819, -0.015706155449151993, 0.019952429458498955, 0.05538599565625191, 0.015849625691771507, 0.010400401428341866, 0.04181225970387459, 0.015592016279697418, -0.029455896466970444, 0.038263317197561264, 0.032458726316690445, 0.04783811792731285, -0.0056522078812122345, 0.010287297889590263, 0.009152169339358807, -0.03781368210911751, 0.016982993111014366, -0.05966179817914963, -0.001376541331410408, 0.012400458566844463, -0.08013758808374405, 0.011929798871278763, -0.06625226885080338, 0.048827946186065674, -0.029698438942432404, -0.01874852553009987, -0.003912243060767651, 0.028234928846359253, 0.005239434074610472, -0.04544481262564659, -0.09357765316963196, -0.05401385575532913, -0.016108084470033646, 0.036685872822999954, -0.04570601508021355, -0.024466346949338913, -0.008418661542236805, -0.027575183659791946, 0.02196461148560047, -0.07014932483434677, 0.07223470509052277, 0.05572465807199478, -0.009717706590890884, -0.025523195043206215, -0.02964896708726883, -0.03231174871325493, 0.021043507382273674, 0.009635407477617264, 0.03700459375977516, 0.04111964628100395, 0.011129160411655903, -0.03482862934470177, 0.044661469757556915, 0.07302244007587433, -0.02207939140498638, 0.05157749354839325, 0.055957041680812836, 0.01011947076767683, -0.048362936824560165, 0.007535245735198259, 0.05454497039318085, 0.05227545276284218, -0.0009901791345328093, 0.0066878353245556355, 0.020269587635993958, -0.01231270469725132, -0.010373366996645927, 0.0110907182097435, -0.019925592467188835, -0.04427069425582886, -0.040470805019140244, 0.0442793071269989, -0.0020591611973941326, -0.009069344960153103, 0.049990762025117874, 0.02825107052922249, 0.04777095839381218, 0.04362676292657852, -0.036363061517477036, 0.010450837202370167, 0.09689627587795258, 0.0029220054857432842, 0.07704094052314758, 0.0056966207921504974, 0.02607596665620804, 0.015897763893008232, 0.071109838783741, -0.033263854682445526, 0.02795020304620266, 0.01609920710325241, -0.019945800304412842, 0.0074588097631931305, -0.084389828145504, 0.001809563604183495, 0.03709559887647629, 0.04903024062514305, -0.008767274208366871, 0.006003251764923334, 0.06415306031703949, 0.002556747756898403, 0.041529737412929535, -0.043690361082553864, -0.0033178941812366247, 0.06780222803354263, 0.04679466411471367, -0.05504356697201729, -0.0474570207297802, -0.03920489177107811, 0.060613296926021576, 0.0026254714466631413, 0.025498811155557632, 0.013774421997368336, -0.022371474653482437, 0.01006033830344677, -0.04644903540611267, -0.03155217319726944, -0.002472426276654005, 0.008280196227133274, 0.0005023048142902553, 0.039906859397888184, -0.06110173836350441, -0.02915964461863041, 0.0323634073138237, -0.0035133783239871264, -0.007580380421131849, 0.005076511297374964, -0.04193124547600746, -0.04481174051761627, 0.0293442215770483, 0.05309534817934036, 0.027235962450504303, 0.0351799875497818, -0.007163708563894033, -0.10093741863965988, 0.016747334972023964, -0.0025187707506120205, 0.0393214076757431, 0.0041345530189573765, -0.017935020849108696, 0.01967812143266201, -0.009202428162097931, 0.040794871747493744, 0.03982314094901085, 0.033791784197092056, -0.03267115727066994, 0.0001461939245928079, 0.06091964989900589, -0.04728555679321289, -0.033396944403648376, -0.07328049093484879, 0.04198171943426132, 0.004906286019831896, 0.0045199026353657246, -0.014286389574408531, -0.04155201092362404, 0.03196687251329422, 0.059999171644449234, 0.03689774498343468, 0.0015954920090734959, -0.004626111127436161, -0.010581436567008495, 0.03938828408718109, -0.06196406111121178, -0.033911317586898804, -0.01063725259155035, -0.04501090571284294, 0.08844731003046036, 0.054136741906404495, -0.06286119669675827, -0.07417090982198715, -0.05560678616166115, -0.05078958719968796, 0.04071490466594696, 0.052810609340667725, -0.03699573874473572, -0.002935587428510189, 0.006270513404160738, -0.03428458794951439, -0.027846647426486015, 0.009682659059762955, -0.04797280207276344, 0.03804711624979973, 0.029372183606028557, 0.011947331950068474, 0.04885953664779663, -0.0059934272430837154, 0.04047221690416336, 0.009718229994177818, -0.0214755367487669, -0.058339159935712814, 0.016490519046783447, 0.035802725702524185, 0.016643667593598366, -0.012779753655195236, 0.0005399208166636527, 0.01516223605722189, 0.060394685715436935, -0.004185971803963184, -0.09508473426103592, 0.05815659463405609, 0.07374601811170578, 0.003710468066856265, 0.026768222451210022, 0.05149051919579506, 0.02385741099715233, -0.007839072495698929, -0.020485129207372665, 0.017373571172356606, 0.018372198566794395, 0.02993469126522541, 0.033620476722717285, 0.02328299917280674, 0.016564685851335526, 0.05723004415631294, 0.03617039695382118, -0.04836296662688255, 0.07478075474500656, -0.022610636427998543, 0.017895322293043137, -0.014500721357762814, 0.026233913376927376, -0.0041743856854736805, -0.023683689534664154, 0.002515556989237666, -0.03981204703450203, 0.04854496195912361, 0.002835056046023965, 0.01728661172091961, -0.010475055314600468, 0.04417845234274864, -0.0705881342291832, 0.0318140983581543, -0.0023403787054121494, -0.032335516065359116, 0.04614536091685295, 0.019490757957100868, 0.003303416073322296, -0.03221919387578964, 0.028029603883624077, -0.008280139416456223, -0.08526616543531418, 0.004312553443014622, -0.007539184298366308, 0.005694163031876087, -0.005198234226554632, -0.03461702540516853, -0.014011085033416748, -0.008586214855313301, 0.022003445774316788, 0.02142392098903656, -0.0325077623128891, 0.03856400027871132, -0.014241271652281284, -0.04958804324269295, -0.025895681232213974, 0.02739599533379078, -0.015829771757125854, -0.006215052213519812, -0.023978129029273987, -0.055992189794778824, 0.0037424680776894093, 0.0051716226153075695, 0.04362777993083, 0.04287181422114372, 0.013411309570074081, 0.01762295514345169, 0.0032411799766123295, -0.028774594888091087, 0.010567553341388702, 0.046303197741508484, -0.005171691067516804, 0.013612681068480015, -0.001084312447346747, 0.004983826540410519, 0.005573631729930639, -0.00931453239172697, -0.0038287683855742216, 0.02792092226445675, 0.05179811641573906, 0.035018447786569595, 0.03478960320353508, 0.03192059323191643, 0.00736286910250783, 0.04284636303782463, 0.01332482136785984, 0.037423256784677505, -0.016593679785728455, 0.03083844669163227, -0.014500211924314499, -0.07461602240800858, -0.048925574868917465, 0.004999036435037851, 0.011787190102040768, 0.009736672975122929, 0.0004337473656050861, -0.02306833490729332, -0.047280240803956985, -0.007078332360833883, 0.08752091228961945, -0.004473925102502108, -0.004682999104261398, 0.03694962337613106, 0.011492275632917881, -0.047646842896938324, -0.008619518019258976, -0.02448290027678013, 0.026984289288520813, -0.03005913458764553, 0.016786828637123108, -0.05003105476498604, -0.011985169723629951, 0.043367043137550354, -0.04101801663637161, 0.0816352590918541, 0.04962414875626564, 0.031021032482385635, 0.03298038989305496, 0.028854653239250183, -0.025371583178639412, -0.07407933473587036, -0.054964981973171234, -0.028227562084794044, 0.01223195530474186, -0.02331063337624073, 0.008661200292408466, 0.020733820274472237, -0.010623611509799957, 0.0048522138968110085, 0.003572627669200301, 0.002472960390150547, -0.09364808350801468, -0.03796597570180893, 0.00686828326433897, -0.10394813120365143, -0.0788550078868866, 0.05964408442378044, 0.0006489033694379032, 0.05246657133102417, 0.00793933030217886, -0.0011230901582166553, -0.021877773106098175, -0.013526716269552708, 0.08066461235284805, -0.005252792499959469, -0.05191017687320709, -0.016580946743488312, 0.004348248243331909, 0.02995447814464569, -0.015642980113625526, 0.010304059833288193, 0.03309641405940056, 0.04256116971373558, 0.0032209372147917747, -0.02816898003220558, 0.05783425271511078, 0.05794728919863701, -0.07346832752227783, 0.022243965417146683, 0.0011559269623830914, -0.075528584420681, 0.08760596811771393, -0.04550572484731674, 0.009005347266793251, -0.0333995595574379, -0.05850014090538025, -0.055914055556058884, -0.01403575949370861, 0.019260317087173462, -0.021130215376615524, 0.00042950297938659787, 0.05851602181792259, -0.04751424118876457, 0.0482952706515789, -0.04685851186513901, -0.04550879821181297, -0.026164570823311806, -0.07154319435358047, 0.007021872792392969, 0.047110240906476974, -0.06155140697956085, 0.02051372639834881, -0.014200697652995586, -0.018083302304148674, -0.006822479888796806, -0.0063941325061023235, -0.0012538477312773466, -0.033743686974048615, 0.018653886392712593, -0.03289336711168289, -0.04635404795408249, -0.01141924038529396, 0.028239423409104347, 0.02992085926234722, -0.006826658733189106, -0.08618682622909546, -0.0016253815265372396, -0.03837745636701584, 0.030554255470633507, 0.0012094847625121474, -0.01806453987956047, 0.008979293517768383, -0.06534517556428909, -0.07291126251220703, 0.0325249582529068, 0.021306248381733894, -0.031596891582012177, -0.003575680311769247, -0.012214673683047295, -0.037169672548770905, 0.017634835094213486, -0.08441910147666931, -0.03555375710129738, 0.017528897151350975, 0.010670507326722145, -0.05195073038339615, -0.06334396451711655, 0.007893978618085384, -0.06610912829637527, -0.020120443776249886, 0.036880478262901306, 0.022780176252126694, 0.010665789246559143, 0.02362336777150631, -0.0073991017416119576, 0.009989595972001553, -0.09058432281017303, 0.017001233994960785, -0.018594317138195038, -0.003953893668949604, -0.019072825089097023, -0.0576825812458992, -0.00997969787567854, -0.03690800815820694, 0.01811509020626545, 0.01683489978313446, -0.035139307379722595, -0.047902267426252365, -0.0009120709728449583, -0.002666761865839362, 0.01585124246776104, 0.06173630803823471, -0.022156301885843277, 0.017977790907025337, 0.09237786382436752, -0.034461911767721176, 0.03270571306347847, -0.09492276608943939, 0.04334882274270058, 0.011910255067050457, 0.0035791208501905203, -0.040151480585336685, -0.014613192528486252, 0.0027336308266967535, 0.011737149208784103, 0.027729088440537453, 0.06101621314883232, 0.057662807404994965, 0.036380965262651443, 0.03347939997911453, 0.016560489311814308, 0.0775982141494751, 0.014002988114953041, -0.037432923913002014, 0.03829933702945709, -0.01011277548968792, -0.05503568798303604, -0.06859483569860458, -0.006333424709737301, 0.015947123989462852, 0.0050626276060938835, 0.003287490690127015, -0.01759612001478672, -0.02728300541639328, 0.01144885178655386, 0.01028451882302761, -0.013354431837797165, -0.05603591352701187, 0.022677840664982796, 0.038772229105234146, -0.043293651193380356, 0.05645974352955818, 0.03910541161894798, -0.05513141304254532, -0.015861395746469498, -0.07352069765329361, 0.012790745124220848, 0.010548753663897514, 0.0008123571169562638, -0.029516706243157387, -0.007275084964931011, -0.02838701196014881, 0.021871406584978104, 0.02552051469683647, -0.009203478693962097, -0.041116274893283844, -0.001346489996649325, -0.06042545288801193, -0.05831266939640045, -0.0053749363869428635, 0.025162098929286003, 0.01945341005921364, -0.037006840109825134, 0.009637794457376003, -0.005152654368430376, -0.06658113747835159, -0.03079148940742016, -0.014368060976266861, -0.0057877441868186, -0.013966774567961693, 0.010205341503024101, 0.0165853314101696, -0.004884377587586641, 0.06804206967353821, -0.026380999013781548, 0.017329998314380646, -0.004759390838444233, 0.002566997427493334, 0.02257450670003891, -6.341424680701609e-33, -0.01984993927180767, 0.040795035660266876, -0.009100846946239471, -0.008964281529188156, 0.019370075315237045, -0.02226199209690094, 0.0135112926363945, 0.027890952304005623, -0.04718243330717087, -0.008340911008417606, 0.04174962639808655, -0.004649019334465265, 0.02682625688612461, 0.0019160700030624866, -0.027846429497003555, 0.04193006828427315, 0.0011047532316297293, 0.03200075402855873, -0.024258092045783997, 0.032666850835084915, 0.027656547725200653, 0.0024726795963943005, 0.0314861424267292, 0.02868938073515892, -0.044470395892858505, -0.0035693407990038395, -0.009813217446208, -0.030059585347771645, 0.0044302549213171005, 0.004431270994246006, -0.015876471996307373, 0.0321945995092392, -0.010003882460296154, 0.022472277283668518, 0.020436465740203857, -0.020999664440751076, -0.033744409680366516, -0.011652518063783646, -0.02095933072268963, 0.0017729088431224227, 0.020037155598402023, 0.06491784006357193, 0.07873760908842087, -0.06392943859100342, 0.02452615275979042, 0.02188299037516117, 0.008289756253361702, -0.04391089081764221, -0.004549724515527487, -0.004318901803344488, -0.032642196863889694, -3.740981992450543e-05, -0.003284613834694028, -0.006119195371866226, 0.01651941053569317, -0.026701543480157852, -0.030923886224627495, 0.008666333742439747, 0.029552260413765907, 0.0004750978259835392, -0.03981766104698181, 0.031227605417370796, 0.009298446588218212, 0.004826285410672426, -0.027410078793764114, -0.030667206272482872, 0.03080042637884617, -0.03450455889105797, 0.02375148981809616, 0.004860129207372665, -0.031895093619823456, 0.027339758351445198, 0.0507802851498127, -0.05379162356257439, -0.10463882982730865, -0.015279654413461685, -0.010328755713999271, -0.02300865761935711, 0.06396268308162689, 0.007636794820427895, -0.03778225556015968, -0.00784450862556696, 0.001731832860969007, 0.004900718107819557, 0.008638816885650158, 0.07045016437768936, -0.028040099889039993, 0.017243405804038048, -0.0025551998987793922, -0.017299991101026535, -0.04454902559518814, 0.05066001042723656, -0.03466196358203888, -0.01345386728644371, -0.03981913626194, 0.066302090883255, -0.036008697003126144, 0.02990538254380226, -0.0016310884384438396, -0.012438260950148106, 0.043996695429086685, 0.04579801484942436, -0.04973788186907768, -0.0452229268848896, 0.0038560882676392794, -0.008428861387073994, -0.03045509196817875, 0.02817162312567234, -0.034954700618982315, -0.004963904619216919, -0.03580538183450699, 0.040315669029951096, 0.00173023936804384, 0.017476212233304977, -0.0003758439270313829, -0.03138480335474014, 0.020346296951174736, -0.0033984528854489326, 0.02034013345837593, -0.03237476199865341, -0.038905639201402664, -0.022086547687649727, -0.017261480912566185, -0.05325779691338539, -0.05050229653716087, 0.012236963026225567, -0.010923360474407673, 0.03510623425245285, -0.02514222450554371, 0.006671143230050802, -0.03561737388372421, 0.017798256129026413, 3.0282026841632614e-07, 0.00870134774595499, 0.046469561755657196, 0.009471956640481949, 0.013117140159010887, 0.010945472866296768, 0.02616526372730732, -0.024320626631379128, -0.0035706860944628716, -0.02947569638490677, 0.016930438578128815, -0.04431149363517761, -0.006656247656792402, 0.023765351623296738, 0.02374841645359993, 0.014659000560641289, 0.0721789002418518, -0.03513515368103981, -0.02588813379406929, -0.04755846783518791, 0.024867553263902664, 0.036084264516830444, -0.008765153586864471, 0.07785990089178085, -0.005939061753451824, 0.03146152198314667, 0.009137807413935661, -0.03155669569969177, -0.013727616518735886, 0.07037077844142914, 0.07262951880693436, -0.021595938131213188, 0.04011894389986992, 0.02817264012992382, 0.009154760278761387, -0.035535022616386414, -0.061826471239328384, 0.013950134627521038, -0.003643011674284935, -0.008317776024341583, 0.07070426642894745, 0.04340197518467903, -0.0669255182147026, 0.048711929470300674, -0.09220857918262482, 0.040123049169778824, 0.04559936746954918, -0.039409883320331573, 0.013142195530235767, -0.049070097506046295, -0.005847019609063864, -0.03880937770009041, 0.005159685388207436, -0.01777893491089344, -0.020146885886788368, -0.04608101397752762, 0.0014134186785668135, -0.04492479935288429, -0.015128426253795624, 0.018998052924871445, -0.025557223707437515, 0.0013487102696672082, -0.00039214917342178524, -0.016467880457639694, -0.04816550016403198, 0.006741701625287533, 0.0156368650496006, -0.008287526667118073, 3.1851027330100214e-34, -0.04314747825264931, -0.023399680852890015, 0.04049135744571686, 0.023033039644360542, -0.03607327491044998, 0.030330650508403778, 0.006827486213296652, -0.06865301728248596, -0.004930338356643915, 0.08697003126144409, -0.004266961943358183]\n"
          ]
        }
      ],
      "source": [
        "print(embeddings[1])"
      ]
    },
    {
      "cell_type": "code",
      "execution_count": null,
      "id": "vj_ZPpIE8Idl",
      "metadata": {
        "colab": {
          "base_uri": "https://localhost:8080/"
        },
        "id": "vj_ZPpIE8Idl",
        "outputId": "b820e04c-90be-426f-ed29-70d0a1fe15b9"
      },
      "outputs": [
        {
          "name": "stdout",
          "output_type": "stream",
          "text": [
            "Chunk size: 768\n",
            "Shape: (17, 768)\n"
          ]
        }
      ],
      "source": [
        "print(f\"Chunk size: {len(embeddings[0])}\")\n",
        "print(f\"Shape: {(len(embeddings), len(embeddings[0]))}\")"
      ]
    },
    {
      "cell_type": "code",
      "execution_count": null,
      "id": "ImXSjTFDb2Xg",
      "metadata": {
        "colab": {
          "base_uri": "https://localhost:8080/"
        },
        "id": "ImXSjTFDb2Xg",
        "outputId": "105d004c-b796-40d9-aea1-fff2d8d04cef"
      },
      "outputs": [
        {
          "name": "stdout",
          "output_type": "stream",
          "text": [
            "Chunk size: 768\n",
            "Shape: (22, 768)\n"
          ]
        }
      ],
      "source": [
        "print(f\"Chunk size: {len(embeddings2[0])}\")\n",
        "print(f\"Shape: {(len(embeddings2), len(embeddings2[0]))}\")"
      ]
    },
    {
      "cell_type": "markdown",
      "id": "bnmtP8zh9cCH",
      "metadata": {
        "id": "bnmtP8zh9cCH"
      },
      "source": [
        "Store the vector"
      ]
    },
    {
      "cell_type": "code",
      "execution_count": null,
      "id": "EA0YOTh891lN",
      "metadata": {
        "id": "EA0YOTh891lN"
      },
      "outputs": [],
      "source": [
        "# !pip install -U chromadb"
      ]
    },
    {
      "cell_type": "code",
      "execution_count": null,
      "id": "pHiBRkb09e8r",
      "metadata": {
        "colab": {
          "base_uri": "https://localhost:8080/"
        },
        "id": "pHiBRkb09e8r",
        "outputId": "1d6c3df6-0b7d-482c-99ab-556ec623bacc"
      },
      "outputs": [
        {
          "name": "stderr",
          "output_type": "stream",
          "text": [
            "/usr/local/lib/python3.10/dist-packages/langchain_core/_api/deprecation.py:139: LangChainDeprecationWarning: Since Chroma 0.4.x the manual persistence method is no longer supported as docs are automatically persisted.\n",
            "  warn_deprecated(\n"
          ]
        }
      ],
      "source": [
        "from langchain.vectorstores import Chroma\n",
        "\n",
        "persist_directory = 'sample_data/chroma'\n",
        "\n",
        "vectordb = Chroma.from_documents(\n",
        "    documents=texts,\n",
        "    embedding=embeddings_model,\n",
        "    persist_directory=persist_directory\n",
        ")"
      ]
    },
    {
      "cell_type": "code",
      "execution_count": null,
      "id": "3GVy8mVccD3e",
      "metadata": {
        "id": "3GVy8mVccD3e"
      },
      "outputs": [],
      "source": [
        "vectordb2 = Chroma.from_documents(\n",
        "    documents=texts2,\n",
        "    embedding=embeddings_model,\n",
        "    persist_directory='sample_data/chroma2'\n",
        ")"
      ]
    },
    {
      "cell_type": "code",
      "execution_count": null,
      "id": "hvQjPMGiQ4No",
      "metadata": {
        "id": "hvQjPMGiQ4No"
      },
      "outputs": [],
      "source": [
        "vectordb.persist() # save data or configurations to a persistent storage medium like disk using your providded path or a database"
      ]
    },
    {
      "cell_type": "code",
      "execution_count": null,
      "id": "xwFVlGTucTdL",
      "metadata": {
        "id": "xwFVlGTucTdL"
      },
      "outputs": [],
      "source": [
        "vectordb2.persist() # save data or configurations to a persistent storage medium like disk using your providded path or a database"
      ]
    },
    {
      "cell_type": "code",
      "execution_count": null,
      "id": "QanP-WPT-Uy1",
      "metadata": {
        "colab": {
          "base_uri": "https://localhost:8080/"
        },
        "id": "QanP-WPT-Uy1",
        "outputId": "d73243a7-5606-4785-f614-a8fe61eaee5a"
      },
      "outputs": [
        {
          "name": "stdout",
          "output_type": "stream",
          "text": [
            "17\n"
          ]
        }
      ],
      "source": [
        "print(vectordb._collection.count()) # Count the collection"
      ]
    },
    {
      "cell_type": "code",
      "execution_count": null,
      "id": "AQeAHGvidEbS",
      "metadata": {
        "colab": {
          "background_save": true,
          "base_uri": "https://localhost:8080/"
        },
        "id": "AQeAHGvidEbS",
        "outputId": "828866c8-8d9b-4fac-b594-c5a6dc6c2c9b"
      },
      "outputs": [
        {
          "name": "stdout",
          "output_type": "stream",
          "text": [
            "22\n"
          ]
        }
      ],
      "source": [
        "print(vectordb2._collection.count()) # Count the collection"
      ]
    },
    {
      "cell_type": "code",
      "execution_count": null,
      "id": "giRB3Yo3-dr0",
      "metadata": {
        "colab": {
          "base_uri": "https://localhost:8080/"
        },
        "id": "giRB3Yo3-dr0",
        "outputId": "680766b0-8d89-4fd0-f054-049209c91026"
      },
      "outputs": [
        {
          "name": "stdout",
          "output_type": "stream",
          "text": [
            "['_Chroma__query_collection', '_LANGCHAIN_DEFAULT_COLLECTION_NAME', '__abstractmethods__', '__annotations__', '__class__', '__delattr__', '__dict__', '__dir__', '__doc__', '__eq__', '__format__', '__ge__', '__getattribute__', '__gt__', '__hash__', '__init__', '__init_subclass__', '__le__', '__len__', '__lt__', '__module__', '__ne__', '__new__', '__reduce__', '__reduce_ex__', '__repr__', '__setattr__', '__sizeof__', '__slots__', '__str__', '__subclasshook__', '__weakref__', '_abc_impl', '_asimilarity_search_with_relevance_scores', '_client', '_client_settings', '_collection', '_cosine_relevance_score_fn', '_embedding_function', '_euclidean_relevance_score_fn', '_get_retriever_tags', '_max_inner_product_relevance_score_fn', '_persist_directory', '_select_relevance_score_fn', '_similarity_search_with_relevance_scores', 'aadd_documents', 'aadd_texts', 'add_documents', 'add_images', 'add_texts', 'adelete', 'afrom_documents', 'afrom_texts', 'aget_by_ids', 'amax_marginal_relevance_search', 'amax_marginal_relevance_search_by_vector', 'as_retriever', 'asearch', 'asimilarity_search', 'asimilarity_search_by_vector', 'asimilarity_search_with_relevance_scores', 'asimilarity_search_with_score', 'astreaming_upsert', 'aupsert', 'delete', 'delete_collection', 'embeddings', 'encode_image', 'from_documents', 'from_texts', 'get', 'get_by_ids', 'max_marginal_relevance_search', 'max_marginal_relevance_search_by_vector', 'override_relevance_score_fn', 'persist', 'search', 'similarity_search', 'similarity_search_by_vector', 'similarity_search_by_vector_with_relevance_scores', 'similarity_search_with_relevance_scores', 'similarity_search_with_score', 'streaming_upsert', 'update_document', 'update_documents', 'upsert']\n"
          ]
        }
      ],
      "source": [
        "print(dir(vectordb))"
      ]
    },
    {
      "cell_type": "markdown",
      "id": "bFFcyvrM-q7s",
      "metadata": {
        "id": "bFFcyvrM-q7s"
      },
      "source": [
        "### Search methods:\n",
        "'search' 'similarity_search',\n",
        " 'similarity_search_by_vector',\n",
        " 'similarity_search_with_relevance_scores',\n",
        " 'similarity_search_with_score',\n",
        " 'update_document'"
      ]
    },
    {
      "cell_type": "code",
      "execution_count": null,
      "id": "Bv-w5FyQ-0Ua",
      "metadata": {
        "id": "Bv-w5FyQ-0Ua"
      },
      "outputs": [],
      "source": [
        "docs = vectordb.similarity_search(\"List all the links available\", k=3) # k: number of results"
      ]
    },
    {
      "cell_type": "code",
      "execution_count": null,
      "id": "fgtrDTIv_QMm",
      "metadata": {
        "colab": {
          "base_uri": "https://localhost:8080/"
        },
        "id": "fgtrDTIv_QMm",
        "outputId": "ce7e6c35-8e20-4482-e9cc-5c8867ec2836"
      },
      "outputs": [
        {
          "data": {
            "text/plain": [
              "[Document(metadata={'page': 3, 'source': 'sample_data/Six Python Web frameworks compared.pdf'}, page_content='Web.py 0.35[13]Any 2.x Pythonback to 2.3but includesthe CherryPyWeb servergoverned bythe CherryPylicenseCookbook, APIreference, andcategorized codeexamplesAny Web serversupporting CGI,FastCGI, SCGI, orWSGIWeb2py 1.95[9]Python 2.5through 2.7LGPLOnline book,example website,lots of online\"quick examples\"Any Web serverthat supportsPythonZope 2.13 [7]Depends onZope 2 version,varying fromPython 2.4 forZope 2.11.x toPython 2.7 forZope 2.13.xZope PublicLicense [14]Online bookincludes APIreference,managementinterface guide,templatesreference, andmoreAny Web serverthat supportsPython. Alsoincludes its ownWeb serversuitable forproduction use. Python Web frameworks compared, continued DatabasesupportCachingDebuggingLoggingJavaScriptsupportCubicWeb3.12.5 [12]MySQL,PostgreSQL,SQLite,Microsoft SQLServerPlannedDebug modewill display logmessages ona console,show traceinformation,showgeneratedSQL queries,and moreYesYes, basedon JQuery'),\n",
              " Document(metadata={'page': 5, 'source': 'sample_data/Six Python Web frameworks compared.pdf'}, page_content='[11] http://www.infoworld.com/d/application-development/pillars-python-django-web-framework-168643[12] http://www.infoworld.com/d/application-development/pillars-python-cubicweb-web-framework-169105[13] http://www.infoworld.com/d/application-development/pillars-python-webpy-web-framework-169072[14] http://www.zope.org/Resources/License[15] http://www.infoworld.com/d/application-development/pillars-python-six-python-web-frameworks-compared-169442?source=footer[16] http://www.infoworld.com/?source=footer[17] http://www.infoworld.com/d/application-development?source=footer[18] http://www.infoworld.com/t/python?source=footer[19] http://twitter.com/infoworld'),\n",
              " Document(metadata={'page': 3, 'source': 'sample_data/Six Python Web frameworks compared.pdf'}, page_content='Django 1.3 [11]MySQL,PostgreSQL,SQLite,Oracle; third-party supportfor otherdatabasesYes, bothat themodel andview levelsYes; both in itsdevelopmentWeb serverand a specialdebugexecutionmodeUsesstandardPythonlogging;latestversionaddedconfigurationhooksNonespecific,though third-partylibraries forintegratingJavaScriptlibraries areavailablePyramid 1.0[10]Any PythonORM tool suchasSQLAlchemy,MongoDB, andCassandraYes, viathe PythonBeakerpackage;providespage-leveldatabasequery andotherYes;interactivedebugger thatruns in thebrowserprovidesdetailed stacktraceYes, viastandardPythonloggingpackageNo, thoughPyramiddoesprovideconveniencefunctions forJSON andAjax')]"
            ]
          },
          "execution_count": 111,
          "metadata": {},
          "output_type": "execute_result"
        }
      ],
      "source": [
        "docs"
      ]
    },
    {
      "cell_type": "code",
      "source": [
        "# docs2 = vectordb2.similarity_search(\"python function that takes in a request and returns a response\", k=3) # k: number of results\n",
        "docs2 = vectordb2.similarity_search(\"provide name of python function that takes in a request and returns a response\", k=3) # k: number of results\n",
        "docs2"
      ],
      "metadata": {
        "colab": {
          "base_uri": "https://localhost:8080/"
        },
        "id": "VHJlUM5wdevn",
        "outputId": "4213c3e3-4877-4934-bfce-dd00d6e8e198"
      },
      "id": "VHJlUM5wdevn",
      "execution_count": 147,
      "outputs": [
        {
          "output_type": "execute_result",
          "data": {
            "text/plain": [
              "[Document(metadata={'page': 21, 'source': 'sample_data/django-tutorial.pdf'}, page_content=\"Request\\tObject\\nThe\\trequest\\tobject\\tcontains\\ta\\tlot\\tof\\tinformation\\tthat\\twe\\tcan\\taccess\\tin\\tthe\\tview.\\nFor\\texample\\trequest.META\\tgives\\tall\\tthe\\theader\\tinformation.\\tIt\\tis\\ta\\tpython\\tdictionary.\\ndef\\thome(request):\\n\\t\\t\\t\\ttest\\t=\\trequest.META\\n\\t\\t\\t\\treturn\\trender(request,\\t'home.html',\\t{'test':\\ttest})\\n<div>\\n\\t\\t{%\\tfor\\tkey,value\\tin\\ttest.items\\t%}\\n\\t\\t\\t\\t<p>{{key}}\\t:\\t{{value}}</p>\\n\\t\\t{%\\tendfor\\t%}\\n</div>\\ntest.items()\\tgives\\tus\\ta\\tlist\\tof\\ttuples\\tin\\tthe\\tdictionary\\ttest.\\tIn\\ta\\ttemplate,\\twe\\tdon't\\tneed\\tto\\tuse\\nthe\\t()\\tto\\tcall\\ta\\tfunction\\nRequest\\tObject\\n22\"),\n",
              " Document(metadata={'page': 6, 'source': 'sample_data/django-tutorial.pdf'}, page_content='Views\\nA\\tview\\tis\\ta\\tpython\\tfunction\\tthat\\ttakes\\tin\\ta\\trequest\\tand\\treturns\\ta\\tresponse.\\nThe\\trequest\\tobject\\tcontains\\tmetadata\\tabout\\tthe\\trequest.\\tThe\\tfirst\\targument\\tto\\tthe\\tview\\nfunction\\tis\\ta\\trequest.\\tEach\\tview\\tis\\tresponsible\\tfor\\treturning\\ta\\tresponse\\tobject.\\nCreate\\ta\\tfolder\\tcalled\\t\\ntemplates\\n\\tinside\\tmyapp\\tfolder.\\tWrite\\ta\\thello.html\\tfile\\tinside\\ttemplates.\\n(Just\\tany\\tbasic\\tHTML\\twill\\tdo).\\nIn\\t\\nmyapp/views.py\\nfrom\\tdjango.shortcuts\\timport\\trender\\ndef\\thello(request):\\n\\t\\t\\t\\treturn\\trender(request,\\t\\'hello.html\\',\\t{})\\nThe\\tfinal\\tparameter\\t{}\\tis\\ta\\tdictionary\\tcontaining\\tall\\tthe\\tvariables\\tthat\\twe\\twant\\tto\\tpass\\tto\\tour\\ntemplate.\\tA\\tdictionary\\tis\\tnothing\\tbut\\tan\\tunordered\\tcollection\\tof\\tkey-value\\tpairs.\\nCreate\\ta\\tfile\\tcalled\\turls.py\\tin\\tmyapp\\tfolder.\\tThis\\tis\\tfor\\tall\\tthe\\turls\\tused\\tin\\tmyapp.\\nmyapp/urls.py\\nfrom\\tdjango.conf.urls\\timport\\turl\\nfrom\\t.\\timport\\tviews\\nurlpatterns\\t=\\t[\\n\\t\\t\\t\\turl(r\"^hello/\",\\tviews.hello,\\tname\\t=\\t\\'hello\\')\\n]\\nYou\\tneed\\tto\\tmake\\tsure\\tthat\\tthe\\tmain\\turls.py\\tin\\tyour\\tproject\\tfolder\\tknows\\tall\\tthe\\turls\\tin\\nmyapp\\tapplication.\\nmysite/urls.py\\nfrom\\tdjango.conf.urls\\timport\\turl,\\tinclude\\nfrom\\tdjango.contrib\\timport\\tadmin\\nurlpatterns\\t=\\t[\\n\\t\\t\\t\\turl(r\"^admin/\",\\tadmin.site.urls),\\n\\t\\t\\t\\turl(r\"^myapp/\",\\tinclude(\\'myapp.urls\\'))\\n]\\nViews\\n7'),\n",
              " Document(metadata={'page': 14, 'source': 'sample_data/django-tutorial.pdf'}, page_content='Django\\tForms\\nCreate\\ta\\tfile\\tcalled\\t\\nforms.py\\n\\tin\\tmyapp\\tfolder\\nWe\\tcan\\tcreate\\ta\\tform\\tfrom\\tscratch,\\tbut\\there\\twe\\twill\\tuse\\ta\\tModelForm\\twhich\\twill\\tsave\\tthe\\nresult\\tof\\tthe\\tform\\tto\\tthe\\tmodel.\\nmyapp/forms.py\\nfrom\\tdjango\\timport\\tforms\\nfrom\\t.models\\timport\\tPost\\nclass\\tPostForm(forms.ModelForm):\\n\\t\\t\\t\\tclass\\tMeta:\\n\\t\\t\\t\\t\\t\\t\\t\\tmodel\\t=\\tPost\\n\\t\\t\\t\\t\\t\\t\\t\\tfields\\t=\\t[\\'title\\',\\t\\'content\\']\\nIn\\ttemplates\\tfolder,\\tcreate\\ta\\tfile\\tcalled\\tpost_new.html\\n<h1>\\tNew\\tPost\\t</h1>\\n<form\\tmethod=\"POST\">\\n\\t\\t\\t\\t{%\\tcrsf_token\\t%}\\n\\t\\t\\t\\t{{\\tform.as_p\\t}}\\n\\t\\t\\t\\t<button\\ttype=\"submit\">\\tSave\\t</button>\\n</form>\\nIn\\t\\nmyapp/views.py\\nfrom\\tdjango.shortcuts\\timport\\trender,\\tredirect\\nfrom\\t.forms\\timport\\tPostForm\\ndef\\tpost_new(request):\\n\\t\\t\\t\\tif\\trequest.method\\t==\\t\"POST\":\\n\\t\\t\\t\\t\\t\\t\\t\\tform\\t=\\tPostForm(request.POST)\\n\\t\\t\\t\\t\\t\\t\\t\\tif\\tform.is_valid():\\n\\t\\t\\t\\t\\t\\t\\t\\t\\t\\t\\t\\tpost\\t=\\tform.save()\\n\\t\\t\\t\\t\\t\\t\\t\\t\\t\\t\\t\\treturn\\tredirect(\\'post_detail\\',\\tpk=post.pk)\\n\\t\\t\\t\\telse:\\n\\t\\t\\t\\t\\t\\t\\t\\tform\\t=\\tPostForm()\\n\\t\\t\\t\\treturn\\trender(request,\\t\\'post_new.html\\',\\t{\\'form\\':\\tform})\\nrequest.POST\\t\\nis\\ta\\tdictionary\\tlike\\tobject\\tcontaining\\tthe\\tform\\tdata.\\nIn\\t\\nmyapp/urls.py\\nDjango\\tForms\\n15')]"
            ]
          },
          "metadata": {},
          "execution_count": 147
        }
      ]
    },
    {
      "cell_type": "code",
      "source": [
        "for doc2 in docs2:\n",
        "    print(doc2.page_content[:100])"
      ],
      "metadata": {
        "colab": {
          "base_uri": "https://localhost:8080/"
        },
        "id": "wbGtql0vdyE6",
        "outputId": "92016a29-5e76-427b-c04c-85bb4c518eeb"
      },
      "id": "wbGtql0vdyE6",
      "execution_count": 148,
      "outputs": [
        {
          "output_type": "stream",
          "name": "stdout",
          "text": [
            "Request\tObject\n",
            "The\trequest\tobject\tcontains\ta\tlot\tof\tinformation\tthat\twe\tcan\taccess\tin\tthe\tview.\n",
            "For\t\n",
            "Views\n",
            "A\tview\tis\ta\tpython\tfunction\tthat\ttakes\tin\ta\trequest\tand\treturns\ta\tresponse.\n",
            "The\trequest\tobject\n",
            "Django\tForms\n",
            "Create\ta\tfile\tcalled\t\n",
            "forms.py\n",
            "\tin\tmyapp\tfolder\n",
            "We\tcan\tcreate\ta\tform\tfrom\tscratch,\tbut\t\n"
          ]
        }
      ]
    },
    {
      "cell_type": "code",
      "execution_count": null,
      "id": "yZYw0dCV_96m",
      "metadata": {
        "colab": {
          "base_uri": "https://localhost:8080/"
        },
        "id": "yZYw0dCV_96m",
        "outputId": "24ae226f-8a3d-4902-fc99-e98d2ec22e14"
      },
      "outputs": [
        {
          "data": {
            "text/plain": [
              "3"
            ]
          },
          "execution_count": 112,
          "metadata": {},
          "output_type": "execute_result"
        }
      ],
      "source": [
        "len(docs)"
      ]
    },
    {
      "cell_type": "code",
      "execution_count": null,
      "id": "PeZUne3T_fXd",
      "metadata": {
        "colab": {
          "base_uri": "https://localhost:8080/"
        },
        "id": "PeZUne3T_fXd",
        "outputId": "eefc29e4-e9e6-4af5-f53d-bcdcad0f758c"
      },
      "outputs": [
        {
          "name": "stdout",
          "output_type": "stream",
          "text": [
            "Web.py 0.35[13]Any 2.x Pythonback to 2.3but includesthe CherryPyWeb servergoverned bythe CherryPylic\n",
            "[11] http://www.infoworld.com/d/application-development/pillars-python-django-web-framework-168643[1\n",
            "Django 1.3 [11]MySQL,PostgreSQL,SQLite,Oracle; third-party supportfor otherdatabasesYes, bothat them\n"
          ]
        }
      ],
      "source": [
        "for doc in docs:\n",
        "    print(doc.page_content[:100])"
      ]
    },
    {
      "cell_type": "code",
      "execution_count": null,
      "id": "waFKsyBbBA8M",
      "metadata": {
        "id": "waFKsyBbBA8M"
      },
      "outputs": [],
      "source": [
        "search_oracle = vectordb.similarity_search(\"how often the term 'oracle' is mentioned\", k=3) # k: number of results"
      ]
    },
    {
      "cell_type": "code",
      "execution_count": null,
      "id": "gertX20RBMYz",
      "metadata": {
        "colab": {
          "base_uri": "https://localhost:8080/"
        },
        "id": "gertX20RBMYz",
        "outputId": "754574c6-2f10-4736-ea27-604df2e7cac8"
      },
      "outputs": [
        {
          "name": "stdout",
          "output_type": "stream",
          "text": [
            "Django 1.3 [11]MySQL,PostgreSQL,SQLite,Oracle; third-party supportfor otherdatabasesYes, bothat them\n",
            "Published on InfoWorld (http://www.infoworld.com)Home > Test Center > Application Development > Pill\n",
            "DatabaseAbstraction Layer (DAL). Web2py's rendering system will try to find a view that --depending \n"
          ]
        }
      ],
      "source": [
        "for oracle in search_oracle:\n",
        "    print(oracle.page_content[:100])"
      ]
    },
    {
      "cell_type": "code",
      "execution_count": null,
      "id": "P2sDVc5kBnsM",
      "metadata": {
        "colab": {
          "base_uri": "https://localhost:8080/"
        },
        "id": "P2sDVc5kBnsM",
        "outputId": "0fa817d9-c36e-4f3c-aefd-caf0dde550b6"
      },
      "outputs": [
        {
          "name": "stdout",
          "output_type": "stream",
          "text": [
            "Python Web frameworks: Light, heavy, and in betweenZope 2 [7] is a descendant of Zope, the great-granddaddy of all Python Web applicationtools and an important branch in the Python family tree. Zope 2's ancestry, then, goes backto the mid-1990s, and Zope's continued popularity is testament to its solidity.Consequently, one huge advantage to choosing Zope 2 is that you can call on 15 years ofcode development and documentation.Zope 2's \"object publishing\" system fits well into an object-oriented development mind-setand mitigates somewhat the learning curve you'd have to climb if you picked a frameworkthat exposes your application to more of the more painful aspects of Web development.Zope 2 does present a formidable learning curve of its own -- but you'll at least enjoy thestability that a 15-year pedigree confers.The Web2py [9] framework is an abstraction paradise. Databases hide behind a DatabaseAbstraction Layer (DAL). Web2py's rendering system will try to find a view that --depending\n",
            "http://www.infoworld.com/newsletters/subscribe?showlist=infoworld_developer&amp;source=ifwelg_fssr[7] http://www.infoworld.com/d/application-development/pillars-python-zope-2-web-framework-168935[8] http://www.infoworld.com/d/application-development/programming-python-webpy-web-framework-169072[9] http://www.infoworld.com/d/application-development/pillars-python-web2py-web-framework-168920[10] http://www.infoworld.com/d/application-development/pillars-python-pyramid-web-framework-168661\n",
            "addition, Python boasts plenty of free databaselibraries, numerous free Web page template systems, and even libraries for interfacing withyour favorite Web server, all ready to download and apply to your next Web applicationproject.[ Also on InfoWorld: \"InfoWorld review: Nine fine Python development tools [4]\" | NeilMcAllister reveals the most dangerous programming mistakes [5]. | Get softwaredevelopment news and insights from InfoWorld's Developer World newsletter [6]. ]Of course, you don't need to do all that work. The engineers of these capable and diversePython-based Web frameworks have done it all for you.In the following pages, we review six Web application frameworks for the Python Webdeveloper. These are by no means the only Python Web frameworks available, butrepresent a broad sampling of the possibilities. No matter what your needs or leanings as aPython developer might be, one of these frameworks promises to be a good fit.They include Zope 2 [7], the proud descendant of one\n"
          ]
        }
      ],
      "source": [
        "# prompt: asks what is the is a descendant of Zope\n",
        "\n",
        "descendants = vectordb.similarity_search(\"what is a descendant of Zope\", k=3) # k: number of results\n",
        "for descendant in descendants:\n",
        "    print(descendant.page_content)\n"
      ]
    },
    {
      "cell_type": "code",
      "execution_count": null,
      "id": "wk82cKWoCIFt",
      "metadata": {
        "colab": {
          "base_uri": "https://localhost:8080/"
        },
        "id": "wk82cKWoCIFt",
        "outputId": "9a4524db-48cc-4a71-8e01-51d0e25790b6"
      },
      "outputs": [
        {
          "name": "stdout",
          "output_type": "stream",
          "text": [
            "[11] http://www.infoworld.com/d/application-development/pillars-python-django-web-framework-168643[12] http://www.infoworld.com/d/application-development/pillars-python-cubicweb-web-framework-169105[13] http://www.infoworld.com/d/application-development/pillars-python-webpy-web-framework-169072[14] http://www.zope.org/Resources/License[15] http://www.infoworld.com/d/application-development/pillars-python-six-python-web-frameworks-compared-169442?source=footer[16] http://www.infoworld.com/?source=footer[17] http://www.infoworld.com/d/application-development?source=footer[18] http://www.infoworld.com/t/python?source=footer[19] http://twitter.com/infoworld\n",
            "theframework. In addition, its laissez-faire attitude can leave you wondering precisely how toproceed to accomplish a particular task -- and, when you manage to accomplish that task,whether your solution was the best. For example, there are two separate means ofdetermining how your application will handle a given URL: the well-known URL-mappingmechanism and something called \"traversal\" (which you will need to read thedocumentation to figure out). So, with Pyramid, you purchase flexibility at the cost of turningyourself into something of an explorer.Django [11] is a mature and highly regarded Web framework that assumes you know Pythonwell. Its libraries provide a good selection of the must-have capabilities for acceleratingWeb application development: an object-relational mapper so that you don't have to writeyour own RDBMS interface code, a template system so that you don't have to wrestle withmarrying active Python content to static HTML content on a Web page, an\n",
            "http://www.infoworld.com/newsletters/subscribe?showlist=infoworld_developer&amp;source=ifwelg_fssr[7] http://www.infoworld.com/d/application-development/pillars-python-zope-2-web-framework-168935[8] http://www.infoworld.com/d/application-development/programming-python-webpy-web-framework-169072[9] http://www.infoworld.com/d/application-development/pillars-python-web2py-web-framework-168920[10] http://www.infoworld.com/d/application-development/pillars-python-pyramid-web-framework-168661\n"
          ]
        }
      ],
      "source": [
        "# prompt: list all the URLs that contains word 'pillars-'\n",
        "\n",
        "urls = vectordb.similarity_search(\"List all the URLs that contains word 'pillars-'\", k=3) # k: number of results\n",
        "for url in urls:\n",
        "    print(url.page_content)\n"
      ]
    },
    {
      "cell_type": "markdown",
      "id": "dIlJHLxbCgGX",
      "metadata": {
        "id": "dIlJHLxbCgGX"
      },
      "source": [
        "Retrive some contents"
      ]
    },
    {
      "cell_type": "code",
      "execution_count": null,
      "id": "9RsavWQIC-As",
      "metadata": {
        "id": "9RsavWQIC-As"
      },
      "outputs": [],
      "source": [
        "qDjango = \"what was originallypublished at InfoWorld\"\n",
        "djangos = vectordb.similarity_search(qDjango, k=3)"
      ]
    },
    {
      "cell_type": "code",
      "execution_count": null,
      "id": "xmtEjTA3EM51",
      "metadata": {
        "colab": {
          "base_uri": "https://localhost:8080/"
        },
        "id": "xmtEjTA3EM51",
        "outputId": "243b09e7-cff1-48b7-f655-a7c2b71a7a8b"
      },
      "outputs": [
        {
          "data": {
            "text/plain": [
              "[Document(metadata={'page': 4, 'source': 'sample_data/Six Python Web frameworks compared.pdf'}, page_content='http://www.infoworld.com/newsletters/subscribe?showlist=infoworld_developer&amp;source=ifwelg_fssr[7] http://www.infoworld.com/d/application-development/pillars-python-zope-2-web-framework-168935[8] http://www.infoworld.com/d/application-development/programming-python-webpy-web-framework-169072[9] http://www.infoworld.com/d/application-development/pillars-python-web2py-web-framework-168920[10] http://www.infoworld.com/d/application-development/pillars-python-pyramid-web-framework-168661'),\n",
              " Document(metadata={'page': 0, 'source': 'sample_data/Six Python Web frameworks compared.pdf'}, page_content=\"Published on InfoWorld (http://www.infoworld.com)Home > Test Center > Application Development > Pillars of Python: Six Python Webframeworks... > Pillars of Python: Six Python Web frameworks comparedPillars of Python: Six Python Webframeworks comparedBy Rick GrehanCreated 2011-08-10 03:00AMAlthough Python [1] is not as prevalent as,say, PHP [2] as a language for Webapplications [3], Python nevertheless hasmuch to recommend it in that effort. It is adynamic, interpreted language, as isPHP, and therefore encourages iterative,exploratory development. Programmingpurists could point to the fact that objectorientation was designed into Pythonfrom its very beginnings, rather thanbeing retrofitted to the language at a laterpoint in its life.Language design considerations aside,the capabilities embodied in Python'sstandard libraries are impressive. Pythoneven installs with its own Web server. In addition, Python boasts plenty of free databaselibraries, numerous free Web page template systems,\"),\n",
              " Document(metadata={'page': 4, 'source': 'sample_data/Six Python Web frameworks compared.pdf'}, page_content='Six Python Web frameworks compared [15],\" was originallypublished at InfoWorld.com [16]. Follow the latest developments in application development[17] and Python [18] at InfoWorld.com. For the latest developments in business technologynews, follow InfoWorld.com on Twitter [19].Application Development Open Source Software Application DevelopmentPython Web DevelopmentSource URL (retrieved on 2011-08-11 03:35AM): http://www.infoworld.com/d/application-development/pillars-python-six-python-web-frameworks-compared-169442Links:[1] http://www.infoworld.com/t/python[2] http://www.infoworld.com/d/developer-world/infoworld-review-fabulous-php-frameworks-364[3] http://www.infoworld.com/t/web-applications[4] http://www.infoworld.com/d/developer-world/infoworld-review-nine-fine-python-development-tools-374?source=fssr[5] http://www.infoworld.com/d/application-development/developer-error-the-most-dangerous-programming-mistakes-706?source=fssr[6]')]"
            ]
          },
          "execution_count": 100,
          "metadata": {},
          "output_type": "execute_result"
        }
      ],
      "source": [
        "djangos"
      ]
    },
    {
      "cell_type": "code",
      "execution_count": null,
      "id": "o9JPqajIJEKX",
      "metadata": {
        "id": "o9JPqajIJEKX"
      },
      "outputs": [],
      "source": [
        "retriever = vectordb.as_retriever()"
      ]
    },
    {
      "cell_type": "code",
      "execution_count": null,
      "id": "hJpI_0PnJNGU",
      "metadata": {
        "colab": {
          "base_uri": "https://localhost:8080/"
        },
        "id": "hJpI_0PnJNGU",
        "outputId": "d26a76d4-0f53-42c1-ae45-e78e6b6f0558"
      },
      "outputs": [
        {
          "data": {
            "text/plain": [
              "[Document(metadata={'page': 4, 'source': 'sample_data/Six Python Web frameworks compared.pdf'}, page_content='http://www.infoworld.com/newsletters/subscribe?showlist=infoworld_developer&amp;source=ifwelg_fssr[7] http://www.infoworld.com/d/application-development/pillars-python-zope-2-web-framework-168935[8] http://www.infoworld.com/d/application-development/programming-python-webpy-web-framework-169072[9] http://www.infoworld.com/d/application-development/pillars-python-web2py-web-framework-168920[10] http://www.infoworld.com/d/application-development/pillars-python-pyramid-web-framework-168661'),\n",
              " Document(metadata={'page': 5, 'source': 'sample_data/Six Python Web frameworks compared.pdf'}, page_content='[11] http://www.infoworld.com/d/application-development/pillars-python-django-web-framework-168643[12] http://www.infoworld.com/d/application-development/pillars-python-cubicweb-web-framework-169105[13] http://www.infoworld.com/d/application-development/pillars-python-webpy-web-framework-169072[14] http://www.zope.org/Resources/License[15] http://www.infoworld.com/d/application-development/pillars-python-six-python-web-frameworks-compared-169442?source=footer[16] http://www.infoworld.com/?source=footer[17] http://www.infoworld.com/d/application-development?source=footer[18] http://www.infoworld.com/t/python?source=footer[19] http://twitter.com/infoworld'),\n",
              " Document(metadata={'page': 0, 'source': 'sample_data/Six Python Web frameworks compared.pdf'}, page_content=\"Published on InfoWorld (http://www.infoworld.com)Home > Test Center > Application Development > Pillars of Python: Six Python Webframeworks... > Pillars of Python: Six Python Web frameworks comparedPillars of Python: Six Python Webframeworks comparedBy Rick GrehanCreated 2011-08-10 03:00AMAlthough Python [1] is not as prevalent as,say, PHP [2] as a language for Webapplications [3], Python nevertheless hasmuch to recommend it in that effort. It is adynamic, interpreted language, as isPHP, and therefore encourages iterative,exploratory development. Programmingpurists could point to the fact that objectorientation was designed into Pythonfrom its very beginnings, rather thanbeing retrofitted to the language at a laterpoint in its life.Language design considerations aside,the capabilities embodied in Python'sstandard libraries are impressive. Pythoneven installs with its own Web server. In addition, Python boasts plenty of free databaselibraries, numerous free Web page template systems,\"),\n",
              " Document(metadata={'page': 3, 'source': 'sample_data/Six Python Web frameworks compared.pdf'}, page_content='Web.py 0.35[13]Any 2.x Pythonback to 2.3but includesthe CherryPyWeb servergoverned bythe CherryPylicenseCookbook, APIreference, andcategorized codeexamplesAny Web serversupporting CGI,FastCGI, SCGI, orWSGIWeb2py 1.95[9]Python 2.5through 2.7LGPLOnline book,example website,lots of online\"quick examples\"Any Web serverthat supportsPythonZope 2.13 [7]Depends onZope 2 version,varying fromPython 2.4 forZope 2.11.x toPython 2.7 forZope 2.13.xZope PublicLicense [14]Online bookincludes APIreference,managementinterface guide,templatesreference, andmoreAny Web serverthat supportsPython. Alsoincludes its ownWeb serversuitable forproduction use. Python Web frameworks compared, continued DatabasesupportCachingDebuggingLoggingJavaScriptsupportCubicWeb3.12.5 [12]MySQL,PostgreSQL,SQLite,Microsoft SQLServerPlannedDebug modewill display logmessages ona console,show traceinformation,showgeneratedSQL queries,and moreYesYes, basedon JQuery')]"
            ]
          },
          "execution_count": 101,
          "metadata": {},
          "output_type": "execute_result"
        }
      ],
      "source": [
        "docs = retriever.invoke(\"where to follow InfoWorld.com?\")\n",
        "docs"
      ]
    },
    {
      "cell_type": "code",
      "source": [
        "retriever2 = vectordb2.as_retriever()\n",
        "rdocs2 = retriever2.invoke(\"A dictionary is nothing but an unordered collection of what pair\")\n",
        "rdocs2"
      ],
      "metadata": {
        "colab": {
          "base_uri": "https://localhost:8080/"
        },
        "id": "OQxYUR_-ecu-",
        "outputId": "a145e66a-f66d-4663-bf05-d23a17b14fa5"
      },
      "id": "OQxYUR_-ecu-",
      "execution_count": 155,
      "outputs": [
        {
          "output_type": "execute_result",
          "data": {
            "text/plain": [
              "[Document(metadata={'page': 21, 'source': 'sample_data/django-tutorial.pdf'}, page_content=\"Request\\tObject\\nThe\\trequest\\tobject\\tcontains\\ta\\tlot\\tof\\tinformation\\tthat\\twe\\tcan\\taccess\\tin\\tthe\\tview.\\nFor\\texample\\trequest.META\\tgives\\tall\\tthe\\theader\\tinformation.\\tIt\\tis\\ta\\tpython\\tdictionary.\\ndef\\thome(request):\\n\\t\\t\\t\\ttest\\t=\\trequest.META\\n\\t\\t\\t\\treturn\\trender(request,\\t'home.html',\\t{'test':\\ttest})\\n<div>\\n\\t\\t{%\\tfor\\tkey,value\\tin\\ttest.items\\t%}\\n\\t\\t\\t\\t<p>{{key}}\\t:\\t{{value}}</p>\\n\\t\\t{%\\tendfor\\t%}\\n</div>\\ntest.items()\\tgives\\tus\\ta\\tlist\\tof\\ttuples\\tin\\tthe\\tdictionary\\ttest.\\tIn\\ta\\ttemplate,\\twe\\tdon't\\tneed\\tto\\tuse\\nthe\\t()\\tto\\tcall\\ta\\tfunction\\nRequest\\tObject\\n22\"),\n",
              " Document(metadata={'page': 8, 'source': 'sample_data/django-tutorial.pdf'}, page_content=\"Template\\tLanguage\\nWe\\thave\\tlearnt\\tto\\tserver\\tup\\ta\\tstatic\\tpage\\ton\\tour\\tDjango\\tserver.\\nLet's\\tadd\\tsome\\tdynamic\\tcontent.\\tThis\\tis\\twhere\\twe\\tinterpolate\\tour\\tHTML\\tfile\\twith\\tsome\\npython\\tvariables.\\tWe\\tpass\\tthe\\tpython\\tvariables\\tthough\\ta\\tdictionary.\\tA\\tdictionary\\tis\\tnothing\\nbut\\tan\\tunordered\\tcollection\\tof\\tkey-value\\tpairs.\\nmyapp/views.py\\nfrom\\tdjango.shortcuts\\timport\\trender\\nimport\\tdatetime\\ndef\\thello(request):\\n\\t\\t\\t\\ttoday\\t=\\tdatetime.datetime.now().date()\\n\\t\\t\\t\\treturn\\trender(request,\\t'hello.html',\\t{'today':\\ttoday})\\nIn\\tthe\\t\\nmyapp/templates/hello.html\\nWe\\tcan\\tinterpolate\\tthe\\tvariables\\twithin\\tcurly\\tbraces.\\n<p>\\tThe\\tdate\\ttoday\\tis\\t{{\\ttoday\\t}}\\t</p>\\nWe\\tcan\\tperform\\tlogic\\tand\\tloops\\tinside\\tour\\ttemplates\\talso.\\nTemplate\\tLanguage\\n9\"),\n",
              " Document(metadata={'page': 0, 'source': 'sample_data/django-tutorial.pdf'}, page_content='1.1\\n1.2\\n1.3\\n1.4\\n1.5\\n1.6\\n1.7\\n1.8\\n1.9\\n1.10\\n1.11\\n1.12\\n1.13\\n1.14\\n1.15\\nTable\\tof\\tContents\\nGetting\\tstarted\\nStarting\\ta\\tproject\\nCreating\\tan\\tapp\\nThe\\tadmin\\tinterface\\nViews\\nTemplate\\tLanguage\\nModels\\nRegex\\nQuerySets\\nURL\\tMapping\\nDjango\\tForms\\nAuthentication\\nTemplate\\tExtending\\nFile\\tUpload\\nRequest\\tObject\\n1'),\n",
              " Document(metadata={'page': 12, 'source': 'sample_data/django-tutorial.pdf'}, page_content=\"Query\\tsets\\nWe\\tcan\\tstart\\tthe\\tdjango\\tshell\\twith\\tthe\\tbelow\\tcommand:\\npython\\tmanage.py\\tshell\\nThis\\tstarts\\tthe\\tconsole\\t>>\\n>>\\tfrom\\tmyapp.models\\timport\\tPosts\\n>>\\tPost.objects.all()\\nThe\\tabove\\tcommand\\treturns\\tall\\tthe\\tPosts\\tsaved\\tin\\tthe\\tdatabase.\\nWe\\tcan\\tfilter\\tthe\\tobjects\\tbased\\ton\\ta\\tcriteria\\nand\\tWe\\tcan\\talso\\torder/sort\\tthe\\tobjects\\tbased\\ton\\ta\\tcriteria\\npost\\t=\\tPost.objects.get(pk\\t=\\tnum)\\nThe\\tabove\\tline,\\tretrives\\ta\\tpost\\taccording\\tthe\\tprimary\\tkey.\\tWe\\tcan\\tpass\\tit\\ton\\tthe\\ttemplate,\\tto\\ndisplay\\tit.\\nme\\t=\\tUser.objects.get(username='rishi')\\nPost.objects.filter(author=me)\\nQuerySets\\n13\")]"
            ]
          },
          "metadata": {},
          "execution_count": 155
        }
      ]
    },
    {
      "cell_type": "code",
      "source": [
        "\n",
        "for rdoc in rdocs2:\n",
        "  print(rdoc.page_content)"
      ],
      "metadata": {
        "colab": {
          "base_uri": "https://localhost:8080/"
        },
        "id": "2TMsV0E0e0bL",
        "outputId": "5115698c-6d0f-4c7e-9e59-9ecf71a5c338"
      },
      "id": "2TMsV0E0e0bL",
      "execution_count": 156,
      "outputs": [
        {
          "output_type": "stream",
          "name": "stdout",
          "text": [
            "Request\tObject\n",
            "The\trequest\tobject\tcontains\ta\tlot\tof\tinformation\tthat\twe\tcan\taccess\tin\tthe\tview.\n",
            "For\texample\trequest.META\tgives\tall\tthe\theader\tinformation.\tIt\tis\ta\tpython\tdictionary.\n",
            "def\thome(request):\n",
            "\t\t\t\ttest\t=\trequest.META\n",
            "\t\t\t\treturn\trender(request,\t'home.html',\t{'test':\ttest})\n",
            "<div>\n",
            "\t\t{%\tfor\tkey,value\tin\ttest.items\t%}\n",
            "\t\t\t\t<p>{{key}}\t:\t{{value}}</p>\n",
            "\t\t{%\tendfor\t%}\n",
            "</div>\n",
            "test.items()\tgives\tus\ta\tlist\tof\ttuples\tin\tthe\tdictionary\ttest.\tIn\ta\ttemplate,\twe\tdon't\tneed\tto\tuse\n",
            "the\t()\tto\tcall\ta\tfunction\n",
            "Request\tObject\n",
            "22\n",
            "Template\tLanguage\n",
            "We\thave\tlearnt\tto\tserver\tup\ta\tstatic\tpage\ton\tour\tDjango\tserver.\n",
            "Let's\tadd\tsome\tdynamic\tcontent.\tThis\tis\twhere\twe\tinterpolate\tour\tHTML\tfile\twith\tsome\n",
            "python\tvariables.\tWe\tpass\tthe\tpython\tvariables\tthough\ta\tdictionary.\tA\tdictionary\tis\tnothing\n",
            "but\tan\tunordered\tcollection\tof\tkey-value\tpairs.\n",
            "myapp/views.py\n",
            "from\tdjango.shortcuts\timport\trender\n",
            "import\tdatetime\n",
            "def\thello(request):\n",
            "\t\t\t\ttoday\t=\tdatetime.datetime.now().date()\n",
            "\t\t\t\treturn\trender(request,\t'hello.html',\t{'today':\ttoday})\n",
            "In\tthe\t\n",
            "myapp/templates/hello.html\n",
            "We\tcan\tinterpolate\tthe\tvariables\twithin\tcurly\tbraces.\n",
            "<p>\tThe\tdate\ttoday\tis\t{{\ttoday\t}}\t</p>\n",
            "We\tcan\tperform\tlogic\tand\tloops\tinside\tour\ttemplates\talso.\n",
            "Template\tLanguage\n",
            "9\n",
            "1.1\n",
            "1.2\n",
            "1.3\n",
            "1.4\n",
            "1.5\n",
            "1.6\n",
            "1.7\n",
            "1.8\n",
            "1.9\n",
            "1.10\n",
            "1.11\n",
            "1.12\n",
            "1.13\n",
            "1.14\n",
            "1.15\n",
            "Table\tof\tContents\n",
            "Getting\tstarted\n",
            "Starting\ta\tproject\n",
            "Creating\tan\tapp\n",
            "The\tadmin\tinterface\n",
            "Views\n",
            "Template\tLanguage\n",
            "Models\n",
            "Regex\n",
            "QuerySets\n",
            "URL\tMapping\n",
            "Django\tForms\n",
            "Authentication\n",
            "Template\tExtending\n",
            "File\tUpload\n",
            "Request\tObject\n",
            "1\n",
            "Query\tsets\n",
            "We\tcan\tstart\tthe\tdjango\tshell\twith\tthe\tbelow\tcommand:\n",
            "python\tmanage.py\tshell\n",
            "This\tstarts\tthe\tconsole\t>>\n",
            ">>\tfrom\tmyapp.models\timport\tPosts\n",
            ">>\tPost.objects.all()\n",
            "The\tabove\tcommand\treturns\tall\tthe\tPosts\tsaved\tin\tthe\tdatabase.\n",
            "We\tcan\tfilter\tthe\tobjects\tbased\ton\ta\tcriteria\n",
            "and\tWe\tcan\talso\torder/sort\tthe\tobjects\tbased\ton\ta\tcriteria\n",
            "post\t=\tPost.objects.get(pk\t=\tnum)\n",
            "The\tabove\tline,\tretrives\ta\tpost\taccording\tthe\tprimary\tkey.\tWe\tcan\tpass\tit\ton\tthe\ttemplate,\tto\n",
            "display\tit.\n",
            "me\t=\tUser.objects.get(username='rishi')\n",
            "Post.objects.filter(author=me)\n",
            "QuerySets\n",
            "13\n"
          ]
        }
      ]
    },
    {
      "cell_type": "markdown",
      "id": "XuVzFpX3RiLa",
      "metadata": {
        "id": "XuVzFpX3RiLa"
      },
      "source": [
        "**Different ways of Retrieval**"
      ]
    },
    {
      "cell_type": "code",
      "execution_count": null,
      "id": "FtMUeRLgRhKa",
      "metadata": {
        "id": "FtMUeRLgRhKa"
      },
      "outputs": [],
      "source": [
        "from langchain.retrievers import SVMRetriever\n",
        "from langchain.retrievers import TFIDFRetriever\n",
        "from langchain.document_loaders import PyPDFLoader\n",
        "from langchain.text_splitter import RecursiveCharacterTextSplitter"
      ]
    },
    {
      "cell_type": "code",
      "execution_count": null,
      "id": "teryfbGhRsfr",
      "metadata": {
        "id": "teryfbGhRsfr"
      },
      "outputs": [],
      "source": [
        "# Load PDF\n",
        "loader = PyPDFLoader(\"sample_data/django-tutorial.pdf\")\n",
        "pages = loader.load()\n",
        "all_page_text=[p.page_content for p in pages]\n",
        "joined_page_text=\" \".join(all_page_text)"
      ]
    },
    {
      "cell_type": "code",
      "execution_count": null,
      "id": "4rU3T7xKRvUi",
      "metadata": {
        "id": "4rU3T7xKRvUi"
      },
      "outputs": [],
      "source": [
        "# Split\n",
        "text_splitter = RecursiveCharacterTextSplitter(chunk_size = 1500,chunk_overlap = 150)\n",
        "splits = text_splitter.split_text(joined_page_text)"
      ]
    },
    {
      "cell_type": "code",
      "execution_count": null,
      "id": "1YBQ_wsvR9lK",
      "metadata": {
        "colab": {
          "base_uri": "https://localhost:8080/"
        },
        "id": "1YBQ_wsvR9lK",
        "outputId": "65821afd-b35b-44ba-d8f0-53eb10b8b1f6"
      },
      "outputs": [
        {
          "data": {
            "text/plain": [
              "[\"1.1\\n1.2\\n1.3\\n1.4\\n1.5\\n1.6\\n1.7\\n1.8\\n1.9\\n1.10\\n1.11\\n1.12\\n1.13\\n1.14\\n1.15\\nTable\\tof\\tContents\\nGetting\\tstarted\\nStarting\\ta\\tproject\\nCreating\\tan\\tapp\\nThe\\tadmin\\tinterface\\nViews\\nTemplate\\tLanguage\\nModels\\nRegex\\nQuerySets\\nURL\\tMapping\\nDjango\\tForms\\nAuthentication\\nTemplate\\tExtending\\nFile\\tUpload\\nRequest\\tObject\\n1 Getting\\tstarted\\twith\\tDjango\\nWe\\tassume\\tyou\\thave\\tthe\\tlatest\\tversion\\tof\\tpython\\tinstalled.\\tAnd\\talso\\tDjango\\tinstalled.\\nGetting\\tstarted\\n2 Starting\\ta\\tproject\\nLet's\\tcreate\\ta\\tproject\\tcalled\\tmysite.\\ndjango-admin\\tstartproject\\tmysite\\nThis\\tcommand\\twill\\tcreate\\ta\\tfolder\\tcalled\\tmysite\\twith\\tall\\tthe\\tfiles\\trequired\\tto\\tget\\tour\\tproject\\nstarted.\\nLet's\\tcd\\tinto\\tour\\tdirectory\\tto\\tstart\\tdoing\\tsome\\twork.\\ncd\\tmysite\\nOpen\\tthe\\tsettings.py\\tfile.\\tModify\\tthe\\tTIME_ZONE\\tto\\twherever\\tyou\\tare\\tfrom.\\nTIME_ZONE\\t=\\t'Asia/Kolkata'\\nAdd\\ta\\tpath\\tfor\\tstatic\\tfiles\\nSTATIC_URL\\t=\\t'/static/'\\nSTATIC_ROOT\\t=\\tos.path.join(BASE_DIR,\\t'static')\\nIf\\tyou\\tare\\thosting\\tyour\\tsite\\ton\\tpythonanywhere.com.\\tMake\\tsure\\tit\\tis\\ton\\tthe\\tlist\\tof\\tallowed\\nhosts.\\nALLOWED_HOSTS\\t=\\t['pythonanywhere.com']\\nTo\\tcreate\\ta\\tdatabase\\npython\\tmanage.py\\tmigrate\\nStarting\\tthe\\tweb\\tserver\\npython\\tmanage.py\\trunserver\\nThe\\twebsite\\tcan\\tbe\\taccessed\\tat\\t\\nhttp://localhost:8000/\\nStarting\\ta\\tproject\\n3 Starting\\ta\\tproject\\n4 Creating\\tan\\tapp\\nA\\tproject\\tis\\ta\\tcollection\\tof\\tmany\\tapplications.\\tWe\\tcan\\tthink\\tof\\tthem\\tas\\tmodules.\\nTo\\tcreate\\ta\\tnew\\tapp\\npython\\tmanage.py\\tstartapp\\tmyapp\\nThis\\tcreates\\ta\\tnew\\tfolder\\twithin\\tour\\tproject\\tfolder\\twith\\tall\\tthe\\tfiles\\trequired\\tfor\\tthe\\tapp.\",\n",
              " \"To\\tcreate\\ta\\tnew\\tapp\\npython\\tmanage.py\\tstartapp\\tmyapp\\nThis\\tcreates\\ta\\tnew\\tfolder\\twithin\\tour\\tproject\\tfolder\\twith\\tall\\tthe\\tfiles\\trequired\\tfor\\tthe\\tapp.\\nWe\\tneed\\tto\\tadd\\tthe\\tname\\tof\\tthe\\tapp\\tin\\tour\\tproject\\tsettings.py\\tfile.\\nINSTALLED_APPS\\t=\\t[\\n\\t\\t\\t\\t'django.contrib.admin',\\n\\t\\t\\t\\t'django.contrib.auth',\\n\\t\\t\\t\\t...,\\n\\t\\t\\t\\t'myapp'\\n]\\nDjango\\tUses\\tthe\\t\\nModel-View-Template\\n\\tframework\\nModel\\n\\tis\\ta\\tway\\tto\\tstore\\tour\\tdata.\\nView\\n\\textracts\\tdata\\tfrom\\tthe\\tmodel,\\tand\\tpasses\\tit\\ton\\tto\\tthe\\ttemplate\\nTemplate\\n\\tdisplays\\tthe\\tdata.\\nCreating\\tan\\tapp\\n5 The\\tadmin\\tinterface\\nWe\\tcan\\taccess\\tthe\\tadmin\\tinterface\\tat\\t\\nhttp://localhost:8000/admin\\nIt\\tallows\\tto\\taccess\\tthe\\tmodels\\t(Data)\\tin\\tour\\tproject\\nBut\\tfirst,\\twe\\tneed\\tto\\tcreate\\ta\\tsuperuser\\tto\\tbe\\table\\tto\\taccess\\tour\\tadmin\\tinterface\\npython\\tmanage.py\\tcreatesuperuser\\nThe\\tadmin\\tinterface\\twill\\tenable\\tyou\\tto\\tperform\\tall\\tthe\\tbasic\\tCRUD\\t(Create,\\tRead,\\tUpdate,\\nDelete)\\toperations.\\nTo\\tmake\\tsure\\tthat\\twe\\tcan\\taccess\\tour\\tmodels\\tin\\tour\\tadmin\\tinterface,\\twe\\tneed\\tto\\tregister\\nthem\\tin\\tthe\\t\\nadmin.py\\n\\tfile.\\nThe\\tadmin\\tinterface\\n6 Views\\nA\\tview\\tis\\ta\\tpython\\tfunction\\tthat\\ttakes\\tin\\ta\\trequest\\tand\\treturns\\ta\\tresponse.\\nThe\\trequest\\tobject\\tcontains\\tmetadata\\tabout\\tthe\\trequest.\\tThe\\tfirst\\targument\\tto\\tthe\\tview\\nfunction\\tis\\ta\\trequest.\\tEach\\tview\\tis\\tresponsible\\tfor\\treturning\\ta\\tresponse\\tobject.\\nCreate\\ta\\tfolder\\tcalled\\t\\ntemplates\\n\\tinside\\tmyapp\\tfolder.\\tWrite\\ta\\thello.html\\tfile\\tinside\\ttemplates.\\n(Just\\tany\\tbasic\\tHTML\\twill\\tdo).\\nIn\\t\\nmyapp/views.py\\nfrom\\tdjango.shortcuts\\timport\\trender\\ndef\\thello(request):\",\n",
              " '(Just\\tany\\tbasic\\tHTML\\twill\\tdo).\\nIn\\t\\nmyapp/views.py\\nfrom\\tdjango.shortcuts\\timport\\trender\\ndef\\thello(request):\\n\\t\\t\\t\\treturn\\trender(request,\\t\\'hello.html\\',\\t{})\\nThe\\tfinal\\tparameter\\t{}\\tis\\ta\\tdictionary\\tcontaining\\tall\\tthe\\tvariables\\tthat\\twe\\twant\\tto\\tpass\\tto\\tour\\ntemplate.\\tA\\tdictionary\\tis\\tnothing\\tbut\\tan\\tunordered\\tcollection\\tof\\tkey-value\\tpairs.\\nCreate\\ta\\tfile\\tcalled\\turls.py\\tin\\tmyapp\\tfolder.\\tThis\\tis\\tfor\\tall\\tthe\\turls\\tused\\tin\\tmyapp.\\nmyapp/urls.py\\nfrom\\tdjango.conf.urls\\timport\\turl\\nfrom\\t.\\timport\\tviews\\nurlpatterns\\t=\\t[\\n\\t\\t\\t\\turl(r\"^hello/\",\\tviews.hello,\\tname\\t=\\t\\'hello\\')\\n]\\nYou\\tneed\\tto\\tmake\\tsure\\tthat\\tthe\\tmain\\turls.py\\tin\\tyour\\tproject\\tfolder\\tknows\\tall\\tthe\\turls\\tin\\nmyapp\\tapplication.\\nmysite/urls.py\\nfrom\\tdjango.conf.urls\\timport\\turl,\\tinclude\\nfrom\\tdjango.contrib\\timport\\tadmin\\nurlpatterns\\t=\\t[\\n\\t\\t\\t\\turl(r\"^admin/\",\\tadmin.site.urls),\\n\\t\\t\\t\\turl(r\"^myapp/\",\\tinclude(\\'myapp.urls\\'))\\n]\\nViews\\n7 Views\\n8 Template\\tLanguage\\nWe\\thave\\tlearnt\\tto\\tserver\\tup\\ta\\tstatic\\tpage\\ton\\tour\\tDjango\\tserver.\\nLet\\'s\\tadd\\tsome\\tdynamic\\tcontent.\\tThis\\tis\\twhere\\twe\\tinterpolate\\tour\\tHTML\\tfile\\twith\\tsome\\npython\\tvariables.\\tWe\\tpass\\tthe\\tpython\\tvariables\\tthough\\ta\\tdictionary.\\tA\\tdictionary\\tis\\tnothing\\nbut\\tan\\tunordered\\tcollection\\tof\\tkey-value\\tpairs.\\nmyapp/views.py\\nfrom\\tdjango.shortcuts\\timport\\trender\\nimport\\tdatetime\\ndef\\thello(request):\\n\\t\\t\\t\\ttoday\\t=\\tdatetime.datetime.now().date()\\n\\t\\t\\t\\treturn\\trender(request,\\t\\'hello.html\\',\\t{\\'today\\':\\ttoday})\\nIn\\tthe\\t\\nmyapp/templates/hello.html\\nWe\\tcan\\tinterpolate\\tthe\\tvariables\\twithin\\tcurly\\tbraces.\\n<p>\\tThe\\tdate\\ttoday\\tis\\t{{\\ttoday\\t}}\\t</p>',\n",
              " \"In\\tthe\\t\\nmyapp/templates/hello.html\\nWe\\tcan\\tinterpolate\\tthe\\tvariables\\twithin\\tcurly\\tbraces.\\n<p>\\tThe\\tdate\\ttoday\\tis\\t{{\\ttoday\\t}}\\t</p>\\nWe\\tcan\\tperform\\tlogic\\tand\\tloops\\tinside\\tour\\ttemplates\\talso.\\nTemplate\\tLanguage\\n9 Models\\nA\\tmodel\\tis\\tan\\tobject\\tthat\\tis\\tstored\\tin\\tthe\\tdatabase.\\nIn\\t\\nmyapp/models.py\\n\\tfile\\nfrom\\tdjango.db\\timport\\tmodels\\nfrom\\tdjango.utils\\timport\\ttimezone\\nclass\\tPost(models.Model):\\n\\t\\t\\t\\ttitle\\t=\\tmodels.CharField(max_length\\t=\\t100)\\n\\t\\t\\t\\tcontent\\t=\\tmodels.TextField()\\n\\t\\t\\t\\tcreated_at\\t=\\tmodels.DateTimeField(default=timezone.now())\\n\\t\\t\\t\\tauthor\\t=\\tmodels.ForeignKey('auth.User')\\n\\t\\t\\t\\tdef\\tpublish(self):\\n\\t\\t\\t\\t\\t\\t\\t\\tself.save()\\n\\t\\t\\t\\tdef\\t__str__(self):\\n\\t\\t\\t\\t\\t\\t\\t\\treturn\\tself.title\\nWe\\thave\\tcreated\\ta\\ttemplate\\tcalled\\tPost\\tfor\\ta\\tsimple\\tobject\\tthat\\twill\\thave\\ta\\ttitle\\tand\\tsome\\ncontent.\\tThe\\tpublish\\tcalls\\tthe\\tsave\\tmethod\\twhich\\tsaves\\tthe\\tobject\\tin\\tthe\\tdatabase.\\tThe\\tstr\\nmethod,\\tis\\ta\\tway\\tto\\tidentify\\tour\\tobjects.\\tIn\\tthis\\tcase,\\tthe\\tPost\\tobjects\\twill\\tbe\\treferenced\\tby\\ntheir\\ttitle.\\nNow\\twe\\tneed\\tto\\tadd\\tour\\tnew\\tmodel\\tto\\tour\\tdatabase,\\npython\\tmanage.py\\tmakemigrations\\tmyapp\\nNow,\\tpython\\thas\\tprepared\\ta\\tmigration\\tfile,\\tthat\\twe\\tneed\\tto\\tapply\\tto\\tour\\tdatabase,\\npython\\tmanage.py\\tmigrate\\tmyapp\\nTo\\tmake\\tsure\\twe\\tcan\\taccess\\tthis\\tmodel\\tthrough\\tthe\\t\\nadmin\\tinterface\\n,\\nfrom\\tdjango.contrib\\timport\\tadmin\\nfrom\\t.models\\timport\\tPost\\nadmin.site.register(Post)\\nNow\\tlet's\\tdisplay\\tthe\\tposts\\tin\\tour\\twebpage,\\twe\\tdo\\tthrough\\tviews\\tand\\ttemplates.\\nModels\\n10 In\\tmyapp/views.py\\nfrom\\t.models\\timport\\tPost\\ndef\\tposts(request):\\n\\t\\t\\t\\tposts\\t=\\tPost.objects.all()\",\n",
              " 'Models\\n10 In\\tmyapp/views.py\\nfrom\\t.models\\timport\\tPost\\ndef\\tposts(request):\\n\\t\\t\\t\\tposts\\t=\\tPost.objects.all()\\n\\t\\t\\t\\treturn\\trender(request,\\t\\'posts.html\\',\\t{\\'posts\\':\\tposts})\\nIn\\tmyapp/templates/posts.html\\n{%\\tfor\\tpost\\tin\\tposts\\t%}\\n\\t\\t\\t\\t<h1>{{\\tpost.title\\t}}</h1>\\n\\t\\t\\t\\t<p>{{\\tpost.content\\t}}</p>\\n\\t\\t\\t\\t<p>{{\\tpost.created_at\\t}}</p>\\n\\t\\t\\t\\t<p>{{\\tpost.author\\t}}</p>\\n{%\\tendfor\\t%}\\nIn\\tmyapp/urls.py\\nurlpatterns\\t=\\t[\\n\\t\\t\\t\\turl(r\"^hello/\",\\tviews.hello,\\tname\\t=\\t\\'hello\\'),\\n\\t\\t\\t\\turl(r\"^posts/\",\\tviews.posts,\\tname\\t=\\t\\'posts\\'),\\n]\\nModels\\n11 Regex\\nURLs\\tare\\tmapped\\tusing\\tRegex\\t(Regular\\texpressions)\\nRegular\\texpressions\\tstart\\twith\\tr\\tand\\tare\\tcontained\\twithin\\t\"\\t\"\\t(quotes)\\nRegular\\texpressions\\tfollow\\tcertain\\trules\\n^\\tsignifies\\tstarting\\tof\\tthe\\ttext\\n$\\tsignifies\\tending\\tof\\tthe\\ttext\\n\\\\d\\tsignifies\\ta\\tdigit\\n+\\tsignifies\\tthat\\tthe\\tprevious\\titem\\tshould\\tbe\\trepeated\\n()\\tis\\tused\\tto\\tcapture\\tpart\\tof\\tthe\\tpattern\\nImagine\\twe\\tindividual\\turls\\tfor\\tposts\\tsuch\\tas\\t\\nhttp:localhost/post/123/\\nNow\\tto\\twrite\\ta\\tview\\tfor\\teach\\turl\\twould\\tbe\\tcumbersome,\\tso\\twe\\tmap\\tviews\\twith\\turls\\tcreated\\nby\\tregex,\\tand\\twe\\tcan\\textract\\tthe\\tnumber\\tfrom\\tthe\\turl,\\tand\\tpass\\tit\\tto\\tthe\\tview.\\nr\"^post/(?P<val>\\\\d+)/$\"\\nThe\\tabove\\texpression,\\twould\\tmatch\\tsomething\\tlike\\t\\nhttp://localhost/post/123/\\nThe\\tvalue\\t\\'123\\'\\tis\\tcaptured\\tand\\tstored\\tin\\tthe\\tvariable\\tnamed\\tval,\\tand\\tpassed\\tto\\tthe\\tview.\\nRegex\\n12 Query\\tsets\\nWe\\tcan\\tstart\\tthe\\tdjango\\tshell\\twith\\tthe\\tbelow\\tcommand:\\npython\\tmanage.py\\tshell\\nThis\\tstarts\\tthe\\tconsole\\t>>\\n>>\\tfrom\\tmyapp.models\\timport\\tPosts\\n>>\\tPost.objects.all()',\n",
              " 'python\\tmanage.py\\tshell\\nThis\\tstarts\\tthe\\tconsole\\t>>\\n>>\\tfrom\\tmyapp.models\\timport\\tPosts\\n>>\\tPost.objects.all()\\nThe\\tabove\\tcommand\\treturns\\tall\\tthe\\tPosts\\tsaved\\tin\\tthe\\tdatabase.\\nWe\\tcan\\tfilter\\tthe\\tobjects\\tbased\\ton\\ta\\tcriteria\\nand\\tWe\\tcan\\talso\\torder/sort\\tthe\\tobjects\\tbased\\ton\\ta\\tcriteria\\npost\\t=\\tPost.objects.get(pk\\t=\\tnum)\\nThe\\tabove\\tline,\\tretrives\\ta\\tpost\\taccording\\tthe\\tprimary\\tkey.\\tWe\\tcan\\tpass\\tit\\ton\\tthe\\ttemplate,\\tto\\ndisplay\\tit.\\nme\\t=\\tUser.objects.get(username=\\'rishi\\')\\nPost.objects.filter(author=me)\\nQuerySets\\n13 URL\\tMapping\\nEach\\tURL\\tis\\tmapped\\tto\\ta\\tview.\\nLet\\'s\\tsuppose\\twe\\twant\\tto\\tshow\\tour\\tpost\\tin\\tdetail\\ton\\tit\\'s\\town\\tpage/url.\\nLet\\'s\\tput\\ta\\t\\'See\\tmore\\'\\tlink\\tbelow\\teach\\tpost,\\twhich\\twill\\tshow\\tthe\\tentire\\tpost\\ton\\tit\\'s\\town\\tpage.\\nIn\\t\\nurls.py\\nurl(r\"^post/(?P<num>\\\\d+)/$\",\\tviews.post_detail,\\tname\\t=\\t\\'post_detail\\')\\nWe\\tcapture\\tthe\\tpattern\\tfrom\\tthe\\turl,\\tand\\tname\\tit\\tnum,\\tand\\tpass\\tit\\ton\\tthe\\tview.\\nIn\\t\\nposts.html\\n{%\\tfor\\tpost\\tin\\tposts\\t%}\\n\\t\\t\\t\\t<h1>\\t{{\\tpost.title\\t}}\\t</h1>\\n\\t\\t\\t\\t<a\\thref={%\\turl\\t\\'post_detail\\'\\tpk=post.pk\\t%}\">\\tSee\\tmore\\t</a>\\n{%\\tendfor\\t%}\\nHere,\\tpk\\trefers\\tto\\tprimary_key.\\tWe\\tdidn\\'t\\texplicitly\\tcreate\\ta\\tprimary_key,\\tDjango\\tcreated\\tone\\nfor\\tus\\tautomatically.\\tIt\\tis\\tthe\\tcolumn\\tthat\\tincreases\\tby\\t1\\tfor\\teach\\trecord.\\t1,\\t2,\\t3\\tand\\tso\\ton.\\tIt\\nis\\tsort\\tof\\tlike\\tan\\tindex\\tnumber\\tfor\\tour\\tposts.\\nIn\\t\\nviews.py\\ndef\\tpost_detail(request,\\tnum):\\n\\t\\t\\t\\tpost\\t=\\tPost.objects.get(pk\\t=\\tnum)\\n\\t\\t\\t\\treturn\\trender(request,\\t\\'post_detail.html\\',\\t{\\'post\\':\\tpost})\\nIn\\t\\npost_detail.html\\n<title>\\tPost\\t#{{post.pk}}\\t</title>\\n<h1>\\t{{post.title}}\\t</h1>',\n",
              " 'return\\trender(request,\\t\\'post_detail.html\\',\\t{\\'post\\':\\tpost})\\nIn\\t\\npost_detail.html\\n<title>\\tPost\\t#{{post.pk}}\\t</title>\\n<h1>\\t{{post.title}}\\t</h1>\\n<a\\thref=\"{%\\turl\\t\\'posts\\'\\t%}\">\\tGo\\tback\\t</a>\\nURL\\tMapping\\n14 Django\\tForms\\nCreate\\ta\\tfile\\tcalled\\t\\nforms.py\\n\\tin\\tmyapp\\tfolder\\nWe\\tcan\\tcreate\\ta\\tform\\tfrom\\tscratch,\\tbut\\there\\twe\\twill\\tuse\\ta\\tModelForm\\twhich\\twill\\tsave\\tthe\\nresult\\tof\\tthe\\tform\\tto\\tthe\\tmodel.\\nmyapp/forms.py\\nfrom\\tdjango\\timport\\tforms\\nfrom\\t.models\\timport\\tPost\\nclass\\tPostForm(forms.ModelForm):\\n\\t\\t\\t\\tclass\\tMeta:\\n\\t\\t\\t\\t\\t\\t\\t\\tmodel\\t=\\tPost\\n\\t\\t\\t\\t\\t\\t\\t\\tfields\\t=\\t[\\'title\\',\\t\\'content\\']\\nIn\\ttemplates\\tfolder,\\tcreate\\ta\\tfile\\tcalled\\tpost_new.html\\n<h1>\\tNew\\tPost\\t</h1>\\n<form\\tmethod=\"POST\">\\n\\t\\t\\t\\t{%\\tcrsf_token\\t%}\\n\\t\\t\\t\\t{{\\tform.as_p\\t}}\\n\\t\\t\\t\\t<button\\ttype=\"submit\">\\tSave\\t</button>\\n</form>\\nIn\\t\\nmyapp/views.py\\nfrom\\tdjango.shortcuts\\timport\\trender,\\tredirect\\nfrom\\t.forms\\timport\\tPostForm\\ndef\\tpost_new(request):\\n\\t\\t\\t\\tif\\trequest.method\\t==\\t\"POST\":\\n\\t\\t\\t\\t\\t\\t\\t\\tform\\t=\\tPostForm(request.POST)\\n\\t\\t\\t\\t\\t\\t\\t\\tif\\tform.is_valid():\\n\\t\\t\\t\\t\\t\\t\\t\\t\\t\\t\\t\\tpost\\t=\\tform.save()\\n\\t\\t\\t\\t\\t\\t\\t\\t\\t\\t\\t\\treturn\\tredirect(\\'post_detail\\',\\tpk=post.pk)\\n\\t\\t\\t\\telse:\\n\\t\\t\\t\\t\\t\\t\\t\\tform\\t=\\tPostForm()\\n\\t\\t\\t\\treturn\\trender(request,\\t\\'post_new.html\\',\\t{\\'form\\':\\tform})\\nrequest.POST\\t\\nis\\ta\\tdictionary\\tlike\\tobject\\tcontaining\\tthe\\tform\\tdata.\\nIn\\t\\nmyapp/urls.py\\nDjango\\tForms\\n15 url(r\"^new/\",\\tviews.post_new,\\tname\\t=\\t\\'new\\')\\nif\\tform.is_valid():\\n\\t\\t\\t\\tpost\\t=\\tform.save(commit=False)\\n\\t\\t\\t\\tpost.author\\t=\\trequest.user\\n\\t\\t\\t\\tpost.published_date\\t=\\ttimezone.now()\\n\\t\\t\\t\\tpost.save()',\n",
              " 'if\\tform.is_valid():\\n\\t\\t\\t\\tpost\\t=\\tform.save(commit=False)\\n\\t\\t\\t\\tpost.author\\t=\\trequest.user\\n\\t\\t\\t\\tpost.published_date\\t=\\ttimezone.now()\\n\\t\\t\\t\\tpost.save()\\nIn\\tthe\\tabove\\texample,\\twe\\tdon\\'t\\tsave\\tthe\\tform\\tdata\\tto\\tthe\\tdatabase\\tright\\taway.\\tWe\\tadd\\ncertain\\tadditional\\tinfo,\\tbefore\\tsaving.\\nIf\\tthe\\tform\\thas\\timage\\tor\\tfile\\tupload\\tthen,\\twe\\tneed\\tto\\tset\\n<form\\tenctype=\"multipart/form-data\">\\nTo\\treceive\\tthe\\tfiles\\tin\\tthe\\tview,\\twe\\tneed\\tto\\tuse\\tREQUEST.FILES\\nform\\t=\\tPostForm(request.POST,\\trequest.FILES)\\nIf\\ta\\tfield\\tis\\toptional,\\tthen\\tin\\tthe\\tforms.py\\nclass\\tPostForm(forms.ModelForm):\\n\\t\\t\\t\\t#The\\tpicture\\tfield\\tis\\tnot\\tmandatory\\n\\t\\t\\t\\tpicture\\t=\\tforms.ImageField(required=False)\\n\\t\\t\\t\\tclass\\tMeta:\\n\\t\\t\\t\\t\\t\\t\\t\\tmodel\\t=\\tPost\\n\\t\\t\\t\\t\\t\\t\\t\\tfields\\t=\\t[\\'picture\\',\\'question\\']\\nDjango\\tForms\\n16 Authentication\\tand\\tAuthorization\\nAuthentication\\tverifies\\tif\\ta\\tuser\\tis\\twho\\tthey\\tclaim\\tto\\tbe.\\tAuthorization\\tdetermines\\twhat\\tan\\nauthenticated\\tuser\\tis\\tallowed\\tto\\tdo.\\tThe\\tboth\\tare\\tsomewhat\\tcouped\\tand\\tcollectively\\tcalled\\nAuthentication.\\ndjango.contrib.auth\\n\\tis\\tthe\\tbuilt\\tin\\tmodule\\tto\\tinclude\\tthese\\tfeatures\\tin\\tDjango.\\tIt\\tcomes\\twith\\nall\\tthe\\tdefaul\\tt\\tauth\\tproperties.\\nOnly\\tone\\tclass\\tof\\tusers\\texists\\tin\\tDjango,\\tsuperusers\\tare\\tjust\\tusers\\twith\\tspecial\\tattributes\\nset.\\nUser\\n\\tobject\\thas\\tprimarily:\\tusername,\\tpassword,\\temail,\\tfirst_name,\\tlast_name\\nInside\\tmodels,\\twe\\tcan\\tdo,\\n\\t\\nauthor\\t=\\tmodels.ForeignKey(\\'auth.User\\')\\n\\t\\nfrom\\tdjango.contrib.auth\\timport\\tauthenticate\\nuser\\t=\\tauthenticate(username=\\'john\\',\\tpassword=\\'secret\\')\\nif\\tuser\\tis\\tnot\\tNone:\\n\\t\\t\\t\\t#A\\tgenuine\\tuser\\nelse:',\n",
              " 'from\\tdjango.contrib.auth\\timport\\tauthenticate\\nuser\\t=\\tauthenticate(username=\\'john\\',\\tpassword=\\'secret\\')\\nif\\tuser\\tis\\tnot\\tNone:\\n\\t\\t\\t\\t#A\\tgenuine\\tuser\\nelse:\\n\\t\\t\\t\\t#NOT\\ta\\tgenuine\\tuser\\nWe\\tcan\\tuse\\tdecorators\\tto\\tprotect\\tour\\tviews,\\tsuch\\tthat\\tonly\\tlogged-in\\tusers\\tcan\\taccess\\tthem\\nIn\\tviews.py\\nfrom\\tdjango.contrib.auth.decorators\\timport\\tlogin_required\\n#Add\\tthis\\tline\\ton\\ttop\\tof\\tthe\\tview\\n@login_required\\nTo\\tlogin\\tusers,\\twe\\tcan\\tuse\\tthe\\tdefault\\tview\\tthat\\tdjango.auth\\tprovides\\nIn\\tmysite/urls.py\\nfrom\\tdjango.contrib.auth\\timport\\tviews\\nurl(r\"^accounts/login/$\",\\tviews.login,\\tname=\\'login\\')\\nCreate\\ta\\tdirectory\\tcalled\\tregistration\\tinside\\ttemplates\\tfolder.\\tAnd\\tcreate\\ta\\ttemplate\\tcalled\\nlogin.html\\nAuthentication\\n17 \\t<form\\tmethod=\"post\"\\taction=\"{%\\turl\\t\\'login\\'\\t%}\">\\n\\t\\t\\t\\t{%\\tcsrf_token\\t%}\\n\\t\\t\\t\\t\\t\\t\\t\\t<table>\\n\\t\\t\\t\\t\\t\\t\\t\\t<tr>\\n\\t\\t\\t\\t\\t\\t\\t\\t\\t\\t\\t\\t<td>{{\\tform.username.label_tag\\t}}</td>\\n\\t\\t\\t\\t\\t\\t\\t\\t\\t\\t\\t\\t<td>{{\\tform.username\\t}}</td>\\n\\t\\t\\t\\t\\t\\t\\t\\t</tr>\\n\\t\\t\\t\\t\\t\\t\\t\\t<tr>\\n\\t\\t\\t\\t\\t\\t\\t\\t\\t\\t\\t\\t<td>{{\\tform.password.label_tag\\t}}</td>\\n\\t\\t\\t\\t\\t\\t\\t\\t\\t\\t\\t\\t<td>{{\\tform.password\\t}}</td>\\n\\t\\t\\t\\t\\t\\t\\t\\t</tr>\\n\\t\\t\\t\\t\\t\\t\\t\\t</table>\\n\\t\\t\\t\\t\\t\\t\\t\\t<input\\ttype=\"submit\"\\tvalue=\"login\"\\t/>\\n\\t\\t\\t\\t\\t\\t\\t\\t<input\\ttype=\"hidden\"\\tname=\"next\"\\tvalue=\"{{\\tnext\\t}}\"\\t/>\\n\\t\\t\\t\\t</form>\\nIn\\tsettings.py\\nLOGIN_REDIRECT_URL\\t=\\t\"/\"\\nInside\\twe\\tcan\\tcheck\\tfor\\tuser\\tlogin\\n{%\\tif\\tuser.is_authenticated\\t%}\\n\\t\\t#Some\\tcode\\n{%\\telse\\t%}\\n\\t\\t#Some\\tcode\\n{%\\tendif\\t%}\\nTo\\tlogout,\\tadd\\tthe\\turl\\n<a\\thref=\"{%\\turl\\t\\'logout\\'\\t%>\\tLogout\\t</a>\\nIn\\turls.py\\nurl(r\\'^accounts/logout/$\\',\\tviews.logout,\\tname=\\'logout\\',\\tkwargs={\\'next_page\\':\\t\\'/\\'}),\\nThe\\tUser\\tmodel\\tis\\tstored\\tin',\n",
              " 'In\\turls.py\\nurl(r\\'^accounts/logout/$\\',\\tviews.logout,\\tname=\\'logout\\',\\tkwargs={\\'next_page\\':\\t\\'/\\'}),\\nThe\\tUser\\tmodel\\tis\\tstored\\tin\\t\\ndjango.contrib.auth.models\\nAuthentication\\n18 Template\\tExtending\\nSuppose\\tyou\\thave\\ta\\tlot\\tof\\tHTML\\tthat\\tis\\trepeated\\tin\\tall\\tthe\\thtml\\tfiles\\t(templates).\\tWe\\tcan\\navoid\\twriting\\trepeating\\tpieces\\tof\\tHTML\\tcode\\tby\\ttemplate\\textending.\\nCreate\\ta\\tbase.html\\tfile\\tin\\tthe\\ttemplates\\tfolder\\ntemplates/base.html\\n<html>\\n\\t\\t\\t\\t...Some\\tHTML\\tcontent...\\n\\t\\t\\t\\t{%\\tblock\\tcontent\\t%}\\n\\t\\t\\t\\t{%\\tendblock\\t%}\\n</html>\\nWhatever\\tgoes\\tbetween\\tblock\\tcontent\\tand\\tendblock\\tis\\tthe\\tcontent\\tthat\\tis\\tunique\\tto\\ta\\tpage.\\ntemplates/home.html\\n{%\\textends\\t\\'base.html\\'\\t%}\\n{%\\tblock\\tcontent\\t%}\\n\\t\\t\\t\\t...Some\\tunique\\tcontent...\\n{%\\tendblock\\t%}\\nTemplate\\tExtending\\n19 File\\tUpload\\nfile\\t=\\tmodels.FileField(upload_to=\\'uploads/\\')\\npicture\\t=\\tmodels.ImageField(upload_to=\\'uploads/\\')\\nThese\\tare\\tstored\\tin\\tthe\\tdatabase\\tas\\ta\\tstring\\tfield,\\tas\\ta\\treference\\tto\\tthe\\tactual\\tfile.\\tIf\\tyou\\ndelete\\ta\\trecord\\tin\\tthe\\tdatabase,\\tDjango\\twill\\tonly\\tdestroy\\tthe\\treference\\tand\\tnot\\tthe\\tactual\\nphysical\\tfile.\\nIn\\t\\nsettings.py\\nMEDIA_URL\\t=\\t\\'/media/\\nMEDIA_ROOT\\t=\\tos.path.join(BASE_DIR,\\t\\'media\\')\\nIn\\t\\nurls.py\\nfrom\\tdjango.conf\\timport\\tsettings\\nfrom\\tdjango.conf.urls.static\\timport\\tstatic\\nurlpatterns\\t=\\t[\\n\\t\\t\\t\\t...Your\\turls\\tinfo...\\n]\\t+\\tstatic(settings.MEDIA_URL,\\tdocument_root=settings.MEDIA_ROOT)\\nWe\\tneed\\tto\\tmake\\tsure\\tthe\\tform\\thas\\t\\nenctype\\t=\\t\"multipart/form-data\"\\nTo\\tdisplay\\tthe\\timage\\tin\\tthe\\ttemplate\\n{%\\tif\\tpost.picture\\t%}\\n<img\\tsrc=\"{{\\tpost.picture.url\\t}}\">',\n",
              " 'enctype\\t=\\t\"multipart/form-data\"\\nTo\\tdisplay\\tthe\\timage\\tin\\tthe\\ttemplate\\n{%\\tif\\tpost.picture\\t%}\\n<img\\tsrc=\"{{\\tpost.picture.url\\t}}\">\\nTo\\treceive\\tthe\\tfiles\\tin\\tthe\\tview,\\twe\\tneed\\tto\\tuse\\tREQUEST.FILES\\nform\\t=\\tPostForm(request.POST,\\trequest.FILES)\\nrequest.FILES\\n\\tis\\ta\\tdictionary\\tlike\\tobject\\tcontaing\\tall\\tthe\\tuploaded\\tfiles.\\nNote:\\tTo\\tdeal\\twith\\timages,\\tpython\\trequires\\ta\\tlibrary\\tcalled\\tPillow.\\nsudo\\tpip\\tinstall\\tpillow\\nFile\\tUpload\\n20 File\\tUpload\\n21 Request\\tObject\\nThe\\trequest\\tobject\\tcontains\\ta\\tlot\\tof\\tinformation\\tthat\\twe\\tcan\\taccess\\tin\\tthe\\tview.\\nFor\\texample\\trequest.META\\tgives\\tall\\tthe\\theader\\tinformation.\\tIt\\tis\\ta\\tpython\\tdictionary.\\ndef\\thome(request):\\n\\t\\t\\t\\ttest\\t=\\trequest.META\\n\\t\\t\\t\\treturn\\trender(request,\\t\\'home.html\\',\\t{\\'test\\':\\ttest})\\n<div>\\n\\t\\t{%\\tfor\\tkey,value\\tin\\ttest.items\\t%}\\n\\t\\t\\t\\t<p>{{key}}\\t:\\t{{value}}</p>\\n\\t\\t{%\\tendfor\\t%}\\n</div>\\ntest.items()\\tgives\\tus\\ta\\tlist\\tof\\ttuples\\tin\\tthe\\tdictionary\\ttest.\\tIn\\ta\\ttemplate,\\twe\\tdon\\'t\\tneed\\tto\\tuse\\nthe\\t()\\tto\\tcall\\ta\\tfunction\\nRequest\\tObject\\n22']"
            ]
          },
          "execution_count": 106,
          "metadata": {},
          "output_type": "execute_result"
        }
      ],
      "source": [
        "splits"
      ]
    },
    {
      "cell_type": "code",
      "execution_count": null,
      "id": "DrmK29cISFvM",
      "metadata": {
        "id": "DrmK29cISFvM"
      },
      "outputs": [],
      "source": [
        "# Retrieve\n",
        "svm_retriever = SVMRetriever.from_texts(splits,embeddings_model)\n",
        "tfidf_retriever = TFIDFRetriever.from_texts(splits)"
      ]
    },
    {
      "cell_type": "code",
      "execution_count": null,
      "id": "Ik0LjdLTS9ly",
      "metadata": {
        "id": "Ik0LjdLTS9ly"
      },
      "outputs": [],
      "source": [
        "# Create a question for the loader\n",
        "# question = \"What are the key features of Django?\"\n",
        "# question = \"Where can we access the can access the admin interface?\"\n",
        "question = \"What is a python function that takes in a request and returns a response?\""
      ]
    },
    {
      "cell_type": "code",
      "execution_count": null,
      "id": "xOsAQDJMSiv7",
      "metadata": {
        "colab": {
          "base_uri": "https://localhost:8080/"
        },
        "id": "xOsAQDJMSiv7",
        "outputId": "7146d456-3381-4706-f818-c36d3ed036f4"
      },
      "outputs": [
        {
          "data": {
            "text/plain": [
              "Document(page_content='enctype\\t=\\t\"multipart/form-data\"\\nTo\\tdisplay\\tthe\\timage\\tin\\tthe\\ttemplate\\n{%\\tif\\tpost.picture\\t%}\\n<img\\tsrc=\"{{\\tpost.picture.url\\t}}\">\\nTo\\treceive\\tthe\\tfiles\\tin\\tthe\\tview,\\twe\\tneed\\tto\\tuse\\tREQUEST.FILES\\nform\\t=\\tPostForm(request.POST,\\trequest.FILES)\\nrequest.FILES\\n\\tis\\ta\\tdictionary\\tlike\\tobject\\tcontaing\\tall\\tthe\\tuploaded\\tfiles.\\nNote:\\tTo\\tdeal\\twith\\timages,\\tpython\\trequires\\ta\\tlibrary\\tcalled\\tPillow.\\nsudo\\tpip\\tinstall\\tpillow\\nFile\\tUpload\\n20 File\\tUpload\\n21 Request\\tObject\\nThe\\trequest\\tobject\\tcontains\\ta\\tlot\\tof\\tinformation\\tthat\\twe\\tcan\\taccess\\tin\\tthe\\tview.\\nFor\\texample\\trequest.META\\tgives\\tall\\tthe\\theader\\tinformation.\\tIt\\tis\\ta\\tpython\\tdictionary.\\ndef\\thome(request):\\n\\t\\t\\t\\ttest\\t=\\trequest.META\\n\\t\\t\\t\\treturn\\trender(request,\\t\\'home.html\\',\\t{\\'test\\':\\ttest})\\n<div>\\n\\t\\t{%\\tfor\\tkey,value\\tin\\ttest.items\\t%}\\n\\t\\t\\t\\t<p>{{key}}\\t:\\t{{value}}</p>\\n\\t\\t{%\\tendfor\\t%}\\n</div>\\ntest.items()\\tgives\\tus\\ta\\tlist\\tof\\ttuples\\tin\\tthe\\tdictionary\\ttest.\\tIn\\ta\\ttemplate,\\twe\\tdon\\'t\\tneed\\tto\\tuse\\nthe\\t()\\tto\\tcall\\ta\\tfunction\\nRequest\\tObject\\n22')"
            ]
          },
          "execution_count": 130,
          "metadata": {},
          "output_type": "execute_result"
        }
      ],
      "source": [
        "docs_svm=svm_retriever.invoke(question)\n",
        "docs_svm[0]"
      ]
    },
    {
      "cell_type": "code",
      "execution_count": null,
      "id": "Y418eDvvTjNT",
      "metadata": {
        "colab": {
          "base_uri": "https://localhost:8080/",
          "height": 140
        },
        "id": "Y418eDvvTjNT",
        "outputId": "458706a9-45d8-44a4-9c01-03452c9de559"
      },
      "outputs": [
        {
          "data": {
            "application/vnd.google.colaboratory.intrinsic+json": {
              "type": "string"
            },
            "text/plain": [
              "'enctype\\t=\\t\"multipart/form-data\"\\nTo\\tdisplay\\tthe\\timage\\tin\\tthe\\ttemplate\\n{%\\tif\\tpost.picture\\t%}\\n<img\\tsrc=\"{{\\tpost.picture.url\\t}}\">\\nTo\\treceive\\tthe\\tfiles\\tin\\tthe\\tview,\\twe\\tneed\\tto\\tuse\\tREQUEST.FILES\\nform\\t=\\tPostForm(request.POST,\\trequest.FILES)\\nrequest.FILES\\n\\tis\\ta\\tdictionary\\tlike\\tobject\\tcontaing\\tall\\tthe\\tuploaded\\tfiles.\\nNote:\\tTo\\tdeal\\twith\\timages,\\tpython\\trequires\\ta\\tlibrary\\tcalled\\tPillow.\\nsudo\\tpip\\tinstall\\tpillow\\nFile\\tUpload\\n20 File\\tUpload\\n21 Request\\tObject\\nThe\\trequest\\tobject\\tcontains\\ta\\tlot\\tof\\tinformation\\tthat\\twe\\tcan\\taccess\\tin\\tthe\\tview.\\nFor\\texample\\trequest.META\\tgives\\tall\\tthe\\theader\\tinformation.\\tIt\\tis\\ta\\tpython\\tdictionary.\\ndef\\thome(request):\\n\\t\\t\\t\\ttest\\t=\\trequest.META\\n\\t\\t\\t\\treturn\\trender(request,\\t\\'home.html\\',\\t{\\'test\\':\\ttest})\\n<div>\\n\\t\\t{%\\tfor\\tkey,value\\tin\\ttest.items\\t%}\\n\\t\\t\\t\\t<p>{{key}}\\t:\\t{{value}}</p>\\n\\t\\t{%\\tendfor\\t%}\\n</div>\\ntest.items()\\tgives\\tus\\ta\\tlist\\tof\\ttuples\\tin\\tthe\\tdictionary\\ttest.\\tIn\\ta\\ttemplate,\\twe\\tdon\\'t\\tneed\\tto\\tuse\\nthe\\t()\\tto\\tcall\\ta\\tfunction\\nRequest\\tObject\\n22'"
            ]
          },
          "execution_count": 131,
          "metadata": {},
          "output_type": "execute_result"
        }
      ],
      "source": [
        "docs_svm[0].page_content"
      ]
    },
    {
      "cell_type": "code",
      "execution_count": null,
      "id": "1c8NgERBS6A7",
      "metadata": {
        "colab": {
          "base_uri": "https://localhost:8080/"
        },
        "id": "1c8NgERBS6A7",
        "outputId": "e94b2e39-e1e7-4ea3-effb-f2b52af825f1"
      },
      "outputs": [
        {
          "data": {
            "text/plain": [
              "Document(page_content=\"To\\tcreate\\ta\\tnew\\tapp\\npython\\tmanage.py\\tstartapp\\tmyapp\\nThis\\tcreates\\ta\\tnew\\tfolder\\twithin\\tour\\tproject\\tfolder\\twith\\tall\\tthe\\tfiles\\trequired\\tfor\\tthe\\tapp.\\nWe\\tneed\\tto\\tadd\\tthe\\tname\\tof\\tthe\\tapp\\tin\\tour\\tproject\\tsettings.py\\tfile.\\nINSTALLED_APPS\\t=\\t[\\n\\t\\t\\t\\t'django.contrib.admin',\\n\\t\\t\\t\\t'django.contrib.auth',\\n\\t\\t\\t\\t...,\\n\\t\\t\\t\\t'myapp'\\n]\\nDjango\\tUses\\tthe\\t\\nModel-View-Template\\n\\tframework\\nModel\\n\\tis\\ta\\tway\\tto\\tstore\\tour\\tdata.\\nView\\n\\textracts\\tdata\\tfrom\\tthe\\tmodel,\\tand\\tpasses\\tit\\ton\\tto\\tthe\\ttemplate\\nTemplate\\n\\tdisplays\\tthe\\tdata.\\nCreating\\tan\\tapp\\n5 The\\tadmin\\tinterface\\nWe\\tcan\\taccess\\tthe\\tadmin\\tinterface\\tat\\t\\nhttp://localhost:8000/admin\\nIt\\tallows\\tto\\taccess\\tthe\\tmodels\\t(Data)\\tin\\tour\\tproject\\nBut\\tfirst,\\twe\\tneed\\tto\\tcreate\\ta\\tsuperuser\\tto\\tbe\\table\\tto\\taccess\\tour\\tadmin\\tinterface\\npython\\tmanage.py\\tcreatesuperuser\\nThe\\tadmin\\tinterface\\twill\\tenable\\tyou\\tto\\tperform\\tall\\tthe\\tbasic\\tCRUD\\t(Create,\\tRead,\\tUpdate,\\nDelete)\\toperations.\\nTo\\tmake\\tsure\\tthat\\twe\\tcan\\taccess\\tour\\tmodels\\tin\\tour\\tadmin\\tinterface,\\twe\\tneed\\tto\\tregister\\nthem\\tin\\tthe\\t\\nadmin.py\\n\\tfile.\\nThe\\tadmin\\tinterface\\n6 Views\\nA\\tview\\tis\\ta\\tpython\\tfunction\\tthat\\ttakes\\tin\\ta\\trequest\\tand\\treturns\\ta\\tresponse.\\nThe\\trequest\\tobject\\tcontains\\tmetadata\\tabout\\tthe\\trequest.\\tThe\\tfirst\\targument\\tto\\tthe\\tview\\nfunction\\tis\\ta\\trequest.\\tEach\\tview\\tis\\tresponsible\\tfor\\treturning\\ta\\tresponse\\tobject.\\nCreate\\ta\\tfolder\\tcalled\\t\\ntemplates\\n\\tinside\\tmyapp\\tfolder.\\tWrite\\ta\\thello.html\\tfile\\tinside\\ttemplates.\\n(Just\\tany\\tbasic\\tHTML\\twill\\tdo).\\nIn\\t\\nmyapp/views.py\\nfrom\\tdjango.shortcuts\\timport\\trender\\ndef\\thello(request):\")"
            ]
          },
          "execution_count": 132,
          "metadata": {},
          "output_type": "execute_result"
        }
      ],
      "source": [
        "docs_tfidf=tfidf_retriever.invoke(question)\n",
        "docs_tfidf[0]"
      ]
    },
    {
      "cell_type": "code",
      "execution_count": null,
      "id": "K_EOkKiBUNHE",
      "metadata": {
        "colab": {
          "base_uri": "https://localhost:8080/",
          "height": 140
        },
        "id": "K_EOkKiBUNHE",
        "outputId": "d23d1eb6-9c07-41a1-9070-3dc9ebd060d4"
      },
      "outputs": [
        {
          "data": {
            "application/vnd.google.colaboratory.intrinsic+json": {
              "type": "string"
            },
            "text/plain": [
              "\"To\\tcreate\\ta\\tnew\\tapp\\npython\\tmanage.py\\tstartapp\\tmyapp\\nThis\\tcreates\\ta\\tnew\\tfolder\\twithin\\tour\\tproject\\tfolder\\twith\\tall\\tthe\\tfiles\\trequired\\tfor\\tthe\\tapp.\\nWe\\tneed\\tto\\tadd\\tthe\\tname\\tof\\tthe\\tapp\\tin\\tour\\tproject\\tsettings.py\\tfile.\\nINSTALLED_APPS\\t=\\t[\\n\\t\\t\\t\\t'django.contrib.admin',\\n\\t\\t\\t\\t'django.contrib.auth',\\n\\t\\t\\t\\t...,\\n\\t\\t\\t\\t'myapp'\\n]\\nDjango\\tUses\\tthe\\t\\nModel-View-Template\\n\\tframework\\nModel\\n\\tis\\ta\\tway\\tto\\tstore\\tour\\tdata.\\nView\\n\\textracts\\tdata\\tfrom\\tthe\\tmodel,\\tand\\tpasses\\tit\\ton\\tto\\tthe\\ttemplate\\nTemplate\\n\\tdisplays\\tthe\\tdata.\\nCreating\\tan\\tapp\\n5 The\\tadmin\\tinterface\\nWe\\tcan\\taccess\\tthe\\tadmin\\tinterface\\tat\\t\\nhttp://localhost:8000/admin\\nIt\\tallows\\tto\\taccess\\tthe\\tmodels\\t(Data)\\tin\\tour\\tproject\\nBut\\tfirst,\\twe\\tneed\\tto\\tcreate\\ta\\tsuperuser\\tto\\tbe\\table\\tto\\taccess\\tour\\tadmin\\tinterface\\npython\\tmanage.py\\tcreatesuperuser\\nThe\\tadmin\\tinterface\\twill\\tenable\\tyou\\tto\\tperform\\tall\\tthe\\tbasic\\tCRUD\\t(Create,\\tRead,\\tUpdate,\\nDelete)\\toperations.\\nTo\\tmake\\tsure\\tthat\\twe\\tcan\\taccess\\tour\\tmodels\\tin\\tour\\tadmin\\tinterface,\\twe\\tneed\\tto\\tregister\\nthem\\tin\\tthe\\t\\nadmin.py\\n\\tfile.\\nThe\\tadmin\\tinterface\\n6 Views\\nA\\tview\\tis\\ta\\tpython\\tfunction\\tthat\\ttakes\\tin\\ta\\trequest\\tand\\treturns\\ta\\tresponse.\\nThe\\trequest\\tobject\\tcontains\\tmetadata\\tabout\\tthe\\trequest.\\tThe\\tfirst\\targument\\tto\\tthe\\tview\\nfunction\\tis\\ta\\trequest.\\tEach\\tview\\tis\\tresponsible\\tfor\\treturning\\ta\\tresponse\\tobject.\\nCreate\\ta\\tfolder\\tcalled\\t\\ntemplates\\n\\tinside\\tmyapp\\tfolder.\\tWrite\\ta\\thello.html\\tfile\\tinside\\ttemplates.\\n(Just\\tany\\tbasic\\tHTML\\twill\\tdo).\\nIn\\t\\nmyapp/views.py\\nfrom\\tdjango.shortcuts\\timport\\trender\\ndef\\thello(request):\""
            ]
          },
          "execution_count": 133,
          "metadata": {},
          "output_type": "execute_result"
        }
      ],
      "source": [
        "docs_tfidf[0].page_content"
      ]
    }
  ],
  "metadata": {
    "colab": {
      "provenance": [],
      "include_colab_link": true
    },
    "kernelspec": {
      "display_name": "datascience",
      "language": "python",
      "name": "python3"
    },
    "language_info": {
      "codemirror_mode": {
        "name": "ipython",
        "version": 3
      },
      "file_extension": ".py",
      "mimetype": "text/x-python",
      "name": "python",
      "nbconvert_exporter": "python",
      "pygments_lexer": "ipython3",
      "version": "3.12.3"
    }
  },
  "nbformat": 4,
  "nbformat_minor": 5
}