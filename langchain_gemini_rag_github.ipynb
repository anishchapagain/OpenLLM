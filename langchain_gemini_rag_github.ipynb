{
 "cells": [
  {
   "cell_type": "code",
   "execution_count": 2,
   "metadata": {},
   "outputs": [
    {
     "name": "stderr",
     "output_type": "stream",
     "text": [
      "USER_AGENT environment variable not set, consider setting it to identify your requests.\n"
     ]
    }
   ],
   "source": [
    "from langchain.document_loaders import WebBaseLoader"
   ]
  },
  {
   "cell_type": "code",
   "execution_count": 33,
   "metadata": {},
   "outputs": [],
   "source": [
    "html = WebBaseLoader(\"https://github.com/anishchapagain/anishchapagain.github.io/blob/master/README.md\")\n",
    "pages = html.load_and_split()"
   ]
  },
  {
   "cell_type": "code",
   "execution_count": 34,
   "metadata": {},
   "outputs": [
    {
     "data": {
      "text/plain": [
       "[Document(page_content='anishchapagain.github.io/README.md at master · anishchapagain/anishchapagain.github.io · GitHub\\n\\n\\n\\n\\n\\n\\n\\n\\n\\n\\n\\n\\n\\n\\n\\n\\n\\n\\n\\n\\n\\n\\n\\n\\n\\n\\n\\n\\n\\n\\n\\n\\n\\n\\n\\n\\n\\n\\n\\n\\n\\n\\n\\n\\n\\nSkip to content\\n\\n\\n\\n\\n\\n\\n\\n\\n\\n\\n\\n\\nNavigation Menu\\n\\nToggle navigation\\n\\n\\n\\n\\n\\n\\n\\n\\n\\n \\n\\n\\n\\n\\n\\n\\n\\n\\n            Sign in\\n          \\n\\n\\n\\n\\n\\n\\n\\n\\n        Product\\n        \\n\\n\\n\\n\\n\\n\\n\\n\\n\\n\\n\\n\\nActions\\n        Automate any workflow\\n      \\n\\n\\n\\n\\n\\n\\n\\nPackages\\n        Host and manage packages\\n      \\n\\n\\n\\n\\n\\n\\n\\nSecurity\\n        Find and fix vulnerabilities\\n      \\n\\n\\n\\n\\n\\n\\n\\nCodespaces\\n        Instant dev environments\\n      \\n\\n\\n\\n\\n\\n\\n\\nGitHub Copilot\\n        Write better code with AI\\n      \\n\\n\\n\\n\\n\\n\\n\\nCode review\\n        Manage code changes\\n      \\n\\n\\n\\n\\n\\n\\n\\nIssues\\n        Plan and track work\\n      \\n\\n\\n\\n\\n\\n\\n\\nDiscussions\\n        Collaborate outside of code\\n      \\n\\n\\n\\n\\nExplore\\n\\n\\n\\n      All features\\n\\n    \\n\\n\\n\\n      Documentation\\n\\n    \\n\\n\\n\\n\\n\\n      GitHub Skills\\n\\n    \\n\\n\\n\\n\\n\\n      Blog\\n\\n    \\n\\n\\n\\n\\n\\n\\n\\n\\n\\n        Solutions\\n        \\n\\n\\n\\n\\n\\nBy size\\n\\n\\n\\n      Enterprise\\n\\n    \\n\\n\\n\\n      Teams\\n\\n    \\n\\n\\n\\n      Startups\\n\\n    \\n\\n\\n\\n\\nBy industry\\n\\n\\n\\n      Healthcare\\n\\n    \\n\\n\\n\\n      Financial services\\n\\n    \\n\\n\\n\\n      Manufacturing\\n\\n    \\n\\n\\n\\n\\nBy use case\\n\\n\\n\\n      CI/CD & Automation\\n\\n    \\n\\n\\n\\n      DevOps\\n\\n    \\n\\n\\n\\n      DevSecOps\\n\\n    \\n\\n\\n\\n\\n\\n\\n\\n        Resources\\n        \\n\\n\\n\\n\\n\\nTopics\\n\\n\\n\\n      AI\\n\\n    \\n\\n\\n\\n      DevOps\\n\\n    \\n\\n\\n\\n      Innersource\\n\\n    \\n\\n\\n\\n      Open Source\\n\\n    \\n\\n\\n\\n      Security\\n\\n    \\n\\n\\n\\n      Software Development\\n\\n    \\n\\n\\n\\n\\nExplore\\n\\n\\n\\n      Learning Pathways\\n\\n    \\n\\n\\n\\n\\n\\n      White papers, Ebooks, Webinars\\n\\n    \\n\\n\\n\\n\\n\\n      Customer Stories\\n\\n    \\n\\n\\n\\n      Partners\\n\\n    \\n\\n\\n\\n\\n\\n\\n\\n\\n\\n        Open Source\\n        \\n\\n\\n\\n\\n\\n\\n\\n\\n\\nGitHub Sponsors\\n        Fund open source developers\\n      \\n\\n\\n\\n\\n\\n\\n\\n\\nThe ReadME Project\\n        GitHub community articles\\n      \\n\\n\\n\\n\\nRepositories\\n\\n\\n\\n      Topics\\n\\n    \\n\\n\\n\\n      Trending\\n\\n    \\n\\n\\n\\n      Collections\\n\\n    \\n\\n\\n\\n\\n\\n\\n\\n        Enterprise\\n        \\n\\n\\n\\n\\n\\n\\n\\n\\n\\n\\n\\n\\nEnterprise platform\\n        AI-powered developer platform\\n      \\n\\n\\n\\n\\nAvailable add-ons\\n\\n\\n\\n\\n\\n\\n\\nAdvanced Security\\n        Enterprise-grade security features\\n      \\n\\n\\n\\n\\n\\n\\n\\nGitHub Copilot\\n        Enterprise-grade AI features\\n      \\n\\n\\n\\n\\n\\n\\n\\nPremium Support\\n        Enterprise-grade 24/7 support\\n      \\n\\n\\n\\n\\n\\n\\nPricing\\n\\n\\n\\n\\n\\n\\n\\n\\n\\n\\n\\n\\nSearch or jump to...\\n\\n\\n\\n\\n\\n\\n\\nSearch code, repositories, users, issues, pull requests...\\n\\n \\n\\n\\n\\n\\n        Search\\n      \\n\\n\\n\\n\\n\\n\\n\\n\\n\\n\\n\\n\\n\\nClear\\n \\n\\n\\n\\n\\n\\n\\n\\n\\n\\n\\n\\n\\n\\n\\n\\n\\n\\n\\n\\n\\n\\n\\n\\n\\n\\n\\n\\n\\n\\n\\n\\n\\n\\n\\n\\n\\n\\n\\n\\n\\n\\n\\n\\n\\n\\n\\n\\n\\n \\n\\n\\n\\n\\n              Search syntax tips\\n \\n\\n\\n\\n\\n\\n\\n\\n\\n\\n\\n\\n\\n\\n\\n        Provide feedback\\n      \\n\\n\\n\\n\\n\\n\\n\\n\\n\\n \\nWe read every piece of feedback, and take your input very seriously.\\n\\n\\nInclude my email address so I can be contacted\\n\\n\\n     Cancel\\n\\n    Submit feedback\\n\\n\\n\\n\\n\\n\\n\\n\\n\\n\\n        Saved searches\\n      \\nUse saved searches to filter your results more quickly\\n\\n\\n\\n\\n\\n\\n\\n\\n\\n \\n\\n\\n\\n\\n\\nName\\n\\n\\n\\n\\n\\n\\nQuery\\n\\n\\n\\n            To see all available qualifiers, see our documentation.\\n          \\n \\n\\n\\n\\n\\n\\n     Cancel\\n\\n    Create saved search\\n\\n\\n\\n\\n\\n\\n\\n\\n                Sign in\\n              \\n\\n\\n                Sign up\\n              \\n\\n\\n\\n\\n\\n\\n\\n\\n\\nYou signed in with another tab or window. Reload to refresh your session.\\nYou signed out in another tab or window. Reload to refresh your session.\\nYou switched accounts on another tab or window. Reload to refresh your session.\\n \\n\\n\\nDismiss alert\\n\\n\\n\\n\\n\\n\\n\\n\\n\\n\\n\\n\\n\\n\\n\\n\\n\\n\\n\\n        anishchapagain\\n \\n/\\n\\nanishchapagain.github.io\\n\\nPublic\\n\\n\\n\\n\\n\\n \\n\\nNotifications\\n You must be signed in to change notification settings\\n\\n\\n \\n\\nFork\\n    0\\n\\n\\n\\n\\n \\n\\n\\n          Star\\n 0\\n  \\n\\n\\n\\n\\n\\n\\n\\n\\n\\n\\n\\n\\n\\n\\n\\n\\nCode\\n\\n\\n\\n\\n\\n\\n\\nIssues\\n0\\n\\n\\n\\n\\n\\n\\nPull requests\\n0\\n\\n\\n\\n\\n\\n\\nActions\\n\\n\\n\\n\\n\\n\\n\\nProjects\\n0\\n\\n\\n\\n\\n\\n\\nSecurity\\n\\n\\n\\n\\n\\n\\n\\nInsights\\n\\n\\n\\n \\n\\n \\n\\n\\nAdditional navigation options\\n\\n\\n \\n\\n\\n\\n\\n\\n\\n\\n\\n\\n\\n          Code\\n\\n\\n\\n\\n\\n\\n\\n\\n\\n\\n          Issues\\n\\n\\n\\n\\n\\n\\n\\n\\n\\n\\n          Pull requests\\n\\n\\n\\n\\n\\n\\n\\n\\n\\n\\n          Actions\\n\\n\\n\\n\\n\\n\\n\\n\\n\\n\\n          Projects\\n\\n\\n\\n\\n\\n\\n\\n\\n\\n\\n          Security\\n\\n\\n\\n\\n\\n\\n\\n\\n\\n\\n          Insights\\n\\n\\n\\n\\n\\n \\n\\n\\n\\n\\n\\n\\n\\n\\n\\n\\n\\n\\n\\n\\n\\n\\nFooter\\n\\n\\n\\n\\n\\n\\n\\n\\n        © 2024 GitHub,\\xa0Inc.\\n      \\n\\n\\nFooter navigation\\n\\n\\nTerms\\n\\n\\nPrivacy\\n\\n\\nSecurity', metadata={'source': 'https://github.com/anishchapagain/anishchapagain.github.io/blob/master/README.md', 'title': 'anishchapagain.github.io/README.md at master · anishchapagain/anishchapagain.github.io · GitHub', 'description': 'Anish Chapagain. Contribute to anishchapagain/anishchapagain.github.io development by creating an account on GitHub.', 'language': 'en'}),\n",
       " Document(page_content='Security\\n\\n\\n\\n\\n\\n\\n\\n\\n\\n\\n          Insights\\n\\n\\n\\n\\n\\n \\n\\n\\n\\n\\n\\n\\n\\n\\n\\n\\n\\n\\n\\n\\n\\n\\nFooter\\n\\n\\n\\n\\n\\n\\n\\n\\n        © 2024 GitHub,\\xa0Inc.\\n      \\n\\n\\nFooter navigation\\n\\n\\nTerms\\n\\n\\nPrivacy\\n\\n\\nSecurity\\n\\n\\nStatus\\n\\n\\nDocs\\n\\n\\nContact\\n\\n\\n\\n\\n      Manage cookies\\n    \\n\\n\\n\\n\\n\\n      Do not share my personal information\\n    \\n\\n\\n\\n\\n\\n\\n\\n\\n\\n\\n\\n\\n\\n\\n\\n\\n    You can’t perform that action at this time.', metadata={'source': 'https://github.com/anishchapagain/anishchapagain.github.io/blob/master/README.md', 'title': 'anishchapagain.github.io/README.md at master · anishchapagain/anishchapagain.github.io · GitHub', 'description': 'Anish Chapagain. Contribute to anishchapagain/anishchapagain.github.io development by creating an account on GitHub.', 'language': 'en'})]"
      ]
     },
     "execution_count": 34,
     "metadata": {},
     "output_type": "execute_result"
    }
   ],
   "source": [
    "pages"
   ]
  },
  {
   "cell_type": "code",
   "execution_count": 35,
   "metadata": {},
   "outputs": [],
   "source": [
    "from langchain.text_splitter import RecursiveCharacterTextSplitter"
   ]
  },
  {
   "cell_type": "code",
   "execution_count": 36,
   "metadata": {},
   "outputs": [],
   "source": [
    "separators=[\n",
    "        \"\\n\\n\",\n",
    "        \"\\n\",\n",
    "        \" \",\n",
    "        \".\",\n",
    "        \",\",\n",
    "        \"\\u200b\",  # Zero-width space\n",
    "        \"\\uff0c\",  # Fullwidth comma\n",
    "        \"\\u3001\",  # Ideographic comma\n",
    "        \"\\uff0e\",  # Fullwidth full stop\n",
    "        \"\\u3002\",  # Ideographic full stop\n",
    "        \"\",\n",
    "    ]"
   ]
  },
  {
   "cell_type": "code",
   "execution_count": 37,
   "metadata": {},
   "outputs": [],
   "source": [
    "r_splitter = RecursiveCharacterTextSplitter(\n",
    "    chunk_size=100,\n",
    "    chunk_overlap=5,\n",
    "    separators=separators\n",
    ")"
   ]
  },
  {
   "cell_type": "code",
   "execution_count": 38,
   "metadata": {},
   "outputs": [],
   "source": [
    "docs = r_splitter.split_documents(pages)"
   ]
  },
  {
   "cell_type": "code",
   "execution_count": 39,
   "metadata": {},
   "outputs": [
    {
     "data": {
      "text/plain": [
       "[Document(page_content='anishchapagain.github.io/README.md at master · anishchapagain/anishchapagain.github.io · GitHub', metadata={'source': 'https://github.com/anishchapagain/anishchapagain.github.io/blob/master/README.md', 'title': 'anishchapagain.github.io/README.md at master · anishchapagain/anishchapagain.github.io · GitHub', 'description': 'Anish Chapagain. Contribute to anishchapagain/anishchapagain.github.io development by creating an account on GitHub.', 'language': 'en'}),\n",
       " Document(page_content='Skip to content\\n\\n\\n\\n\\n\\n\\n\\n\\n\\n\\n\\n\\nNavigation Menu', metadata={'source': 'https://github.com/anishchapagain/anishchapagain.github.io/blob/master/README.md', 'title': 'anishchapagain.github.io/README.md at master · anishchapagain/anishchapagain.github.io · GitHub', 'description': 'Anish Chapagain. Contribute to anishchapagain/anishchapagain.github.io development by creating an account on GitHub.', 'language': 'en'}),\n",
       " Document(page_content='Toggle navigation\\n\\n\\n\\n\\n\\n\\n\\n\\n\\n \\n\\n\\n\\n\\n\\n\\n\\n\\n            Sign in', metadata={'source': 'https://github.com/anishchapagain/anishchapagain.github.io/blob/master/README.md', 'title': 'anishchapagain.github.io/README.md at master · anishchapagain/anishchapagain.github.io · GitHub', 'description': 'Anish Chapagain. Contribute to anishchapagain/anishchapagain.github.io development by creating an account on GitHub.', 'language': 'en'}),\n",
       " Document(page_content='Product\\n        \\n\\n\\n\\n\\n\\n\\n\\n\\n\\n\\n\\n\\nActions\\n        Automate any workflow', metadata={'source': 'https://github.com/anishchapagain/anishchapagain.github.io/blob/master/README.md', 'title': 'anishchapagain.github.io/README.md at master · anishchapagain/anishchapagain.github.io · GitHub', 'description': 'Anish Chapagain. Contribute to anishchapagain/anishchapagain.github.io development by creating an account on GitHub.', 'language': 'en'}),\n",
       " Document(page_content='Packages\\n        Host and manage packages', metadata={'source': 'https://github.com/anishchapagain/anishchapagain.github.io/blob/master/README.md', 'title': 'anishchapagain.github.io/README.md at master · anishchapagain/anishchapagain.github.io · GitHub', 'description': 'Anish Chapagain. Contribute to anishchapagain/anishchapagain.github.io development by creating an account on GitHub.', 'language': 'en'}),\n",
       " Document(page_content='Security\\n        Find and fix vulnerabilities', metadata={'source': 'https://github.com/anishchapagain/anishchapagain.github.io/blob/master/README.md', 'title': 'anishchapagain.github.io/README.md at master · anishchapagain/anishchapagain.github.io · GitHub', 'description': 'Anish Chapagain. Contribute to anishchapagain/anishchapagain.github.io development by creating an account on GitHub.', 'language': 'en'}),\n",
       " Document(page_content='Codespaces\\n        Instant dev environments', metadata={'source': 'https://github.com/anishchapagain/anishchapagain.github.io/blob/master/README.md', 'title': 'anishchapagain.github.io/README.md at master · anishchapagain/anishchapagain.github.io · GitHub', 'description': 'Anish Chapagain. Contribute to anishchapagain/anishchapagain.github.io development by creating an account on GitHub.', 'language': 'en'}),\n",
       " Document(page_content='GitHub Copilot\\n        Write better code with AI', metadata={'source': 'https://github.com/anishchapagain/anishchapagain.github.io/blob/master/README.md', 'title': 'anishchapagain.github.io/README.md at master · anishchapagain/anishchapagain.github.io · GitHub', 'description': 'Anish Chapagain. Contribute to anishchapagain/anishchapagain.github.io development by creating an account on GitHub.', 'language': 'en'}),\n",
       " Document(page_content='Code review\\n        Manage code changes', metadata={'source': 'https://github.com/anishchapagain/anishchapagain.github.io/blob/master/README.md', 'title': 'anishchapagain.github.io/README.md at master · anishchapagain/anishchapagain.github.io · GitHub', 'description': 'Anish Chapagain. Contribute to anishchapagain/anishchapagain.github.io development by creating an account on GitHub.', 'language': 'en'}),\n",
       " Document(page_content='Issues\\n        Plan and track work', metadata={'source': 'https://github.com/anishchapagain/anishchapagain.github.io/blob/master/README.md', 'title': 'anishchapagain.github.io/README.md at master · anishchapagain/anishchapagain.github.io · GitHub', 'description': 'Anish Chapagain. Contribute to anishchapagain/anishchapagain.github.io development by creating an account on GitHub.', 'language': 'en'}),\n",
       " Document(page_content='Discussions\\n        Collaborate outside of code\\n      \\n\\n\\n\\n\\nExplore\\n\\n\\n\\n      All features', metadata={'source': 'https://github.com/anishchapagain/anishchapagain.github.io/blob/master/README.md', 'title': 'anishchapagain.github.io/README.md at master · anishchapagain/anishchapagain.github.io · GitHub', 'description': 'Anish Chapagain. Contribute to anishchapagain/anishchapagain.github.io development by creating an account on GitHub.', 'language': 'en'}),\n",
       " Document(page_content='Documentation\\n\\n    \\n\\n\\n\\n\\n\\n      GitHub Skills\\n\\n    \\n\\n\\n\\n\\n\\n      Blog', metadata={'source': 'https://github.com/anishchapagain/anishchapagain.github.io/blob/master/README.md', 'title': 'anishchapagain.github.io/README.md at master · anishchapagain/anishchapagain.github.io · GitHub', 'description': 'Anish Chapagain. Contribute to anishchapagain/anishchapagain.github.io development by creating an account on GitHub.', 'language': 'en'}),\n",
       " Document(page_content='Solutions\\n        \\n\\n\\n\\n\\n\\nBy size\\n\\n\\n\\n      Enterprise\\n\\n    \\n\\n\\n\\n      Teams', metadata={'source': 'https://github.com/anishchapagain/anishchapagain.github.io/blob/master/README.md', 'title': 'anishchapagain.github.io/README.md at master · anishchapagain/anishchapagain.github.io · GitHub', 'description': 'Anish Chapagain. Contribute to anishchapagain/anishchapagain.github.io development by creating an account on GitHub.', 'language': 'en'}),\n",
       " Document(page_content='Startups\\n\\n    \\n\\n\\n\\n\\nBy industry\\n\\n\\n\\n      Healthcare\\n\\n    \\n\\n\\n\\n      Financial services', metadata={'source': 'https://github.com/anishchapagain/anishchapagain.github.io/blob/master/README.md', 'title': 'anishchapagain.github.io/README.md at master · anishchapagain/anishchapagain.github.io · GitHub', 'description': 'Anish Chapagain. Contribute to anishchapagain/anishchapagain.github.io development by creating an account on GitHub.', 'language': 'en'}),\n",
       " Document(page_content='Manufacturing\\n\\n    \\n\\n\\n\\n\\nBy use case\\n\\n\\n\\n      CI/CD & Automation\\n\\n    \\n\\n\\n\\n      DevOps', metadata={'source': 'https://github.com/anishchapagain/anishchapagain.github.io/blob/master/README.md', 'title': 'anishchapagain.github.io/README.md at master · anishchapagain/anishchapagain.github.io · GitHub', 'description': 'Anish Chapagain. Contribute to anishchapagain/anishchapagain.github.io development by creating an account on GitHub.', 'language': 'en'}),\n",
       " Document(page_content='DevSecOps\\n\\n    \\n\\n\\n\\n\\n\\n\\n\\n        Resources\\n        \\n\\n\\n\\n\\n\\nTopics\\n\\n\\n\\n      AI', metadata={'source': 'https://github.com/anishchapagain/anishchapagain.github.io/blob/master/README.md', 'title': 'anishchapagain.github.io/README.md at master · anishchapagain/anishchapagain.github.io · GitHub', 'description': 'Anish Chapagain. Contribute to anishchapagain/anishchapagain.github.io development by creating an account on GitHub.', 'language': 'en'}),\n",
       " Document(page_content='DevOps\\n\\n    \\n\\n\\n\\n      Innersource\\n\\n    \\n\\n\\n\\n      Open Source\\n\\n    \\n\\n\\n\\n      Security', metadata={'source': 'https://github.com/anishchapagain/anishchapagain.github.io/blob/master/README.md', 'title': 'anishchapagain.github.io/README.md at master · anishchapagain/anishchapagain.github.io · GitHub', 'description': 'Anish Chapagain. Contribute to anishchapagain/anishchapagain.github.io development by creating an account on GitHub.', 'language': 'en'}),\n",
       " Document(page_content='Software Development\\n\\n    \\n\\n\\n\\n\\nExplore\\n\\n\\n\\n      Learning Pathways', metadata={'source': 'https://github.com/anishchapagain/anishchapagain.github.io/blob/master/README.md', 'title': 'anishchapagain.github.io/README.md at master · anishchapagain/anishchapagain.github.io · GitHub', 'description': 'Anish Chapagain. Contribute to anishchapagain/anishchapagain.github.io development by creating an account on GitHub.', 'language': 'en'}),\n",
       " Document(page_content='White papers, Ebooks, Webinars\\n\\n    \\n\\n\\n\\n\\n\\n      Customer Stories\\n\\n    \\n\\n\\n\\n      Partners', metadata={'source': 'https://github.com/anishchapagain/anishchapagain.github.io/blob/master/README.md', 'title': 'anishchapagain.github.io/README.md at master · anishchapagain/anishchapagain.github.io · GitHub', 'description': 'Anish Chapagain. Contribute to anishchapagain/anishchapagain.github.io development by creating an account on GitHub.', 'language': 'en'}),\n",
       " Document(page_content='Open Source', metadata={'source': 'https://github.com/anishchapagain/anishchapagain.github.io/blob/master/README.md', 'title': 'anishchapagain.github.io/README.md at master · anishchapagain/anishchapagain.github.io · GitHub', 'description': 'Anish Chapagain. Contribute to anishchapagain/anishchapagain.github.io development by creating an account on GitHub.', 'language': 'en'}),\n",
       " Document(page_content='GitHub Sponsors\\n        Fund open source developers', metadata={'source': 'https://github.com/anishchapagain/anishchapagain.github.io/blob/master/README.md', 'title': 'anishchapagain.github.io/README.md at master · anishchapagain/anishchapagain.github.io · GitHub', 'description': 'Anish Chapagain. Contribute to anishchapagain/anishchapagain.github.io development by creating an account on GitHub.', 'language': 'en'}),\n",
       " Document(page_content='The ReadME Project\\n        GitHub community articles\\n      \\n\\n\\n\\n\\nRepositories\\n\\n\\n\\n      Topics', metadata={'source': 'https://github.com/anishchapagain/anishchapagain.github.io/blob/master/README.md', 'title': 'anishchapagain.github.io/README.md at master · anishchapagain/anishchapagain.github.io · GitHub', 'description': 'Anish Chapagain. Contribute to anishchapagain/anishchapagain.github.io development by creating an account on GitHub.', 'language': 'en'}),\n",
       " Document(page_content='Trending\\n\\n    \\n\\n\\n\\n      Collections\\n\\n    \\n\\n\\n\\n\\n\\n\\n\\n        Enterprise', metadata={'source': 'https://github.com/anishchapagain/anishchapagain.github.io/blob/master/README.md', 'title': 'anishchapagain.github.io/README.md at master · anishchapagain/anishchapagain.github.io · GitHub', 'description': 'Anish Chapagain. Contribute to anishchapagain/anishchapagain.github.io development by creating an account on GitHub.', 'language': 'en'}),\n",
       " Document(page_content='Enterprise platform\\n        AI-powered developer platform\\n      \\n\\n\\n\\n\\nAvailable add-ons', metadata={'source': 'https://github.com/anishchapagain/anishchapagain.github.io/blob/master/README.md', 'title': 'anishchapagain.github.io/README.md at master · anishchapagain/anishchapagain.github.io · GitHub', 'description': 'Anish Chapagain. Contribute to anishchapagain/anishchapagain.github.io development by creating an account on GitHub.', 'language': 'en'}),\n",
       " Document(page_content='Advanced Security\\n        Enterprise-grade security features', metadata={'source': 'https://github.com/anishchapagain/anishchapagain.github.io/blob/master/README.md', 'title': 'anishchapagain.github.io/README.md at master · anishchapagain/anishchapagain.github.io · GitHub', 'description': 'Anish Chapagain. Contribute to anishchapagain/anishchapagain.github.io development by creating an account on GitHub.', 'language': 'en'}),\n",
       " Document(page_content='GitHub Copilot\\n        Enterprise-grade AI features', metadata={'source': 'https://github.com/anishchapagain/anishchapagain.github.io/blob/master/README.md', 'title': 'anishchapagain.github.io/README.md at master · anishchapagain/anishchapagain.github.io · GitHub', 'description': 'Anish Chapagain. Contribute to anishchapagain/anishchapagain.github.io development by creating an account on GitHub.', 'language': 'en'}),\n",
       " Document(page_content='Premium Support\\n        Enterprise-grade 24/7 support\\n      \\n\\n\\n\\n\\n\\n\\nPricing', metadata={'source': 'https://github.com/anishchapagain/anishchapagain.github.io/blob/master/README.md', 'title': 'anishchapagain.github.io/README.md at master · anishchapagain/anishchapagain.github.io · GitHub', 'description': 'Anish Chapagain. Contribute to anishchapagain/anishchapagain.github.io development by creating an account on GitHub.', 'language': 'en'}),\n",
       " Document(page_content='Search or jump to...\\n\\n\\n\\n\\n\\n\\n\\nSearch code, repositories, users, issues, pull requests...', metadata={'source': 'https://github.com/anishchapagain/anishchapagain.github.io/blob/master/README.md', 'title': 'anishchapagain.github.io/README.md at master · anishchapagain/anishchapagain.github.io · GitHub', 'description': 'Anish Chapagain. Contribute to anishchapagain/anishchapagain.github.io development by creating an account on GitHub.', 'language': 'en'}),\n",
       " Document(page_content='Search\\n      \\n\\n\\n\\n\\n\\n\\n\\n\\n\\n\\n\\n\\n\\nClear', metadata={'source': 'https://github.com/anishchapagain/anishchapagain.github.io/blob/master/README.md', 'title': 'anishchapagain.github.io/README.md at master · anishchapagain/anishchapagain.github.io · GitHub', 'description': 'Anish Chapagain. Contribute to anishchapagain/anishchapagain.github.io development by creating an account on GitHub.', 'language': 'en'}),\n",
       " Document(page_content='Search syntax tips\\n \\n\\n\\n\\n\\n\\n\\n\\n\\n\\n\\n\\n\\n\\n\\n        Provide feedback', metadata={'source': 'https://github.com/anishchapagain/anishchapagain.github.io/blob/master/README.md', 'title': 'anishchapagain.github.io/README.md at master · anishchapagain/anishchapagain.github.io · GitHub', 'description': 'Anish Chapagain. Contribute to anishchapagain/anishchapagain.github.io development by creating an account on GitHub.', 'language': 'en'}),\n",
       " Document(page_content='We read every piece of feedback, and take your input very seriously.', metadata={'source': 'https://github.com/anishchapagain/anishchapagain.github.io/blob/master/README.md', 'title': 'anishchapagain.github.io/README.md at master · anishchapagain/anishchapagain.github.io · GitHub', 'description': 'Anish Chapagain. Contribute to anishchapagain/anishchapagain.github.io development by creating an account on GitHub.', 'language': 'en'}),\n",
       " Document(page_content='Include my email address so I can be contacted\\n\\n\\n     Cancel\\n\\n    Submit feedback', metadata={'source': 'https://github.com/anishchapagain/anishchapagain.github.io/blob/master/README.md', 'title': 'anishchapagain.github.io/README.md at master · anishchapagain/anishchapagain.github.io · GitHub', 'description': 'Anish Chapagain. Contribute to anishchapagain/anishchapagain.github.io development by creating an account on GitHub.', 'language': 'en'}),\n",
       " Document(page_content='Saved searches\\n      \\nUse saved searches to filter your results more quickly', metadata={'source': 'https://github.com/anishchapagain/anishchapagain.github.io/blob/master/README.md', 'title': 'anishchapagain.github.io/README.md at master · anishchapagain/anishchapagain.github.io · GitHub', 'description': 'Anish Chapagain. Contribute to anishchapagain/anishchapagain.github.io development by creating an account on GitHub.', 'language': 'en'}),\n",
       " Document(page_content='Name\\n\\n\\n\\n\\n\\n\\nQuery', metadata={'source': 'https://github.com/anishchapagain/anishchapagain.github.io/blob/master/README.md', 'title': 'anishchapagain.github.io/README.md at master · anishchapagain/anishchapagain.github.io · GitHub', 'description': 'Anish Chapagain. Contribute to anishchapagain/anishchapagain.github.io development by creating an account on GitHub.', 'language': 'en'}),\n",
       " Document(page_content='To see all available qualifiers, see our documentation.', metadata={'source': 'https://github.com/anishchapagain/anishchapagain.github.io/blob/master/README.md', 'title': 'anishchapagain.github.io/README.md at master · anishchapagain/anishchapagain.github.io · GitHub', 'description': 'Anish Chapagain. Contribute to anishchapagain/anishchapagain.github.io development by creating an account on GitHub.', 'language': 'en'}),\n",
       " Document(page_content='Cancel\\n\\n    Create saved search\\n\\n\\n\\n\\n\\n\\n\\n\\n                Sign in', metadata={'source': 'https://github.com/anishchapagain/anishchapagain.github.io/blob/master/README.md', 'title': 'anishchapagain.github.io/README.md at master · anishchapagain/anishchapagain.github.io · GitHub', 'description': 'Anish Chapagain. Contribute to anishchapagain/anishchapagain.github.io development by creating an account on GitHub.', 'language': 'en'}),\n",
       " Document(page_content='Sign up', metadata={'source': 'https://github.com/anishchapagain/anishchapagain.github.io/blob/master/README.md', 'title': 'anishchapagain.github.io/README.md at master · anishchapagain/anishchapagain.github.io · GitHub', 'description': 'Anish Chapagain. Contribute to anishchapagain/anishchapagain.github.io development by creating an account on GitHub.', 'language': 'en'}),\n",
       " Document(page_content='You signed in with another tab or window. Reload to refresh your session.', metadata={'source': 'https://github.com/anishchapagain/anishchapagain.github.io/blob/master/README.md', 'title': 'anishchapagain.github.io/README.md at master · anishchapagain/anishchapagain.github.io · GitHub', 'description': 'Anish Chapagain. Contribute to anishchapagain/anishchapagain.github.io development by creating an account on GitHub.', 'language': 'en'}),\n",
       " Document(page_content='You signed out in another tab or window. Reload to refresh your session.', metadata={'source': 'https://github.com/anishchapagain/anishchapagain.github.io/blob/master/README.md', 'title': 'anishchapagain.github.io/README.md at master · anishchapagain/anishchapagain.github.io · GitHub', 'description': 'Anish Chapagain. Contribute to anishchapagain/anishchapagain.github.io development by creating an account on GitHub.', 'language': 'en'}),\n",
       " Document(page_content='You switched accounts on another tab or window. Reload to refresh your session.', metadata={'source': 'https://github.com/anishchapagain/anishchapagain.github.io/blob/master/README.md', 'title': 'anishchapagain.github.io/README.md at master · anishchapagain/anishchapagain.github.io · GitHub', 'description': 'Anish Chapagain. Contribute to anishchapagain/anishchapagain.github.io development by creating an account on GitHub.', 'language': 'en'}),\n",
       " Document(page_content='Dismiss alert\\n\\n\\n\\n\\n\\n\\n\\n\\n\\n\\n\\n\\n\\n\\n\\n\\n\\n\\n\\n        anishchapagain\\n \\n/\\n\\nanishchapagain.github.io\\n\\nPublic', metadata={'source': 'https://github.com/anishchapagain/anishchapagain.github.io/blob/master/README.md', 'title': 'anishchapagain.github.io/README.md at master · anishchapagain/anishchapagain.github.io · GitHub', 'description': 'Anish Chapagain. Contribute to anishchapagain/anishchapagain.github.io development by creating an account on GitHub.', 'language': 'en'}),\n",
       " Document(page_content='Notifications\\n You must be signed in to change notification settings\\n\\n\\n \\n\\nFork\\n    0', metadata={'source': 'https://github.com/anishchapagain/anishchapagain.github.io/blob/master/README.md', 'title': 'anishchapagain.github.io/README.md at master · anishchapagain/anishchapagain.github.io · GitHub', 'description': 'Anish Chapagain. Contribute to anishchapagain/anishchapagain.github.io development by creating an account on GitHub.', 'language': 'en'}),\n",
       " Document(page_content='Star\\n 0\\n  \\n\\n\\n\\n\\n\\n\\n\\n\\n\\n\\n\\n\\n\\n\\n\\n\\nCode\\n\\n\\n\\n\\n\\n\\n\\nIssues\\n0\\n\\n\\n\\n\\n\\n\\nPull requests\\n0\\n\\n\\n\\n\\n\\n\\nActions', metadata={'source': 'https://github.com/anishchapagain/anishchapagain.github.io/blob/master/README.md', 'title': 'anishchapagain.github.io/README.md at master · anishchapagain/anishchapagain.github.io · GitHub', 'description': 'Anish Chapagain. Contribute to anishchapagain/anishchapagain.github.io development by creating an account on GitHub.', 'language': 'en'}),\n",
       " Document(page_content='Projects\\n0\\n\\n\\n\\n\\n\\n\\nSecurity\\n\\n\\n\\n\\n\\n\\n\\nInsights\\n\\n\\n\\n \\n\\n \\n\\n\\nAdditional navigation options', metadata={'source': 'https://github.com/anishchapagain/anishchapagain.github.io/blob/master/README.md', 'title': 'anishchapagain.github.io/README.md at master · anishchapagain/anishchapagain.github.io · GitHub', 'description': 'Anish Chapagain. Contribute to anishchapagain/anishchapagain.github.io development by creating an account on GitHub.', 'language': 'en'}),\n",
       " Document(page_content='Code\\n\\n\\n\\n\\n\\n\\n\\n\\n\\n\\n          Issues\\n\\n\\n\\n\\n\\n\\n\\n\\n\\n\\n          Pull requests', metadata={'source': 'https://github.com/anishchapagain/anishchapagain.github.io/blob/master/README.md', 'title': 'anishchapagain.github.io/README.md at master · anishchapagain/anishchapagain.github.io · GitHub', 'description': 'Anish Chapagain. Contribute to anishchapagain/anishchapagain.github.io development by creating an account on GitHub.', 'language': 'en'}),\n",
       " Document(page_content='Actions\\n\\n\\n\\n\\n\\n\\n\\n\\n\\n\\n          Projects\\n\\n\\n\\n\\n\\n\\n\\n\\n\\n\\n          Security', metadata={'source': 'https://github.com/anishchapagain/anishchapagain.github.io/blob/master/README.md', 'title': 'anishchapagain.github.io/README.md at master · anishchapagain/anishchapagain.github.io · GitHub', 'description': 'Anish Chapagain. Contribute to anishchapagain/anishchapagain.github.io development by creating an account on GitHub.', 'language': 'en'}),\n",
       " Document(page_content='Insights\\n\\n\\n\\n\\n\\n \\n\\n\\n\\n\\n\\n\\n\\n\\n\\n\\n\\n\\n\\n\\n\\n\\nFooter\\n\\n\\n\\n\\n\\n\\n\\n\\n        © 2024 GitHub,\\xa0Inc.', metadata={'source': 'https://github.com/anishchapagain/anishchapagain.github.io/blob/master/README.md', 'title': 'anishchapagain.github.io/README.md at master · anishchapagain/anishchapagain.github.io · GitHub', 'description': 'Anish Chapagain. Contribute to anishchapagain/anishchapagain.github.io development by creating an account on GitHub.', 'language': 'en'}),\n",
       " Document(page_content='Footer navigation\\n\\n\\nTerms\\n\\n\\nPrivacy\\n\\n\\nSecurity', metadata={'source': 'https://github.com/anishchapagain/anishchapagain.github.io/blob/master/README.md', 'title': 'anishchapagain.github.io/README.md at master · anishchapagain/anishchapagain.github.io · GitHub', 'description': 'Anish Chapagain. Contribute to anishchapagain/anishchapagain.github.io development by creating an account on GitHub.', 'language': 'en'}),\n",
       " Document(page_content='Security\\n\\n\\n\\n\\n\\n\\n\\n\\n\\n\\n          Insights\\n\\n\\n\\n\\n\\n \\n\\n\\n\\n\\n\\n\\n\\n\\n\\n\\n\\n\\n\\n\\n\\n\\nFooter', metadata={'source': 'https://github.com/anishchapagain/anishchapagain.github.io/blob/master/README.md', 'title': 'anishchapagain.github.io/README.md at master · anishchapagain/anishchapagain.github.io · GitHub', 'description': 'Anish Chapagain. Contribute to anishchapagain/anishchapagain.github.io development by creating an account on GitHub.', 'language': 'en'}),\n",
       " Document(page_content='© 2024 GitHub,\\xa0Inc.\\n      \\n\\n\\nFooter navigation\\n\\n\\nTerms\\n\\n\\nPrivacy\\n\\n\\nSecurity\\n\\n\\nStatus', metadata={'source': 'https://github.com/anishchapagain/anishchapagain.github.io/blob/master/README.md', 'title': 'anishchapagain.github.io/README.md at master · anishchapagain/anishchapagain.github.io · GitHub', 'description': 'Anish Chapagain. Contribute to anishchapagain/anishchapagain.github.io development by creating an account on GitHub.', 'language': 'en'}),\n",
       " Document(page_content='Docs\\n\\n\\nContact\\n\\n\\n\\n\\n      Manage cookies\\n    \\n\\n\\n\\n\\n\\n      Do not share my personal information', metadata={'source': 'https://github.com/anishchapagain/anishchapagain.github.io/blob/master/README.md', 'title': 'anishchapagain.github.io/README.md at master · anishchapagain/anishchapagain.github.io · GitHub', 'description': 'Anish Chapagain. Contribute to anishchapagain/anishchapagain.github.io development by creating an account on GitHub.', 'language': 'en'}),\n",
       " Document(page_content='You can’t perform that action at this time.', metadata={'source': 'https://github.com/anishchapagain/anishchapagain.github.io/blob/master/README.md', 'title': 'anishchapagain.github.io/README.md at master · anishchapagain/anishchapagain.github.io · GitHub', 'description': 'Anish Chapagain. Contribute to anishchapagain/anishchapagain.github.io development by creating an account on GitHub.', 'language': 'en'})]"
      ]
     },
     "execution_count": 39,
     "metadata": {},
     "output_type": "execute_result"
    }
   ],
   "source": [
    "docs"
   ]
  },
  {
   "cell_type": "code",
   "execution_count": 40,
   "metadata": {},
   "outputs": [
    {
     "data": {
      "text/plain": [
       "52"
      ]
     },
     "execution_count": 40,
     "metadata": {},
     "output_type": "execute_result"
    }
   ],
   "source": [
    "len(docs)"
   ]
  },
  {
   "cell_type": "code",
   "execution_count": 41,
   "metadata": {},
   "outputs": [
    {
     "data": {
      "text/plain": [
       "'anishchapagain.github.io/README.md at master · anishchapagain/anishchapagain.github.io · GitHub'"
      ]
     },
     "execution_count": 41,
     "metadata": {},
     "output_type": "execute_result"
    }
   ],
   "source": [
    "docs[0].page_content"
   ]
  },
  {
   "cell_type": "code",
   "execution_count": 12,
   "metadata": {},
   "outputs": [],
   "source": [
    "# Read API KEY from file\n",
    "import json\n",
    "\n",
    "file_path = 'llms_vault.json'\n",
    "llm_key = 'GOOGLE_API_KEY'\n",
    "\n",
    "try:\n",
    "    with open(file_path,'r') as f:\n",
    "        api_key = json.loads(f.read()).get(llm_key)\n",
    "        if not api_key:\n",
    "            raise ValueError(f\"Some issue with '{llm_key}' from '{file_path}'. Verify the key:'{llm_key}' if it exists!\")\n",
    "except FileNotFoundError:\n",
    "    raise FileNotFoundError(f\"File related issue encountered, verify file path and name '{file_path}'\")"
   ]
  },
  {
   "cell_type": "markdown",
   "metadata": {},
   "source": [
    "# https://ai.google.dev/api\n",
    "import google.generativeai as genai\n",
    "genai.configure(api_key=api_key) # genai.configure(api_key=os.environ[llm_key]) "
   ]
  },
  {
   "cell_type": "code",
   "execution_count": 42,
   "metadata": {},
   "outputs": [],
   "source": [
    "from langchain_google_genai import GoogleGenerativeAIEmbeddings # models/text-embedding-004\t"
   ]
  },
  {
   "cell_type": "markdown",
   "metadata": {},
   "source": [
    "import os\n",
    "os.environ[\"GOOGLE_API_KEY\"] = api_key"
   ]
  },
  {
   "cell_type": "code",
   "execution_count": 43,
   "metadata": {},
   "outputs": [],
   "source": [
    "#result = genai.embed_content(model=\"models/text-embedding-004\", content=docsr)\n",
    "\n",
    "embedding_model = GoogleGenerativeAIEmbeddings(\n",
    "    model=\"models/embedding-001\", # text-embedding-004\n",
    "    google_api_key=api_key,\n",
    "    )"
   ]
  },
  {
   "cell_type": "code",
   "execution_count": 44,
   "metadata": {},
   "outputs": [
    {
     "data": {
      "text/plain": [
       "GoogleGenerativeAIEmbeddings(client=<google.ai.generativelanguage_v1beta.services.generative_service.client.GenerativeServiceClient object at 0x0000022B4CF7A1E0>, model='models/embedding-001', task_type=None, google_api_key=SecretStr('**********'), credentials=None, client_options=None, transport=None, request_options=None)"
      ]
     },
     "execution_count": 44,
     "metadata": {},
     "output_type": "execute_result"
    }
   ],
   "source": [
    "embedding_model"
   ]
  },
  {
   "cell_type": "code",
   "execution_count": 45,
   "metadata": {},
   "outputs": [],
   "source": [
    "from langchain.vectorstores import Chroma"
   ]
  },
  {
   "cell_type": "code",
   "execution_count": 17,
   "metadata": {},
   "outputs": [],
   "source": [
    "persist_directory = 'docs\\\\chromaE'"
   ]
  },
  {
   "cell_type": "code",
   "execution_count": null,
   "metadata": {},
   "outputs": [],
   "source": [
    "vectordb = Chroma.from_documents(\n",
    "    documents=docs,\n",
    "    embedding=embedding_model,\n",
    "    persist_directory=persist_directory,\n",
    ")"
   ]
  },
  {
   "cell_type": "markdown",
   "metadata": {},
   "source": [
    "vectordb = Chroma.from_documents(\n",
    "    documents=docsr,\n",
    "    embedding=embeddings,\n",
    "    persist_directory=persist_directory\n",
    ")"
   ]
  },
  {
   "cell_type": "code",
   "execution_count": 19,
   "metadata": {},
   "outputs": [
    {
     "data": {
      "text/plain": [
       "<langchain_community.vectorstores.chroma.Chroma at 0x22b4b372840>"
      ]
     },
     "execution_count": 19,
     "metadata": {},
     "output_type": "execute_result"
    }
   ],
   "source": [
    "vectordb"
   ]
  },
  {
   "cell_type": "code",
   "execution_count": 20,
   "metadata": {},
   "outputs": [
    {
     "name": "stdout",
     "output_type": "stream",
     "text": [
      "50\n"
     ]
    }
   ],
   "source": [
    "print(vectordb._collection.count())"
   ]
  },
  {
   "cell_type": "code",
   "execution_count": 21,
   "metadata": {},
   "outputs": [
    {
     "name": "stdout",
     "output_type": "stream",
     "text": [
      "vector: 50 chunks.\n"
     ]
    }
   ],
   "source": [
    "googleDb = Chroma(\n",
    "    persist_directory = persist_directory,\n",
    "    embedding_function=embedding_model\n",
    "    )\n",
    "print(\"vector:\",googleDb._collection.count(),\"chunks.\")"
   ]
  },
  {
   "cell_type": "code",
   "execution_count": 22,
   "metadata": {},
   "outputs": [
    {
     "data": {
      "text/plain": [
       "<langchain_community.vectorstores.chroma.Chroma at 0x22b4b44be60>"
      ]
     },
     "execution_count": 22,
     "metadata": {},
     "output_type": "execute_result"
    }
   ],
   "source": [
    "googleDb"
   ]
  },
  {
   "cell_type": "code",
   "execution_count": 23,
   "metadata": {},
   "outputs": [],
   "source": [
    "def search(question='') -> list:\n",
    "    docs = googleDb.similarity_search(question, k=3)\n",
    "    answers=[]\n",
    "    for doc in docs:\n",
    "        answers.append(doc.page_content[:200])\n",
    "    \n",
    "    return answers"
   ]
  },
  {
   "cell_type": "code",
   "execution_count": 26,
   "metadata": {},
   "outputs": [
    {
     "data": {
      "text/plain": [
       "['Code\\n\\n\\n\\n\\n\\n\\n\\n\\n\\n\\n          Issues\\n\\n\\n\\n\\n\\n\\n\\n\\n\\n\\n          Pull requests',\n",
       " 'anishchapagain.github.io/README.md at master · anishchapagain/anishchapagain.github.io · GitHub',\n",
       " 'We read every piece of feedback, and take your input very seriously.']"
      ]
     },
     "execution_count": 26,
     "metadata": {},
     "output_type": "execute_result"
    }
   ],
   "source": [
    "search(question=\"list me some places where can i contribute to\")"
   ]
  },
  {
   "cell_type": "code",
   "execution_count": 28,
   "metadata": {},
   "outputs": [
    {
     "data": {
      "text/plain": [
       "['Search or jump to...\\n\\n\\n\\n\\n\\n\\n\\nSearch code, repositories, users, issues, pull requests...',\n",
       " 'Insights\\n\\n\\n\\n\\n\\n \\n\\n\\n\\n\\n\\n\\n\\n\\n\\n\\n\\n\\n\\n\\n\\n\\nFooter\\n\\n\\n\\n\\n\\n\\n\\n\\n        © 2024 GitHub,\\xa0Inc.',\n",
       " 'Dismiss alert\\n\\n\\n\\n\\n\\n\\n\\n\\n\\n\\n\\n\\n\\n\\n\\n\\n\\n\\n\\n        anishchapagain\\n \\n/\\n\\nanishchapagain.github.io\\n\\nPublic']"
      ]
     },
     "execution_count": 28,
     "metadata": {},
     "output_type": "execute_result"
    }
   ],
   "source": [
    "search(question=\"list available URLs with text as provided in triple ticks '''github.io'''\")"
   ]
  },
  {
   "cell_type": "code",
   "execution_count": 29,
   "metadata": {},
   "outputs": [
    {
     "data": {
      "text/plain": [
       "['Notifications\\n You must be signed in to change notification settings\\n\\n\\n \\n\\nFork\\n    0',\n",
       " 'Documentation\\n\\n    \\n\\n\\n\\n\\n\\n      GitHub Skills\\n\\n    \\n\\n\\n\\n\\n\\n      Blog',\n",
       " 'anishchapagain.github.io/README.md at master · anishchapagain/anishchapagain.github.io · GitHub']"
      ]
     },
     "execution_count": 29,
     "metadata": {},
     "output_type": "execute_result"
    }
   ],
   "source": [
    "search(question=\"what is there mentioned as Willing to get trained in\")"
   ]
  },
  {
   "cell_type": "code",
   "execution_count": 30,
   "metadata": {},
   "outputs": [
    {
     "data": {
      "text/plain": [
       "['Discussions\\n        Collaborate outside of code\\n      \\n\\n\\n\\n\\nExplore\\n\\n\\n\\n      All features',\n",
       " 'Issues\\n        Plan and track work',\n",
       " 'Code\\n\\n\\n\\n\\n\\n\\n\\n\\n\\n\\n          Issues\\n\\n\\n\\n\\n\\n\\n\\n\\n\\n\\n          Pull requests']"
      ]
     },
     "execution_count": 30,
     "metadata": {},
     "output_type": "execute_result"
    }
   ],
   "source": [
    "search(\"what we can work together in any topics\")"
   ]
  },
  {
   "cell_type": "code",
   "execution_count": 32,
   "metadata": {},
   "outputs": [
    {
     "data": {
      "text/plain": [
       "['Search syntax tips\\n \\n\\n\\n\\n\\n\\n\\n\\n\\n\\n\\n\\n\\n\\n\\n        Provide feedback',\n",
       " 'Footer navigation\\n\\n\\nTerms\\n\\n\\nPrivacy\\n\\n\\nSecurity\\n\\n\\nStatus\\n\\n\\nDocs\\n\\n\\nContact',\n",
       " 'anishchapagain.github.io/README.md at master · anishchapagain/anishchapagain.github.io · GitHub']"
      ]
     },
     "execution_count": 32,
     "metadata": {},
     "output_type": "execute_result"
    }
   ],
   "source": [
    "search(\"list any text that's similar to honesty\")"
   ]
  }
 ],
 "metadata": {
  "kernelspec": {
   "display_name": "Python 3",
   "language": "python",
   "name": "python3"
  },
  "language_info": {
   "codemirror_mode": {
    "name": "ipython",
    "version": 3
   },
   "file_extension": ".py",
   "mimetype": "text/x-python",
   "name": "python",
   "nbconvert_exporter": "python",
   "pygments_lexer": "ipython3",
   "version": "3.12.3"
  }
 },
 "nbformat": 4,
 "nbformat_minor": 2
}
