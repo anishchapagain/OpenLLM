{
 "cells": [
  {
   "cell_type": "code",
   "execution_count": 1,
   "metadata": {},
   "outputs": [],
   "source": [
    "from langchain.document_loaders import PyPDFLoader"
   ]
  },
  {
   "cell_type": "code",
   "execution_count": 2,
   "metadata": {},
   "outputs": [],
   "source": [
    "pdf_loader = PyPDFLoader(\"docs\\\\CV_AnishChapagain_2024.pdf\")\n",
    "pdf_doc = pdf_loader.load()"
   ]
  },
  {
   "cell_type": "code",
   "execution_count": 3,
   "metadata": {},
   "outputs": [
    {
     "data": {
      "text/plain": [
       "[Document(page_content='Chapagain, Anish   \\nGreen Hill City  #498 , Kageshwori Manohara -06, Mulpani , Kathmandu, Nepal.  \\nanishchapagain@gmail.com  | Linkedin  \\n+977 01  9840065449  \\n \\nObjective                                                                                                                                                                \\nTo gain experience & challenging position in the field of AI/ML/Data Science conducive to growth, where I will \\nconsolidate, utilize, and further explore my professional skills with , and learning the latest technologies . \\n  \\nTechnical Skills  \\n\\uf0b7 Team  & project management, leading, m onitoring , training and c oaching , analysis & repor ting. \\n\\uf0b7 Experience  in Knowledge Management, AI/ML, Data Science, Cybersecurity, e -Commerce review platform . \\n\\uf0b7 PySpark, Pandas, PyTorch, OCR, Django , Web Scraping, Anti -Scraping, Anti -bot testing , Selenium . \\n\\uf0b7 Data & Text A nalysis , Regular Expressions , Analysis/ Visualization , Reporting,  Shell Scripting.  \\n\\uf0b7 Integrating LLMs into application using APIs . Using Hugging Face Transformers for NLP tasks.  \\n\\uf0b7 Experience using cloud platforms: GCP, AWS .  \\n\\uf0b7 Experienced with DB MS: Oracle, MySQL, MSSQL, MongoDB,  and SQL Querying.  \\n\\uf0b7 Experienced using Project Manage ment applications BaseCamp, Blossom . Atlassian JIRA . \\n\\uf0b7 Proficiency in SDLC, T echnical writing/s upport , Documentation and delivering presentations  & articles .  \\n \\nProfessional Experience s  \\nProfessional Freelancer.                               \\nFreelance (Part -Time)                                                       1st Apr, 2009 – till date.  \\n\\uf0b7 Data extraction, a utomati on, classifying, pattern recogni tion, analyzing , conducting EDA , prediction.  \\n\\uf0b7 Track & Trace, Ecommerce: reviews, analysis, compa rison, scheduling scrapper and reports.  \\n\\uf0b7 Building applications for data collection , text summarization, translation, and paraphrasing . \\n\\uf0b7 Projects related to LLM integration, sentiment analysis , and summarization .  \\n\\uf0b7 Web data comparing, Data processing,  testing , developing  ML models f rom client’s  data. \\n\\uf0b7 Projects related to SEO, data security, report automation, penetration  testing . \\n\\uf0b7 Studying, Reporting anti -bot cases, captchas prediction, frequencies (w/o) proxies . \\n\\uf0b7 Providing training  on web-penetration, NLP, NLTK, Scikit -learn, PySpark, PyTorch, Django , Pandas . \\n\\uf0b7 Projects related to scraping and ML, Code reviews & testing.  \\n \\nLogpoint. Jawalakhel, Lalitpur .  \\nSr. Software Engineer - Python                                             23rd Feb, 2023 – 30st May, 2024   \\n\\uf0b7 Python, MongoDB, JIRA, Terraform, Shell Scripts, Docker, Jenkins.  \\n\\uf0b7 Development/Testing SIEM, UEBA, and SOAR to SAP security . \\n\\uf0b7 Developing software solutions: consulting users, systems flow, data usage, and work processes . \\n\\uf0b7 Involved in  SDLC, Operational feasibility analysis, solution development, and proposed solutions . \\n \\nGrepsr . Lalita Bhawan, Maharajgunj,  Kathmandu   \\nTeal Lead  – Data Acquisition                                                                                       24th Nov, 2014  – 12th Feb, 2023  \\n● Leading team of software developers  \\n● Technical Support/Monitoring  Project  & Client  Queries plus Tickets . \\n● Developing/Updating Crawlers, code -review, testing and optimization.  \\n●   Sentiment Analysis over Tripadvisor & Amazon  Reviews . ', metadata={'source': 'docs\\\\CV_AnishChapagain_2024.pdf', 'page': 0}),\n",
       " Document(page_content='● Conducting Learning & Development Sessions  and Knowledge Sharing.  \\n●  Project management using Atlassian JIRA . Versioning System (Git,  BitBucket)  \\n \\nBroa dway Infosys . Tinkune, Kathmandu .                                 \\nInstructor (Part -Time)                                1st Mar, 2017 – 29th Dec, 2022  \\n●  Instructing ‘Web Development with Python and Django’, ‘Data Science using Python’, “ML and AI”.  \\n● Providing professional t raining s on Python, PyTorch and Django.  \\n● Training provided “Python and Django ”, NCIT , Lalitpur.  \\n●  Project Development/Deployment, Code Reviews & Testing.  \\n \\nNexstudios Nepal Pvt. Ltd . Maitighar (Mandala), Kathmandu .                               \\nSr. PHP Programmer                                                                                                     1st Nov, 2013 – 2nd Nov, 2014  \\n●  Research, review client requirements and assist in Proposal making . \\n● Custom PHP coding & implementing Wordpress (Woocommerce), OpenCart, Magento, CodeIgniter.  \\n● Coding support to developers/clients site (error testing/fixing, database maintenance, site configuration)       \\n●  Project management using BaseCamp and Bloss om. Versioning System (Git) .  \\n  \\nZaraSoft Nepal Pvt. Ltd . Subidhanagar, Tinkune, Kathmandu .                                 \\nProject Manager (IT Development)                                                                               15th Jan, 2013 – 1st Oct, 2013  \\n● System development using .NET Technologies deploying Entity Framework, LINQ, MVC.  \\n● Providing IT related support, analysis information to “Dish Media Network”, “DuoMedia Technology”.     \\n● Development of Organizational ERP, Production, Inventory, HRM, Accounting, MIS & Reporting system.  \\n● Web development & maintenance, www.duomedia.com.np , www.wikileaksnepal.com  using PHP, MySQL.  \\n● Project Management using BaseCamp. Versioning System (Git, SVN) .  \\n \\nDish Media Network . Corporate Tower, Tinkune, Kathmandu .                     \\nSoftware Engineer                                                                                                      11th May, 2011 – 11th Oct, 2012     \\n● Web development and mai ntenance of www.dishhome.com.np  using PHP, MYSQL.   \\n● IT Support with System related research and planning.  \\n● Fluency in using ‘DuoSoft’, DTH Software from SriLankan vendor.  \\n● Clients and Dealer based analysis reporting using MS -SQL 2008R2.  \\n● Engaged on .Net based \"Dmn ERP \", an Enterprise ERP with Swift Technology Nepal.  \\n  \\nIT ExpertNepal.  Dhumbarahi, Kathmandu, Nepal .  \\nSystem Developer .  (Part -Time)                                                                                  24th April, 2011 – 1st Jan, 2013  \\n●  System and Web Administrator for Client Sites, with Project Management and Tender bidding activities.  \\n● Project implementation with MS Visual Studio (ASP.net, C#), and SQL Server Reporting services.  \\n● Core Programming -using  PHP (MySQL, WordPress, CakePHP , OpenCart) for various clients.  \\n● Project management using BaseCamp. Versioning System (Git)  \\n● Web development and maintenance www.itexpertnepal.net .  \\n  \\nPussycat London.  Aldgate East, London, U.K.                                \\nWeb Developer/Designer (IT Sup ervisor)                                                                 26th Oct, 2009 – 31st Mar, 2011  \\n●  Web development & maintenance www.pussycatlondon.com   \\n● Handling  & reporting  e-commerc activities with eBay.co.uk for Bonzai Ltd (Pussycat London).  \\n● Handling and Processing Customer Enquiries cum e -Commerce support (PayPal, eBay, Google Checkout).  ', metadata={'source': 'docs\\\\CV_AnishChapagain_2024.pdf', 'page': 1}),\n",
       " Document(page_content='● Dealing with “iLevel” (Software for Clothing industry) and assisting to work dealings.  \\n● Providing IT based software and hardware support and guidance.  \\n  \\nKumari Bank Limited . Putalisadak, Kathmandu, Nepal.   \\nVisa -Card Assistant.                                                                                                      23rd Oct, 2005 - 8th Oct, 2007  \\n● Updating and managing company website, www.kumaribank.com  using JavaScript, PHP & MySQL.  \\n● Daily log vie wing, maintenance, backing up of live system and server NARADA SWITCH.  \\n● System maintenance, Error handling, ATM device maintenance & supervision.   \\n● Daily monitoring & refreshing CAM (Control and Monitoring) server.  \\n● Database Handling & Implementation, Mana ging End of Day (EOD) Operations.  \\n \\nKathmandu Institute of Technology . Sankhapark, Dhumbarahi, Nepal .   \\nLecturer Computer Engineering (I.E)                                                                      23rd Feb, 2003 – 30th Dec, 2005 \\n●  Lecturing in Programming Languages (C, C++, Java), Basic Hardware and Networking.  \\n  \\nHimalayan Institute of Technology . New Baneshwor, Kathmandu, Nepal.   \\nIT Instructor/Programmer                                                                                          17th Nov, 2002 – 8th Oct, 2007  \\n● Project instructor for Oracle with Developer & PL/SQL, Ministry of General Admin (Nijamati Sansthan)   \\n●  Software Development in C, C++, Borland C++ Builder, Java, Oracle with Developer.  \\n● Website Designing HTML, PHP with MySQL, JavaScript, CSS, Apache and Linux.  \\n● Instructing MS -DOS, Microsoft Office, Adobe Photoshop, Oracle, MySQL, PL/SQL, C, C++, Java, HTML.  \\n \\n \\nPublications  \\nBook Writer  (Contract Author) . Packt Publishing . UK, India . https://www.packtpub.com/  \\n● “Hands -On Web Scraping with Python: Extract quality data from the web using effective Python techniques, \\n2nd Edition” . ISBN:  9781837636211 , Oct-2023.   \\n● “Hands -On Web Scraping with Python” . ISBN : 9781789533392 , Jul-2019 . \\n \\n \\nEducation     \\nM.Sc Computer System (2007 -2008), Bangor University, Wales (U.K)   \\n● Learning /Development using  Java and Python (AI, Text Mining, Web Mining, NLP, Web Scraping).  PHP/ \\nJavaScript/ MySQL for Web development .   \\n● Dissertation: Development of  Text Mining Toolkit ‘TUI’ , a GUI application in Python handling Text Mining \\nframework (TMT) in C, by Dr. WJ Teahan.  \\n● Development of Personal profiling system ‘webwiki’ using Python (Web Scraping techniques, Wikipedia).  \\n  \\nExecutive -MBA (HRM) (2004 -2006), Himalayan Whitehouse Int’l College, Ktm, Nepal .  \\n● Specialization in Human Resource Management, Thesis submitted “Human Resource Information System”.  \\n● Subjects : Accounting, Organization Behavior, Research Methodology, TQM, HRM, Economics etc.  \\n  \\nB.Sc. Computer Science (1999 -2002), Campion College, Kupondole, Lalitpur, Nepal .  \\n●  Obtained distinct grade in Core Java Programming.  \\n● Major Project: Media Player using Borland C++ Builder. 2002 (B.Sc. Computer Science).  ', metadata={'source': 'docs\\\\CV_AnishChapagain_2024.pdf', 'page': 2}),\n",
       " Document(page_content='● Subjects:  Numerical method, Data Structures, Computer Graphics, DBMS, Mathematical procedures, \\nPhysics, C & C++ Programming Language.  \\n \\nProfessional/Academic /Online  projects ...    \\n \\n● “LLMs with Google Cloud and Python” Udemy , 2024.  \\n● “Advanced Python: Working with Databases” Linkedin learning , 2022.  \\n● “Developing your Team Me mbers” Linkedin Learning , 2022.  \\n●  “The Ultimate Hands on Hadoop: Tame your Big Data” Udemy , 2022.  \\n● “Data Engineering Essentials using SQL, Python, and PySpark”  Udemy , 2022.  \\n● “Machine Learning A -Z: Hands -On Python” Udemy , 2020.  \\n●  “Element of AI” – University of Helsinki (Online 2 ECTS) , 2018  \\n● Web based ‘Data collection & Exporting IS’ using PHP/MySQL/AJAX for ‘SFCG Nepal’, Lazimpat -2014  \\n● Project -CDRMP (Online Building Permit System) with Kathmandu Metropolitan Office, UN House and \\nInnovative system (Pulchowk,  Lalitpur). (ITExpertnepal  - 2012).  \\n● Freelancing, Web development using CakePHP ( www.netrenos.com ) - 2011  \\n● Library Management System using Oracle with Developer, 2004 (Himalayan IT)  \\n   \\n \\nLinkedIn Profile : https://www.linkedin.com/in/anish -chapagain -a581386/  \\nReferences are available upon request and as required.  ', metadata={'source': 'docs\\\\CV_AnishChapagain_2024.pdf', 'page': 3})]"
      ]
     },
     "execution_count": 3,
     "metadata": {},
     "output_type": "execute_result"
    }
   ],
   "source": [
    "pdf_doc"
   ]
  },
  {
   "cell_type": "code",
   "execution_count": 4,
   "metadata": {},
   "outputs": [],
   "source": [
    "from langchain.text_splitter import RecursiveCharacterTextSplitter"
   ]
  },
  {
   "cell_type": "code",
   "execution_count": 5,
   "metadata": {},
   "outputs": [],
   "source": [
    "r_splitter = RecursiveCharacterTextSplitter(\n",
    "    chunk_size=100,\n",
    "    chunk_overlap=5,\n",
    "    separators=[\"\\n\\n\",\"\\n\",\" \\n\",\".\",\".\",\" \",\",\",\"●\"]\n",
    ")"
   ]
  },
  {
   "cell_type": "code",
   "execution_count": 6,
   "metadata": {},
   "outputs": [],
   "source": [
    "docs = r_splitter.split_documents(pdf_doc)"
   ]
  },
  {
   "cell_type": "code",
   "execution_count": 7,
   "metadata": {},
   "outputs": [
    {
     "data": {
      "text/plain": [
       "[Document(page_content='Chapagain, Anish   \\nGreen Hill City  #498 , Kageshwori Manohara -06, Mulpani , Kathmandu, Nepal.', metadata={'source': 'docs\\\\CV_AnishChapagain_2024.pdf', 'page': 0}),\n",
       " Document(page_content='anishchapagain@gmail.com  | Linkedin  \\n+977 01  9840065449', metadata={'source': 'docs\\\\CV_AnishChapagain_2024.pdf', 'page': 0}),\n",
       " Document(page_content='Objective', metadata={'source': 'docs\\\\CV_AnishChapagain_2024.pdf', 'page': 0}),\n",
       " Document(page_content='To gain experience & challenging position in the field of AI/ML/Data Science conducive to growth,', metadata={'source': 'docs\\\\CV_AnishChapagain_2024.pdf', 'page': 0}),\n",
       " Document(page_content='where I will', metadata={'source': 'docs\\\\CV_AnishChapagain_2024.pdf', 'page': 0}),\n",
       " Document(page_content='consolidate, utilize, and further explore my professional skills with , and learning the latest', metadata={'source': 'docs\\\\CV_AnishChapagain_2024.pdf', 'page': 0}),\n",
       " Document(page_content='technologies', metadata={'source': 'docs\\\\CV_AnishChapagain_2024.pdf', 'page': 0}),\n",
       " Document(page_content='.', metadata={'source': 'docs\\\\CV_AnishChapagain_2024.pdf', 'page': 0}),\n",
       " Document(page_content='Technical Skills', metadata={'source': 'docs\\\\CV_AnishChapagain_2024.pdf', 'page': 0}),\n",
       " Document(page_content='\\uf0b7 Team  & project management, leading, m onitoring , training and c oaching , analysis & repor ting', metadata={'source': 'docs\\\\CV_AnishChapagain_2024.pdf', 'page': 0}),\n",
       " Document(page_content='.', metadata={'source': 'docs\\\\CV_AnishChapagain_2024.pdf', 'page': 0}),\n",
       " Document(page_content='\\uf0b7 Experience  in Knowledge Management, AI/ML, Data Science, Cybersecurity, e -Commerce review', metadata={'source': 'docs\\\\CV_AnishChapagain_2024.pdf', 'page': 0}),\n",
       " Document(page_content='platform', metadata={'source': 'docs\\\\CV_AnishChapagain_2024.pdf', 'page': 0}),\n",
       " Document(page_content='.', metadata={'source': 'docs\\\\CV_AnishChapagain_2024.pdf', 'page': 0}),\n",
       " Document(page_content='\\uf0b7 PySpark, Pandas, PyTorch, OCR, Django , Web Scraping, Anti -Scraping, Anti -bot testing ,', metadata={'source': 'docs\\\\CV_AnishChapagain_2024.pdf', 'page': 0}),\n",
       " Document(page_content=', Selenium', metadata={'source': 'docs\\\\CV_AnishChapagain_2024.pdf', 'page': 0}),\n",
       " Document(page_content='.', metadata={'source': 'docs\\\\CV_AnishChapagain_2024.pdf', 'page': 0}),\n",
       " Document(page_content='\\uf0b7 Data & Text A nalysis , Regular Expressions , Analysis/ Visualization , Reporting,  Shell', metadata={'source': 'docs\\\\CV_AnishChapagain_2024.pdf', 'page': 0}),\n",
       " Document(page_content='Scripting', metadata={'source': 'docs\\\\CV_AnishChapagain_2024.pdf', 'page': 0}),\n",
       " Document(page_content='.', metadata={'source': 'docs\\\\CV_AnishChapagain_2024.pdf', 'page': 0}),\n",
       " Document(page_content='\\uf0b7 Integrating LLMs into application using APIs . Using Hugging Face Transformers for NLP tasks.', metadata={'source': 'docs\\\\CV_AnishChapagain_2024.pdf', 'page': 0}),\n",
       " Document(page_content='\\uf0b7 Experience using cloud platforms: GCP, AWS .', metadata={'source': 'docs\\\\CV_AnishChapagain_2024.pdf', 'page': 0}),\n",
       " Document(page_content='\\uf0b7 Experienced with DB MS: Oracle, MySQL, MSSQL, MongoDB,  and SQL Querying.', metadata={'source': 'docs\\\\CV_AnishChapagain_2024.pdf', 'page': 0}),\n",
       " Document(page_content='\\uf0b7 Experienced using Project Manage ment applications BaseCamp, Blossom . Atlassian JIRA .', metadata={'source': 'docs\\\\CV_AnishChapagain_2024.pdf', 'page': 0}),\n",
       " Document(page_content='\\uf0b7 Proficiency in SDLC, T echnical writing/s upport , Documentation and delivering presentations  &', metadata={'source': 'docs\\\\CV_AnishChapagain_2024.pdf', 'page': 0}),\n",
       " Document(page_content='& articles', metadata={'source': 'docs\\\\CV_AnishChapagain_2024.pdf', 'page': 0}),\n",
       " Document(page_content='.', metadata={'source': 'docs\\\\CV_AnishChapagain_2024.pdf', 'page': 0}),\n",
       " Document(page_content='Professional Experience s  \\nProfessional Freelancer.', metadata={'source': 'docs\\\\CV_AnishChapagain_2024.pdf', 'page': 0}),\n",
       " Document(page_content='Freelance (Part -Time)                                                       1st Apr, 2009 – till', metadata={'source': 'docs\\\\CV_AnishChapagain_2024.pdf', 'page': 0}),\n",
       " Document(page_content='till date', metadata={'source': 'docs\\\\CV_AnishChapagain_2024.pdf', 'page': 0}),\n",
       " Document(page_content='.', metadata={'source': 'docs\\\\CV_AnishChapagain_2024.pdf', 'page': 0}),\n",
       " Document(page_content='\\uf0b7 Data extraction, a utomati on, classifying, pattern recogni tion, analyzing , conducting EDA ,', metadata={'source': 'docs\\\\CV_AnishChapagain_2024.pdf', 'page': 0}),\n",
       " Document(page_content=', prediction', metadata={'source': 'docs\\\\CV_AnishChapagain_2024.pdf', 'page': 0}),\n",
       " Document(page_content='.', metadata={'source': 'docs\\\\CV_AnishChapagain_2024.pdf', 'page': 0}),\n",
       " Document(page_content='\\uf0b7 Track & Trace, Ecommerce: reviews, analysis, compa rison, scheduling scrapper and reports.', metadata={'source': 'docs\\\\CV_AnishChapagain_2024.pdf', 'page': 0}),\n",
       " Document(page_content='\\uf0b7 Building applications for data collection , text summarization, translation, and paraphrasing .', metadata={'source': 'docs\\\\CV_AnishChapagain_2024.pdf', 'page': 0}),\n",
       " Document(page_content='\\uf0b7 Projects related to LLM integration, sentiment analysis , and summarization .', metadata={'source': 'docs\\\\CV_AnishChapagain_2024.pdf', 'page': 0}),\n",
       " Document(page_content='\\uf0b7 Web data comparing, Data processing,  testing , developing  ML models f rom client’s  data.', metadata={'source': 'docs\\\\CV_AnishChapagain_2024.pdf', 'page': 0}),\n",
       " Document(page_content='\\uf0b7 Projects related to SEO, data security, report automation, penetration  testing .', metadata={'source': 'docs\\\\CV_AnishChapagain_2024.pdf', 'page': 0}),\n",
       " Document(page_content='\\uf0b7 Studying, Reporting anti -bot cases, captchas prediction, frequencies (w/o) proxies .', metadata={'source': 'docs\\\\CV_AnishChapagain_2024.pdf', 'page': 0}),\n",
       " Document(page_content='\\uf0b7 Providing training  on web-penetration, NLP, NLTK, Scikit -learn, PySpark, PyTorch, Django ,', metadata={'source': 'docs\\\\CV_AnishChapagain_2024.pdf', 'page': 0}),\n",
       " Document(page_content=', Pandas', metadata={'source': 'docs\\\\CV_AnishChapagain_2024.pdf', 'page': 0}),\n",
       " Document(page_content='.', metadata={'source': 'docs\\\\CV_AnishChapagain_2024.pdf', 'page': 0}),\n",
       " Document(page_content='\\uf0b7 Projects related to scraping and ML, Code reviews & testing.', metadata={'source': 'docs\\\\CV_AnishChapagain_2024.pdf', 'page': 0}),\n",
       " Document(page_content='Logpoint. Jawalakhel, Lalitpur .', metadata={'source': 'docs\\\\CV_AnishChapagain_2024.pdf', 'page': 0}),\n",
       " Document(page_content='Sr', metadata={'source': 'docs\\\\CV_AnishChapagain_2024.pdf', 'page': 0}),\n",
       " Document(page_content='. Software Engineer - Python                                             23rd Feb, 2023 – 30st May,', metadata={'source': 'docs\\\\CV_AnishChapagain_2024.pdf', 'page': 0}),\n",
       " Document(page_content='May, 2024', metadata={'source': 'docs\\\\CV_AnishChapagain_2024.pdf', 'page': 0}),\n",
       " Document(page_content='\\uf0b7 Python, MongoDB, JIRA, Terraform, Shell Scripts, Docker, Jenkins.', metadata={'source': 'docs\\\\CV_AnishChapagain_2024.pdf', 'page': 0}),\n",
       " Document(page_content='\\uf0b7 Development/Testing SIEM, UEBA, and SOAR to SAP security .', metadata={'source': 'docs\\\\CV_AnishChapagain_2024.pdf', 'page': 0}),\n",
       " Document(page_content='\\uf0b7 Developing software solutions: consulting users, systems flow, data usage, and work processes .', metadata={'source': 'docs\\\\CV_AnishChapagain_2024.pdf', 'page': 0}),\n",
       " Document(page_content='\\uf0b7 Involved in  SDLC, Operational feasibility analysis, solution development, and proposed solutions', metadata={'source': 'docs\\\\CV_AnishChapagain_2024.pdf', 'page': 0}),\n",
       " Document(page_content='.', metadata={'source': 'docs\\\\CV_AnishChapagain_2024.pdf', 'page': 0}),\n",
       " Document(page_content='Grepsr . Lalita Bhawan, Maharajgunj,  Kathmandu', metadata={'source': 'docs\\\\CV_AnishChapagain_2024.pdf', 'page': 0}),\n",
       " Document(page_content='Teal Lead  – Data Acquisition', metadata={'source': 'docs\\\\CV_AnishChapagain_2024.pdf', 'page': 0}),\n",
       " Document(page_content='24th Nov, 2014  – 12th Feb, 2023', metadata={'source': 'docs\\\\CV_AnishChapagain_2024.pdf', 'page': 0}),\n",
       " Document(page_content='● Leading team of software developers', metadata={'source': 'docs\\\\CV_AnishChapagain_2024.pdf', 'page': 0}),\n",
       " Document(page_content='● Technical Support/Monitoring  Project  & Client  Queries plus Tickets .', metadata={'source': 'docs\\\\CV_AnishChapagain_2024.pdf', 'page': 0}),\n",
       " Document(page_content='● Developing/Updating Crawlers, code -review, testing and optimization.', metadata={'source': 'docs\\\\CV_AnishChapagain_2024.pdf', 'page': 0}),\n",
       " Document(page_content='●   Sentiment Analysis over Tripadvisor & Amazon  Reviews .', metadata={'source': 'docs\\\\CV_AnishChapagain_2024.pdf', 'page': 0}),\n",
       " Document(page_content='● Conducting Learning & Development Sessions  and Knowledge Sharing.', metadata={'source': 'docs\\\\CV_AnishChapagain_2024.pdf', 'page': 1}),\n",
       " Document(page_content='●  Project management using Atlassian JIRA . Versioning System (Git,  BitBucket)', metadata={'source': 'docs\\\\CV_AnishChapagain_2024.pdf', 'page': 1}),\n",
       " Document(page_content='Broa dway Infosys . Tinkune, Kathmandu .', metadata={'source': 'docs\\\\CV_AnishChapagain_2024.pdf', 'page': 1}),\n",
       " Document(page_content='Instructor (Part -Time)                                1st Mar, 2017 – 29th Dec, 2022', metadata={'source': 'docs\\\\CV_AnishChapagain_2024.pdf', 'page': 1}),\n",
       " Document(page_content='●  Instructing ‘Web Development with Python and Django’, ‘Data Science using Python’, “ML and AI”', metadata={'source': 'docs\\\\CV_AnishChapagain_2024.pdf', 'page': 1}),\n",
       " Document(page_content='.', metadata={'source': 'docs\\\\CV_AnishChapagain_2024.pdf', 'page': 1}),\n",
       " Document(page_content='● Providing professional t raining s on Python, PyTorch and Django.', metadata={'source': 'docs\\\\CV_AnishChapagain_2024.pdf', 'page': 1}),\n",
       " Document(page_content='● Training provided “Python and Django ”, NCIT , Lalitpur.', metadata={'source': 'docs\\\\CV_AnishChapagain_2024.pdf', 'page': 1}),\n",
       " Document(page_content='●  Project Development/Deployment, Code Reviews & Testing.', metadata={'source': 'docs\\\\CV_AnishChapagain_2024.pdf', 'page': 1}),\n",
       " Document(page_content='Nexstudios Nepal Pvt. Ltd . Maitighar (Mandala), Kathmandu .', metadata={'source': 'docs\\\\CV_AnishChapagain_2024.pdf', 'page': 1}),\n",
       " Document(page_content='Sr', metadata={'source': 'docs\\\\CV_AnishChapagain_2024.pdf', 'page': 1}),\n",
       " Document(page_content='. PHP Programmer', metadata={'source': 'docs\\\\CV_AnishChapagain_2024.pdf', 'page': 1}),\n",
       " Document(page_content='1st Nov, 2013 – 2nd Nov, 2014', metadata={'source': 'docs\\\\CV_AnishChapagain_2024.pdf', 'page': 1}),\n",
       " Document(page_content='●  Research, review client requirements and assist in Proposal making .', metadata={'source': 'docs\\\\CV_AnishChapagain_2024.pdf', 'page': 1}),\n",
       " Document(page_content='● Custom PHP coding & implementing Wordpress (Woocommerce), OpenCart, Magento, CodeIgniter.', metadata={'source': 'docs\\\\CV_AnishChapagain_2024.pdf', 'page': 1}),\n",
       " Document(page_content='● Coding support to developers/clients site (error testing/fixing, database maintenance, site', metadata={'source': 'docs\\\\CV_AnishChapagain_2024.pdf', 'page': 1}),\n",
       " Document(page_content='site configuration)', metadata={'source': 'docs\\\\CV_AnishChapagain_2024.pdf', 'page': 1}),\n",
       " Document(page_content='●  Project management using BaseCamp and Bloss om. Versioning System (Git) .', metadata={'source': 'docs\\\\CV_AnishChapagain_2024.pdf', 'page': 1}),\n",
       " Document(page_content='ZaraSoft Nepal Pvt. Ltd . Subidhanagar, Tinkune, Kathmandu .', metadata={'source': 'docs\\\\CV_AnishChapagain_2024.pdf', 'page': 1}),\n",
       " Document(page_content='Project Manager (IT Development)', metadata={'source': 'docs\\\\CV_AnishChapagain_2024.pdf', 'page': 1}),\n",
       " Document(page_content='15th Jan, 2013 – 1st Oct, 2013', metadata={'source': 'docs\\\\CV_AnishChapagain_2024.pdf', 'page': 1}),\n",
       " Document(page_content='● System development using .NET Technologies deploying Entity Framework, LINQ, MVC.', metadata={'source': 'docs\\\\CV_AnishChapagain_2024.pdf', 'page': 1}),\n",
       " Document(page_content='● Providing IT related support, analysis information to “Dish Media Network”, “DuoMedia Technology”', metadata={'source': 'docs\\\\CV_AnishChapagain_2024.pdf', 'page': 1}),\n",
       " Document(page_content='.', metadata={'source': 'docs\\\\CV_AnishChapagain_2024.pdf', 'page': 1}),\n",
       " Document(page_content='● Development of Organizational ERP, Production, Inventory, HRM, Accounting, MIS & Reporting system', metadata={'source': 'docs\\\\CV_AnishChapagain_2024.pdf', 'page': 1}),\n",
       " Document(page_content='.', metadata={'source': 'docs\\\\CV_AnishChapagain_2024.pdf', 'page': 1}),\n",
       " Document(page_content='● Web development & maintenance, www.duomedia.com.np , www.wikileaksnepal.com  using PHP, MySQL.', metadata={'source': 'docs\\\\CV_AnishChapagain_2024.pdf', 'page': 1}),\n",
       " Document(page_content='● Project Management using BaseCamp. Versioning System (Git, SVN) .', metadata={'source': 'docs\\\\CV_AnishChapagain_2024.pdf', 'page': 1}),\n",
       " Document(page_content='Dish Media Network . Corporate Tower, Tinkune, Kathmandu .', metadata={'source': 'docs\\\\CV_AnishChapagain_2024.pdf', 'page': 1}),\n",
       " Document(page_content='Software Engineer', metadata={'source': 'docs\\\\CV_AnishChapagain_2024.pdf', 'page': 1}),\n",
       " Document(page_content='11th May, 2011 – 11th Oct, 2012', metadata={'source': 'docs\\\\CV_AnishChapagain_2024.pdf', 'page': 1}),\n",
       " Document(page_content='● Web development and mai ntenance of www.dishhome.com.np  using PHP, MYSQL.', metadata={'source': 'docs\\\\CV_AnishChapagain_2024.pdf', 'page': 1}),\n",
       " Document(page_content='● IT Support with System related research and planning.', metadata={'source': 'docs\\\\CV_AnishChapagain_2024.pdf', 'page': 1}),\n",
       " Document(page_content='● Fluency in using ‘DuoSoft’, DTH Software from SriLankan vendor.', metadata={'source': 'docs\\\\CV_AnishChapagain_2024.pdf', 'page': 1}),\n",
       " Document(page_content='● Clients and Dealer based analysis reporting using MS -SQL 2008R2.', metadata={'source': 'docs\\\\CV_AnishChapagain_2024.pdf', 'page': 1}),\n",
       " Document(page_content='● Engaged on .Net based \"Dmn ERP \", an Enterprise ERP with Swift Technology Nepal.', metadata={'source': 'docs\\\\CV_AnishChapagain_2024.pdf', 'page': 1}),\n",
       " Document(page_content='IT ExpertNepal.  Dhumbarahi, Kathmandu, Nepal .', metadata={'source': 'docs\\\\CV_AnishChapagain_2024.pdf', 'page': 1}),\n",
       " Document(page_content='System Developer', metadata={'source': 'docs\\\\CV_AnishChapagain_2024.pdf', 'page': 1}),\n",
       " Document(page_content='.  (Part -Time)', metadata={'source': 'docs\\\\CV_AnishChapagain_2024.pdf', 'page': 1}),\n",
       " Document(page_content='24th April, 2011 – 1st Jan, 2013', metadata={'source': 'docs\\\\CV_AnishChapagain_2024.pdf', 'page': 1}),\n",
       " Document(page_content='●  System and Web Administrator for Client Sites, with Project Management and Tender bidding', metadata={'source': 'docs\\\\CV_AnishChapagain_2024.pdf', 'page': 1}),\n",
       " Document(page_content='activities', metadata={'source': 'docs\\\\CV_AnishChapagain_2024.pdf', 'page': 1}),\n",
       " Document(page_content='.', metadata={'source': 'docs\\\\CV_AnishChapagain_2024.pdf', 'page': 1}),\n",
       " Document(page_content='● Project implementation with MS Visual Studio (ASP.net, C#), and SQL Server Reporting services.', metadata={'source': 'docs\\\\CV_AnishChapagain_2024.pdf', 'page': 1}),\n",
       " Document(page_content='● Core Programming -using  PHP (MySQL, WordPress, CakePHP , OpenCart) for various clients.', metadata={'source': 'docs\\\\CV_AnishChapagain_2024.pdf', 'page': 1}),\n",
       " Document(page_content='● Project management using BaseCamp. Versioning System (Git)', metadata={'source': 'docs\\\\CV_AnishChapagain_2024.pdf', 'page': 1}),\n",
       " Document(page_content='● Web development and maintenance www.itexpertnepal.net .', metadata={'source': 'docs\\\\CV_AnishChapagain_2024.pdf', 'page': 1}),\n",
       " Document(page_content='Pussycat London.  Aldgate East, London, U.K.', metadata={'source': 'docs\\\\CV_AnishChapagain_2024.pdf', 'page': 1}),\n",
       " Document(page_content='Web Developer/Designer (IT Sup ervisor)', metadata={'source': 'docs\\\\CV_AnishChapagain_2024.pdf', 'page': 1}),\n",
       " Document(page_content='26th Oct, 2009 – 31st Mar, 2011', metadata={'source': 'docs\\\\CV_AnishChapagain_2024.pdf', 'page': 1}),\n",
       " Document(page_content='●  Web development & maintenance www.pussycatlondon.com', metadata={'source': 'docs\\\\CV_AnishChapagain_2024.pdf', 'page': 1}),\n",
       " Document(page_content='● Handling  & reporting  e-commerc activities with eBay.co.uk for Bonzai Ltd (Pussycat London).', metadata={'source': 'docs\\\\CV_AnishChapagain_2024.pdf', 'page': 1}),\n",
       " Document(page_content='● Handling and Processing Customer Enquiries cum e -Commerce support (PayPal, eBay, Google', metadata={'source': 'docs\\\\CV_AnishChapagain_2024.pdf', 'page': 1}),\n",
       " Document(page_content='Checkout)', metadata={'source': 'docs\\\\CV_AnishChapagain_2024.pdf', 'page': 1}),\n",
       " Document(page_content='.', metadata={'source': 'docs\\\\CV_AnishChapagain_2024.pdf', 'page': 1}),\n",
       " Document(page_content='● Dealing with “iLevel” (Software for Clothing industry) and assisting to work dealings.', metadata={'source': 'docs\\\\CV_AnishChapagain_2024.pdf', 'page': 2}),\n",
       " Document(page_content='● Providing IT based software and hardware support and guidance.', metadata={'source': 'docs\\\\CV_AnishChapagain_2024.pdf', 'page': 2}),\n",
       " Document(page_content='Kumari Bank Limited . Putalisadak, Kathmandu, Nepal.', metadata={'source': 'docs\\\\CV_AnishChapagain_2024.pdf', 'page': 2}),\n",
       " Document(page_content='Visa -Card Assistant', metadata={'source': 'docs\\\\CV_AnishChapagain_2024.pdf', 'page': 2}),\n",
       " Document(page_content='.', metadata={'source': 'docs\\\\CV_AnishChapagain_2024.pdf', 'page': 2}),\n",
       " Document(page_content='23rd Oct, 2005 - 8th Oct, 2007', metadata={'source': 'docs\\\\CV_AnishChapagain_2024.pdf', 'page': 2}),\n",
       " Document(page_content='● Updating and managing company website, www.kumaribank.com  using JavaScript, PHP & MySQL.', metadata={'source': 'docs\\\\CV_AnishChapagain_2024.pdf', 'page': 2}),\n",
       " Document(page_content='● Daily log vie wing, maintenance, backing up of live system and server NARADA SWITCH.', metadata={'source': 'docs\\\\CV_AnishChapagain_2024.pdf', 'page': 2}),\n",
       " Document(page_content='● System maintenance, Error handling, ATM device maintenance & supervision.', metadata={'source': 'docs\\\\CV_AnishChapagain_2024.pdf', 'page': 2}),\n",
       " Document(page_content='● Daily monitoring & refreshing CAM (Control and Monitoring) server.', metadata={'source': 'docs\\\\CV_AnishChapagain_2024.pdf', 'page': 2}),\n",
       " Document(page_content='● Database Handling & Implementation, Mana ging End of Day (EOD) Operations.', metadata={'source': 'docs\\\\CV_AnishChapagain_2024.pdf', 'page': 2}),\n",
       " Document(page_content='Kathmandu Institute of Technology . Sankhapark, Dhumbarahi, Nepal .', metadata={'source': 'docs\\\\CV_AnishChapagain_2024.pdf', 'page': 2}),\n",
       " Document(page_content='Lecturer Computer Engineering (I', metadata={'source': 'docs\\\\CV_AnishChapagain_2024.pdf', 'page': 2}),\n",
       " Document(page_content='.E)                                                                      23rd Feb, 2003 – 30th Dec,', metadata={'source': 'docs\\\\CV_AnishChapagain_2024.pdf', 'page': 2}),\n",
       " Document(page_content='Dec, 2005', metadata={'source': 'docs\\\\CV_AnishChapagain_2024.pdf', 'page': 2}),\n",
       " Document(page_content='●  Lecturing in Programming Languages (C, C++, Java), Basic Hardware and Networking.', metadata={'source': 'docs\\\\CV_AnishChapagain_2024.pdf', 'page': 2}),\n",
       " Document(page_content='Himalayan Institute of Technology . New Baneshwor, Kathmandu, Nepal.', metadata={'source': 'docs\\\\CV_AnishChapagain_2024.pdf', 'page': 2}),\n",
       " Document(page_content='IT Instructor/Programmer', metadata={'source': 'docs\\\\CV_AnishChapagain_2024.pdf', 'page': 2}),\n",
       " Document(page_content='17th Nov, 2002 – 8th Oct, 2007', metadata={'source': 'docs\\\\CV_AnishChapagain_2024.pdf', 'page': 2}),\n",
       " Document(page_content='● Project instructor for Oracle with Developer & PL/SQL, Ministry of General Admin (Nijamati', metadata={'source': 'docs\\\\CV_AnishChapagain_2024.pdf', 'page': 2}),\n",
       " Document(page_content='Sansthan)', metadata={'source': 'docs\\\\CV_AnishChapagain_2024.pdf', 'page': 2}),\n",
       " Document(page_content='●  Software Development in C, C++, Borland C++ Builder, Java, Oracle with Developer.', metadata={'source': 'docs\\\\CV_AnishChapagain_2024.pdf', 'page': 2}),\n",
       " Document(page_content='● Website Designing HTML, PHP with MySQL, JavaScript, CSS, Apache and Linux.', metadata={'source': 'docs\\\\CV_AnishChapagain_2024.pdf', 'page': 2}),\n",
       " Document(page_content='● Instructing MS -DOS, Microsoft Office, Adobe Photoshop, Oracle, MySQL, PL/SQL, C, C++, Java, HTML', metadata={'source': 'docs\\\\CV_AnishChapagain_2024.pdf', 'page': 2}),\n",
       " Document(page_content='.', metadata={'source': 'docs\\\\CV_AnishChapagain_2024.pdf', 'page': 2}),\n",
       " Document(page_content='Publications', metadata={'source': 'docs\\\\CV_AnishChapagain_2024.pdf', 'page': 2}),\n",
       " Document(page_content='Book Writer  (Contract Author) . Packt Publishing . UK, India . https://www.packtpub.com/', metadata={'source': 'docs\\\\CV_AnishChapagain_2024.pdf', 'page': 2}),\n",
       " Document(page_content='● “Hands -On Web Scraping with Python: Extract quality data from the web using effective Python', metadata={'source': 'docs\\\\CV_AnishChapagain_2024.pdf', 'page': 2}),\n",
       " Document(page_content='techniques,', metadata={'source': 'docs\\\\CV_AnishChapagain_2024.pdf', 'page': 2}),\n",
       " Document(page_content='2nd Edition” . ISBN:  9781837636211 , Oct-2023.', metadata={'source': 'docs\\\\CV_AnishChapagain_2024.pdf', 'page': 2}),\n",
       " Document(page_content='● “Hands -On Web Scraping with Python” . ISBN : 9781789533392 , Jul-2019 . \\n \\n \\nEducation', metadata={'source': 'docs\\\\CV_AnishChapagain_2024.pdf', 'page': 2}),\n",
       " Document(page_content='M.Sc Computer System (2007 -2008), Bangor University, Wales (U.K)', metadata={'source': 'docs\\\\CV_AnishChapagain_2024.pdf', 'page': 2}),\n",
       " Document(page_content='● Learning /Development using  Java and Python (AI, Text Mining, Web Mining, NLP, Web Scraping)', metadata={'source': 'docs\\\\CV_AnishChapagain_2024.pdf', 'page': 2}),\n",
       " Document(page_content='.  PHP/', metadata={'source': 'docs\\\\CV_AnishChapagain_2024.pdf', 'page': 2}),\n",
       " Document(page_content='JavaScript/ MySQL for Web development .', metadata={'source': 'docs\\\\CV_AnishChapagain_2024.pdf', 'page': 2}),\n",
       " Document(page_content='● Dissertation: Development of  Text Mining Toolkit ‘TUI’ , a GUI application in Python handling', metadata={'source': 'docs\\\\CV_AnishChapagain_2024.pdf', 'page': 2}),\n",
       " Document(page_content='Text Mining', metadata={'source': 'docs\\\\CV_AnishChapagain_2024.pdf', 'page': 2}),\n",
       " Document(page_content='framework (TMT) in C, by Dr. WJ Teahan.', metadata={'source': 'docs\\\\CV_AnishChapagain_2024.pdf', 'page': 2}),\n",
       " Document(page_content='● Development of Personal profiling system ‘webwiki’ using Python (Web Scraping techniques,', metadata={'source': 'docs\\\\CV_AnishChapagain_2024.pdf', 'page': 2}),\n",
       " Document(page_content='Wikipedia)', metadata={'source': 'docs\\\\CV_AnishChapagain_2024.pdf', 'page': 2}),\n",
       " Document(page_content='.', metadata={'source': 'docs\\\\CV_AnishChapagain_2024.pdf', 'page': 2}),\n",
       " Document(page_content='Executive -MBA (HRM) (2004 -2006), Himalayan Whitehouse Int’l College, Ktm, Nepal .', metadata={'source': 'docs\\\\CV_AnishChapagain_2024.pdf', 'page': 2}),\n",
       " Document(page_content='● Specialization in Human Resource Management, Thesis submitted “Human Resource Information System”', metadata={'source': 'docs\\\\CV_AnishChapagain_2024.pdf', 'page': 2}),\n",
       " Document(page_content='.', metadata={'source': 'docs\\\\CV_AnishChapagain_2024.pdf', 'page': 2}),\n",
       " Document(page_content='● Subjects : Accounting, Organization Behavior, Research Methodology, TQM, HRM, Economics etc.', metadata={'source': 'docs\\\\CV_AnishChapagain_2024.pdf', 'page': 2}),\n",
       " Document(page_content='B.Sc. Computer Science (1999 -2002), Campion College, Kupondole, Lalitpur, Nepal .', metadata={'source': 'docs\\\\CV_AnishChapagain_2024.pdf', 'page': 2}),\n",
       " Document(page_content='●  Obtained distinct grade in Core Java Programming.', metadata={'source': 'docs\\\\CV_AnishChapagain_2024.pdf', 'page': 2}),\n",
       " Document(page_content='● Major Project: Media Player using Borland C++ Builder. 2002 (B.Sc. Computer Science).', metadata={'source': 'docs\\\\CV_AnishChapagain_2024.pdf', 'page': 2}),\n",
       " Document(page_content='● Subjects:  Numerical method, Data Structures, Computer Graphics, DBMS, Mathematical procedures,', metadata={'source': 'docs\\\\CV_AnishChapagain_2024.pdf', 'page': 3}),\n",
       " Document(page_content='Physics, C & C++ Programming Language.  \\n \\nProfessional/Academic /Online  projects ...', metadata={'source': 'docs\\\\CV_AnishChapagain_2024.pdf', 'page': 3}),\n",
       " Document(page_content='● “LLMs with Google Cloud and Python” Udemy , 2024.', metadata={'source': 'docs\\\\CV_AnishChapagain_2024.pdf', 'page': 3}),\n",
       " Document(page_content='● “Advanced Python: Working with Databases” Linkedin learning , 2022.', metadata={'source': 'docs\\\\CV_AnishChapagain_2024.pdf', 'page': 3}),\n",
       " Document(page_content='● “Developing your Team Me mbers” Linkedin Learning , 2022.', metadata={'source': 'docs\\\\CV_AnishChapagain_2024.pdf', 'page': 3}),\n",
       " Document(page_content='●  “The Ultimate Hands on Hadoop: Tame your Big Data” Udemy , 2022.', metadata={'source': 'docs\\\\CV_AnishChapagain_2024.pdf', 'page': 3}),\n",
       " Document(page_content='● “Data Engineering Essentials using SQL, Python, and PySpark”  Udemy , 2022.', metadata={'source': 'docs\\\\CV_AnishChapagain_2024.pdf', 'page': 3}),\n",
       " Document(page_content='● “Machine Learning A -Z: Hands -On Python” Udemy , 2020.', metadata={'source': 'docs\\\\CV_AnishChapagain_2024.pdf', 'page': 3}),\n",
       " Document(page_content='●  “Element of AI” – University of Helsinki (Online 2 ECTS) , 2018', metadata={'source': 'docs\\\\CV_AnishChapagain_2024.pdf', 'page': 3}),\n",
       " Document(page_content='● Web based ‘Data collection & Exporting IS’ using PHP/MySQL/AJAX for ‘SFCG Nepal’, Lazimpat -2014', metadata={'source': 'docs\\\\CV_AnishChapagain_2024.pdf', 'page': 3}),\n",
       " Document(page_content='● Project -CDRMP (Online Building Permit System) with Kathmandu Metropolitan Office, UN House and', metadata={'source': 'docs\\\\CV_AnishChapagain_2024.pdf', 'page': 3}),\n",
       " Document(page_content='Innovative system (Pulchowk,  Lalitpur). (ITExpertnepal  - 2012).', metadata={'source': 'docs\\\\CV_AnishChapagain_2024.pdf', 'page': 3}),\n",
       " Document(page_content='● Freelancing, Web development using CakePHP ( www.netrenos.com ) - 2011', metadata={'source': 'docs\\\\CV_AnishChapagain_2024.pdf', 'page': 3}),\n",
       " Document(page_content='● Library Management System using Oracle with Developer, 2004 (Himalayan IT)', metadata={'source': 'docs\\\\CV_AnishChapagain_2024.pdf', 'page': 3}),\n",
       " Document(page_content='LinkedIn Profile : https://www.linkedin.com/in/anish -chapagain -a581386/', metadata={'source': 'docs\\\\CV_AnishChapagain_2024.pdf', 'page': 3}),\n",
       " Document(page_content='References are available upon request and as required.', metadata={'source': 'docs\\\\CV_AnishChapagain_2024.pdf', 'page': 3})]"
      ]
     },
     "execution_count": 7,
     "metadata": {},
     "output_type": "execute_result"
    }
   ],
   "source": [
    "docs"
   ]
  },
  {
   "cell_type": "code",
   "execution_count": 8,
   "metadata": {},
   "outputs": [
    {
     "data": {
      "text/plain": [
       "179"
      ]
     },
     "execution_count": 8,
     "metadata": {},
     "output_type": "execute_result"
    }
   ],
   "source": [
    "len(docs)"
   ]
  },
  {
   "cell_type": "code",
   "execution_count": 9,
   "metadata": {},
   "outputs": [
    {
     "data": {
      "text/plain": [
       "'Chapagain, Anish   \\nGreen Hill City  #498 , Kageshwori Manohara -06, Mulpani , Kathmandu, Nepal.'"
      ]
     },
     "execution_count": 9,
     "metadata": {},
     "output_type": "execute_result"
    }
   ],
   "source": [
    "docs[0].page_content"
   ]
  },
  {
   "cell_type": "code",
   "execution_count": 10,
   "metadata": {},
   "outputs": [],
   "source": [
    "# Read API KEY from file\n",
    "import json\n",
    "\n",
    "file_path = 'llms_vault.json'\n",
    "llm_key = 'GOOGLE_API_KEY'\n",
    "\n",
    "try:\n",
    "    with open(file_path,'r') as f:\n",
    "        api_key = json.loads(f.read()).get(llm_key)\n",
    "        if not api_key:\n",
    "            raise ValueError(f\"Some issue with '{llm_key}' from '{file_path}'. Verify the key:'{llm_key}' if it exists!\")\n",
    "except FileNotFoundError:\n",
    "    raise FileNotFoundError(f\"File related issue encountered, verify file path and name '{file_path}'\")"
   ]
  },
  {
   "cell_type": "markdown",
   "metadata": {},
   "source": [
    "# https://ai.google.dev/api\n",
    "import google.generativeai as genai\n",
    "genai.configure(api_key=api_key) # genai.configure(api_key=os.environ[llm_key]) "
   ]
  },
  {
   "cell_type": "code",
   "execution_count": 11,
   "metadata": {},
   "outputs": [],
   "source": [
    "from langchain_google_genai import GoogleGenerativeAIEmbeddings # models/text-embedding-004\t"
   ]
  },
  {
   "cell_type": "markdown",
   "metadata": {},
   "source": [
    "import os\n",
    "os.environ[\"GOOGLE_API_KEY\"] = api_key"
   ]
  },
  {
   "cell_type": "code",
   "execution_count": 12,
   "metadata": {},
   "outputs": [],
   "source": [
    "#result = genai.embed_content(model=\"models/text-embedding-004\", content=docsr)\n",
    "\n",
    "embedding_model = GoogleGenerativeAIEmbeddings(\n",
    "    model=\"models/embedding-001\", # text-embedding-004\n",
    "    google_api_key=api_key,\n",
    "    )"
   ]
  },
  {
   "cell_type": "code",
   "execution_count": 13,
   "metadata": {},
   "outputs": [
    {
     "data": {
      "text/plain": [
       "GoogleGenerativeAIEmbeddings(client=<google.ai.generativelanguage_v1beta.services.generative_service.client.GenerativeServiceClient object at 0x00000249A9D68E60>, model='models/embedding-001', task_type=None, google_api_key=SecretStr('**********'), credentials=None, client_options=None, transport=None, request_options=None)"
      ]
     },
     "execution_count": 13,
     "metadata": {},
     "output_type": "execute_result"
    }
   ],
   "source": [
    "embedding_model"
   ]
  },
  {
   "cell_type": "code",
   "execution_count": 14,
   "metadata": {},
   "outputs": [],
   "source": [
    "from langchain.vectorstores import FAISS"
   ]
  },
  {
   "cell_type": "code",
   "execution_count": 15,
   "metadata": {},
   "outputs": [],
   "source": [
    "vectordb = FAISS.from_documents(\n",
    "    documents=docs,\n",
    "    embedding=embedding_model,\n",
    ")"
   ]
  },
  {
   "cell_type": "code",
   "execution_count": 16,
   "metadata": {},
   "outputs": [
    {
     "data": {
      "text/plain": [
       "<langchain_community.vectorstores.faiss.FAISS at 0x249aca9bfb0>"
      ]
     },
     "execution_count": 16,
     "metadata": {},
     "output_type": "execute_result"
    }
   ],
   "source": [
    "vectordb\n",
    "# vectordb.save_local(\"faiss_index\")\n",
    "# new_db = FAISS.load_local(\"faiss_index\", embeddings)\n",
    "\n",
    "# docs = new_db.similarity_search(query)"
   ]
  },
  {
   "cell_type": "code",
   "execution_count": 111,
   "metadata": {},
   "outputs": [
    {
     "name": "stdout",
     "output_type": "stream",
     "text": [
      "179\n"
     ]
    }
   ],
   "source": [
    "print(vectordb.index.ntotal)"
   ]
  },
  {
   "cell_type": "code",
   "execution_count": 18,
   "metadata": {},
   "outputs": [],
   "source": [
    "pdf = vectordb.as_retriever(search_type=\"mmr\", search_kwargs={\"k\": 3})"
   ]
  },
  {
   "cell_type": "code",
   "execution_count": 19,
   "metadata": {},
   "outputs": [],
   "source": [
    "from langchain_google_genai import ChatGoogleGenerativeAI\n",
    "from langchain.schema import StrOutputParser"
   ]
  },
  {
   "cell_type": "code",
   "execution_count": 20,
   "metadata": {},
   "outputs": [],
   "source": [
    "llm_model = ChatGoogleGenerativeAI(\n",
    "    model=\"gemini-1.5-flash-latest\",\n",
    "    google_api_key=api_key,\n",
    "    )"
   ]
  },
  {
   "cell_type": "markdown",
   "metadata": {},
   "source": [
    "### Chat"
   ]
  },
  {
   "cell_type": "code",
   "execution_count": 21,
   "metadata": {},
   "outputs": [],
   "source": [
    "from langchain import PromptTemplate"
   ]
  },
  {
   "cell_type": "code",
   "execution_count": 40,
   "metadata": {},
   "outputs": [],
   "source": [
    "llm_prompt_template = \"\"\"\n",
    "    You are an assistant for question-answering tasks. Use the following pieces of retrieved context \n",
    "    to answer the question. If you don't know the answer, just say that you don't know. \n",
    "    Use two to three sentences maximum and keep the answer concise.\\n\n",
    "    Question: {question} \\nContext: {context} \\nAnswer:\n",
    "    \"\"\"\n",
    "\n",
    "llm_prompt_template_new = \"\"\"You are an assistant, use the following context to answer the question.\n",
    "Use two to three sentences maximum and keep the answer concise.\\n\n",
    "Question: {question} \\nContext: {context} \\nAnswer:\"\"\"\n"
   ]
  },
  {
   "cell_type": "code",
   "execution_count": 41,
   "metadata": {},
   "outputs": [
    {
     "name": "stdout",
     "output_type": "stream",
     "text": [
      "input_variables=['context', 'question'] template=\"\\n    You are an assistant for question-answering tasks. Use the following pieces of retrieved context \\n    to answer the question. If you don't know the answer, just say that you don't know. \\n    Use two to three sentences maximum and keep the answer concise.\\n\\n    Question: {question} \\nContext: {context} \\nAnswer:\\n    \"\n"
     ]
    }
   ],
   "source": [
    "llm_prompt = PromptTemplate.from_template(llm_prompt_template)\n",
    "print(llm_prompt)"
   ]
  },
  {
   "cell_type": "code",
   "execution_count": 34,
   "metadata": {},
   "outputs": [],
   "source": [
    "def format_docs(docs):\n",
    "    return \"\\n\\n\".join(doc.page_content for doc in docs)"
   ]
  },
  {
   "cell_type": "code",
   "execution_count": 35,
   "metadata": {},
   "outputs": [],
   "source": [
    "from langchain.schema.runnable import RunnablePassthrough"
   ]
  },
  {
   "cell_type": "code",
   "execution_count": 42,
   "metadata": {},
   "outputs": [],
   "source": [
    "def reply(question=''):\n",
    "    chain = (\n",
    "    {\"context\": pdf | format_docs, \"question\": RunnablePassthrough()}\n",
    "    | llm_prompt | llm_model | StrOutputParser()\n",
    "    )\n",
    "    print(chain.invoke(question))"
   ]
  },
  {
   "cell_type": "code",
   "execution_count": 139,
   "metadata": {},
   "outputs": [
    {
     "data": {
      "text/plain": [
       "'●  “Element of AI” – University of Helsinki (Online 2 ECTS) , 2018'"
      ]
     },
     "execution_count": 139,
     "metadata": {},
     "output_type": "execute_result"
    }
   ],
   "source": [
    "pdf.invoke(\"cities\")[0].page_content"
   ]
  },
  {
   "cell_type": "code",
   "execution_count": 144,
   "metadata": {},
   "outputs": [
    {
     "data": {
      "text/plain": [
       "Document(page_content='●  “Element of AI” – University of Helsinki (Online 2 ECTS) , 2018', metadata={'source': 'docs\\\\CV_AnishChapagain_2024.pdf', 'page': 3})"
      ]
     },
     "execution_count": 144,
     "metadata": {},
     "output_type": "execute_result"
    }
   ],
   "source": [
    "vectordb.similarity_search(\"cities\")[0]"
   ]
  },
  {
   "cell_type": "code",
   "execution_count": 44,
   "metadata": {},
   "outputs": [
    {
     "name": "stdout",
     "output_type": "stream",
     "text": [
      "The provided context mentions two cities: Jawalakhel and Lalitpur. \n",
      "\n"
     ]
    }
   ],
   "source": [
    "reply(\"list some cities found in the document\")"
   ]
  },
  {
   "cell_type": "code",
   "execution_count": 49,
   "metadata": {},
   "outputs": [
    {
     "name": "stdout",
     "output_type": "stream",
     "text": [
      "The document mentions one college: Campion College, located in Kupondole, Lalitpur, Nepal. \n",
      "\n"
     ]
    }
   ],
   "source": [
    "reply(\"provide the list of colleges, universities with their address and name found in the document\")"
   ]
  },
  {
   "cell_type": "code",
   "execution_count": 48,
   "metadata": {},
   "outputs": [
    {
     "name": "stdout",
     "output_type": "stream",
     "text": [
      "The document mentions Python, Shell Scripts, and C.  The context also mentions MongoDB, Terraform, Docker, and Jenkins, but these are not programming languages. \n",
      "\n"
     ]
    }
   ],
   "source": [
    "reply(\"list some programming languages found in the document\")"
   ]
  },
  {
   "cell_type": "code",
   "execution_count": 52,
   "metadata": {},
   "outputs": [
    {
     "name": "stdout",
     "output_type": "stream",
     "text": [
      "The document outlines tasks related to software development and project management. It mentions building applications for data collection, text summarization, translation, and paraphrasing. Additionally, it highlights daily responsibilities like system maintenance and backup, project management using BaseCamp, and version control using Git or SVN. \n",
      "\n"
     ]
    }
   ],
   "source": [
    "reply(\"summarize the whole document in less than 200 words\")"
   ]
  },
  {
   "cell_type": "code",
   "execution_count": 53,
   "metadata": {},
   "outputs": [
    {
     "name": "stdout",
     "output_type": "stream",
     "text": [
      "The LinkedIn URL provided in the context is: https://www.linkedin.com/in/anish -chapagain -a581386/. \n",
      "\n"
     ]
    }
   ],
   "source": [
    "reply(\"provide me linkedin URL found in the document\")"
   ]
  },
  {
   "cell_type": "code",
   "execution_count": 54,
   "metadata": {},
   "outputs": [
    {
     "name": "stdout",
     "output_type": "stream",
     "text": [
      "Anish Chapagain's address is Green Hill City #498, Kageshwori Manohara -06, Mulpani, Kathmandu, Nepal. This information was found on his LinkedIn profile. \n",
      "\n"
     ]
    }
   ],
   "source": [
    "reply(\"where is anish chpagain located, provide me his address\")"
   ]
  },
  {
   "cell_type": "code",
   "execution_count": 61,
   "metadata": {},
   "outputs": [
    {
     "name": "stdout",
     "output_type": "stream",
     "text": [
      "The document mentions the country **Nepal**. \n",
      "\n"
     ]
    }
   ],
   "source": [
    "reply(\"list country name that is available in the document\")"
   ]
  },
  {
   "cell_type": "code",
   "execution_count": 69,
   "metadata": {},
   "outputs": [
    {
     "name": "stdout",
     "output_type": "stream",
     "text": [
      "The earliest date provided in the context is February 23, 2003. \n",
      "\n"
     ]
    }
   ],
   "source": [
    "reply(\"provide the earliest date\")"
   ]
  },
  {
   "cell_type": "code",
   "execution_count": 70,
   "metadata": {},
   "outputs": [
    {
     "name": "stdout",
     "output_type": "stream",
     "text": [
      "The latest date provided in the context is May, 2024. \n",
      "\n"
     ]
    }
   ],
   "source": [
    "reply(\"provide the latest date\")"
   ]
  },
  {
   "cell_type": "code",
   "execution_count": 71,
   "metadata": {},
   "outputs": [
    {
     "name": "stdout",
     "output_type": "stream",
     "text": [
      "The provided context lists professional courses such as MS-DOS, Microsoft Office, Adobe Photoshop, Oracle, MySQL, PL/SQL, C, C++, Java, and HTML.  These courses cover a range of software applications, programming languages, and database management systems. \n",
      "\n"
     ]
    }
   ],
   "source": [
    "reply(\"list some professional courses found\")"
   ]
  },
  {
   "cell_type": "code",
   "execution_count": 75,
   "metadata": {},
   "outputs": [
    {
     "name": "stdout",
     "output_type": "stream",
     "text": [
      "I can only identify one Udemy course from the provided context: \"LLMs with Google Cloud and Python\". \n",
      "\n"
     ]
    }
   ],
   "source": [
    "reply(\"list udemy courses\")"
   ]
  },
  {
   "cell_type": "code",
   "execution_count": 79,
   "metadata": {},
   "outputs": [
    {
     "name": "stdout",
     "output_type": "stream",
     "text": [
      "The provided context mentions a Udemy course titled \"LLMs with Google Cloud and Python\".  This suggests a title related to LLMs and Python, such as \"LLM and Python for Beginners\" or \"Building LLM Applications with Python\". \n",
      "\n"
     ]
    }
   ],
   "source": [
    "reply(\"list titles for LLM or Python or anyone of them\")"
   ]
  },
  {
   "cell_type": "code",
   "execution_count": 80,
   "metadata": {},
   "outputs": [
    {
     "name": "stdout",
     "output_type": "stream",
     "text": [
      "The provided context indicates that Anish has experience with MongoDB. His LinkedIn profile lists MongoDB as a skill, suggesting he has used it in the past. \n",
      "\n"
     ]
    }
   ],
   "source": [
    "reply(\"is anish used to MongoDb\")"
   ]
  },
  {
   "cell_type": "code",
   "execution_count": 88,
   "metadata": {},
   "outputs": [
    {
     "name": "stdout",
     "output_type": "stream",
     "text": [
      "Based on the provided context, Anish has taken a course on \"Data Engineering Essentials using SQL, Python, and PySpark\" on Udemy in 2022.  This suggests that Anish has been exposed to PySpark. \n",
      "\n"
     ]
    }
   ],
   "source": [
    "reply(\"is anish used to PySpark\")"
   ]
  },
  {
   "cell_type": "code",
   "execution_count": 100,
   "metadata": {},
   "outputs": [
    {
     "name": "stdout",
     "output_type": "stream",
     "text": [
      "Anish Chapagain has taken the course \"LLMs with Google Cloud and Python\" on Udemy in 2024.  The LinkedIn profile you provided doesn't list any other courses taken. \n",
      "\n"
     ]
    }
   ],
   "source": [
    "reply(\"provide me titles and when did anish has taken from Udemy\")"
   ]
  },
  {
   "cell_type": "code",
   "execution_count": 96,
   "metadata": {},
   "outputs": [
    {
     "name": "stdout",
     "output_type": "stream",
     "text": [
      "I'm sorry, but the provided context does not include information about Anish obtaining any courses or certifications from Udemy. \n",
      "\n"
     ]
    }
   ],
   "source": [
    "reply(\"when did anish obtained course or certification from Udemy\")"
   ]
  },
  {
   "cell_type": "code",
   "execution_count": 93,
   "metadata": {},
   "outputs": [
    {
     "name": "stdout",
     "output_type": "stream",
     "text": [
      "The provided context only mentions \"Developing your Team Members\" as a LinkedIn Learning course. It doesn't list any other LinkedIn Learning courses or certifications. \n",
      "\n"
     ]
    }
   ],
   "source": [
    "reply(\"courses or certification from LinkedIn\")"
   ]
  },
  {
   "cell_type": "code",
   "execution_count": 87,
   "metadata": {},
   "outputs": [
    {
     "name": "stdout",
     "output_type": "stream",
     "text": [
      "The job requires technical skills in software development lifecycle (SDLC), technical writing, documentation, and presentations.  It also involves data science and web development skills, including PySpark, Pandas, PyTorch, OCR, Django, web scraping, anti-scraping, and anti-bot testing. \n",
      "\n"
     ]
    }
   ],
   "source": [
    "reply(\"lists some skills found in job\")"
   ]
  },
  {
   "cell_type": "code",
   "execution_count": 108,
   "metadata": {},
   "outputs": [
    {
     "name": "stdout",
     "output_type": "stream",
     "text": [
      "Some job skills include proficiency in SDLC, technical writing and support, documentation, and delivering presentations. Technical skills include PySpark, Pandas, PyTorch, OCR, Django, web scraping, anti-scraping, and anti-bot testing. \n",
      "\n"
     ]
    }
   ],
   "source": [
    "reply(\"list some job skills\")"
   ]
  },
  {
   "cell_type": "code",
   "execution_count": 131,
   "metadata": {},
   "outputs": [
    {
     "name": "stdout",
     "output_type": "stream",
     "text": [
      "The publication is \"Hands-On Web Scraping with Python\" and the book title is \"Hands-On Web Scraping with Python\". \n",
      "\n"
     ]
    }
   ],
   "source": [
    "reply(\"publication and book title\")"
   ]
  },
  {
   "cell_type": "code",
   "execution_count": 136,
   "metadata": {},
   "outputs": [
    {
     "name": "stdout",
     "output_type": "stream",
     "text": [
      "The provided context mentions the ISBN for the book \"Hands-On Web Scraping with Python\" as 9781789533392. This ISBN is a unique identifier for the book. \n",
      "\n"
     ]
    }
   ],
   "source": [
    "reply(\"ISBNs\")"
   ]
  },
  {
   "cell_type": "code",
   "execution_count": 159,
   "metadata": {},
   "outputs": [
    {
     "name": "stdout",
     "output_type": "stream",
     "text": [
      "The only publication title provided in the context is \"Hands-On Web Scraping with Python\". \n",
      "\n"
     ]
    }
   ],
   "source": [
    "reply(\"provide all publication title from the document\")"
   ]
  },
  {
   "cell_type": "markdown",
   "metadata": {},
   "source": [
    "## Similarity"
   ]
  },
  {
   "cell_type": "code",
   "execution_count": 118,
   "metadata": {},
   "outputs": [],
   "source": [
    "def search(question='') -> list:\n",
    "    docs = vectordb.similarity_search(question, k=3)\n",
    "    answers=[]\n",
    "    for doc in docs:\n",
    "        answers.append(doc.page_content[:200])\n",
    "    \n",
    "    return answers"
   ]
  },
  {
   "cell_type": "code",
   "execution_count": 122,
   "metadata": {},
   "outputs": [
    {
     "data": {
      "text/plain": [
       "['anishchapagain@gmail.com  | Linkedin  \\n+977 01  9840065449',\n",
       " 'References are available upon request and as required.',\n",
       " 'Chapagain, Anish   \\nGreen Hill City  #498 , Kageshwori Manohara -06, Mulpani , Kathmandu, Nepal.']"
      ]
     },
     "execution_count": 122,
     "metadata": {},
     "output_type": "execute_result"
    }
   ],
   "source": [
    "search(question=\"email address and phone number\")"
   ]
  },
  {
   "cell_type": "code",
   "execution_count": 119,
   "metadata": {},
   "outputs": [
    {
     "data": {
      "text/plain": [
       "['● Coding support to developers/clients site (error testing/fixing, database maintenance, site',\n",
       " 'LinkedIn Profile : https://www.linkedin.com/in/anish -chapagain -a581386/',\n",
       " '\\uf0b7 Projects related to scraping and ML, Code reviews & testing.']"
      ]
     },
     "execution_count": 119,
     "metadata": {},
     "output_type": "execute_result"
    }
   ],
   "source": [
    "search(question=\"list me some places where can i contribute to\")"
   ]
  },
  {
   "cell_type": "code",
   "execution_count": 121,
   "metadata": {},
   "outputs": [
    {
     "data": {
      "text/plain": [
       "['\\uf0b7 Proficiency in SDLC, T echnical writing/s upport , Documentation and delivering presentations  &',\n",
       " '\\uf0b7 Team  & project management, leading, m onitoring , training and c oaching , analysis & repor ting',\n",
       " 'To gain experience & challenging position in the field of AI/ML/Data Science conducive to growth,']"
      ]
     },
     "execution_count": 121,
     "metadata": {},
     "output_type": "execute_result"
    }
   ],
   "source": [
    "search(question=\"job title and skill\")"
   ]
  },
  {
   "cell_type": "code",
   "execution_count": 123,
   "metadata": {},
   "outputs": [
    {
     "data": {
      "text/plain": [
       "['●  “Element of AI” – University of Helsinki (Online 2 ECTS) , 2018',\n",
       " 'M.Sc Computer System (2007 -2008), Bangor University, Wales (U.K)',\n",
       " '● Subjects : Accounting, Organization Behavior, Research Methodology, TQM, HRM, Economics etc.']"
      ]
     },
     "execution_count": 123,
     "metadata": {},
     "output_type": "execute_result"
    }
   ],
   "source": [
    "search(question=\"last university\")"
   ]
  },
  {
   "cell_type": "code",
   "execution_count": 132,
   "metadata": {},
   "outputs": [
    {
     "data": {
      "text/plain": [
       "['Publications',\n",
       " '2nd Edition” . ISBN:  9781837636211 , Oct-2023.',\n",
       " '● “Hands -On Web Scraping with Python” . ISBN : 9781789533392 , Jul-2019 . \\n \\n \\nEducation']"
      ]
     },
     "execution_count": 132,
     "metadata": {},
     "output_type": "execute_result"
    }
   ],
   "source": [
    "search(\"publication and book title\")"
   ]
  },
  {
   "cell_type": "code",
   "execution_count": 145,
   "metadata": {},
   "outputs": [
    {
     "data": {
      "text/plain": [
       "['Dec, 2005',\n",
       " '● “Hands -On Web Scraping with Python” . ISBN : 9781789533392 , Jul-2019 . \\n \\n \\nEducation',\n",
       " '2nd Edition” . ISBN:  9781837636211 , Oct-2023.']"
      ]
     },
     "execution_count": 145,
     "metadata": {},
     "output_type": "execute_result"
    }
   ],
   "source": [
    "search(\"list all ISBN and date\")"
   ]
  },
  {
   "cell_type": "code",
   "execution_count": 146,
   "metadata": {},
   "outputs": [
    {
     "data": {
      "text/plain": [
       "['2nd Edition” . ISBN:  9781837636211 , Oct-2023.',\n",
       " '.E)                                                                      23rd Feb, 2003 – 30th Dec,',\n",
       " 'Dec, 2005']"
      ]
     },
     "execution_count": 146,
     "metadata": {},
     "output_type": "execute_result"
    }
   ],
   "source": [
    "search(\"when was 2nd edition published\")"
   ]
  },
  {
   "cell_type": "code",
   "execution_count": 152,
   "metadata": {},
   "outputs": [
    {
     "data": {
      "text/plain": [
       "['May, 2024',\n",
       " '2nd Edition” . ISBN:  9781837636211 , Oct-2023.',\n",
       " '.E)                                                                      23rd Feb, 2003 – 30th Dec,']"
      ]
     },
     "execution_count": 152,
     "metadata": {},
     "output_type": "execute_result"
    }
   ],
   "source": [
    "search(\"publication dates\")"
   ]
  }
 ],
 "metadata": {
  "kernelspec": {
   "display_name": "Python 3",
   "language": "python",
   "name": "python3"
  },
  "language_info": {
   "codemirror_mode": {
    "name": "ipython",
    "version": 3
   },
   "file_extension": ".py",
   "mimetype": "text/x-python",
   "name": "python",
   "nbconvert_exporter": "python",
   "pygments_lexer": "ipython3",
   "version": "3.12.3"
  }
 },
 "nbformat": 4,
 "nbformat_minor": 2
}
