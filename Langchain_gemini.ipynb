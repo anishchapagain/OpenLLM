{
 "cells": [
  {
   "cell_type": "markdown",
   "id": "84d12ad1-b135-496f-be37-aa842b50a9e5",
   "metadata": {},
   "source": [
    "<h2>LangChain & Google Gemini API</h2>\n",
    "<h5><a href=\"https://ai.google.dev/\">Google AI for Developers</a> | <a href=\"https://api.python.langchain.com/en/latest/google_genai_api_reference.html\">LangChain Google</a></h5> "
   ]
  },
  {
   "cell_type": "code",
   "execution_count": null,
   "id": "e556b9f9",
   "metadata": {},
   "outputs": [],
   "source": [
    "# API KEY using os.environ\n",
    "'''\n",
    "import os\n",
    "\n",
    "llm_key = 'GOOGLE_API_KEY' # OPENAI_API_KEY\n",
    "os.environ[llm_key] = '##' \n",
    "api_key = os.environ[llm_key]\n",
    "'''"
   ]
  },
  {
   "cell_type": "code",
   "execution_count": 1,
   "id": "8bdcf8e2",
   "metadata": {},
   "outputs": [],
   "source": [
    "# Read API KEY from file\n",
    "import json\n",
    "\n",
    "file_path = 'llms_vault.json'\n",
    "llm_key = 'GOOGLE_API_KEY'\n",
    "\n",
    "try:\n",
    "    with open(file_path,'r') as f:\n",
    "        api_key = json.loads(f.read()).get(llm_key)\n",
    "        if not api_key:\n",
    "            raise ValueError(f\"Some issue with '{llm_key}' from '{file_path}'. Verify the key:'{llm_key}' if it exists!\")\n",
    "except FileNotFoundError:\n",
    "    raise FileNotFoundError(f\"File related issue encountered, verify file path and name '{file_path}'\")"
   ]
  },
  {
   "cell_type": "code",
   "execution_count": 2,
   "id": "eb640c2e-747a-47b0-a526-75fd3b3cc432",
   "metadata": {},
   "outputs": [
    {
     "data": {
      "text/plain": [
       "39"
      ]
     },
     "execution_count": 2,
     "metadata": {},
     "output_type": "execute_result"
    }
   ],
   "source": [
    "len(api_key) # api_key"
   ]
  },
  {
   "cell_type": "markdown",
   "id": "32029c69",
   "metadata": {},
   "source": [
    "<h3>Using Gemini API</h3>"
   ]
  },
  {
   "cell_type": "code",
   "execution_count": 3,
   "id": "c6c15c48-c1bd-4435-92d2-85631aff98c9",
   "metadata": {},
   "outputs": [],
   "source": [
    "# https://ai.google.dev/api\n",
    "import google.generativeai as genai\n",
    "\n",
    "genai.configure(api_key=api_key) # genai.configure(api_key=os.environ[llm_key]) \n",
    "\n",
    "# list model names, requirement here is for content generation.\n",
    "models = [model for model in genai.list_models()]"
   ]
  },
  {
   "cell_type": "markdown",
   "id": "a3d2ad15",
   "metadata": {},
   "source": [
    "<h3> Exploring genai using Pandas </h3>"
   ]
  },
  {
   "cell_type": "code",
   "execution_count": 10,
   "id": "9e1a48ac",
   "metadata": {},
   "outputs": [],
   "source": [
    "import pandas as pd # for organizing data"
   ]
  },
  {
   "cell_type": "code",
   "execution_count": 35,
   "id": "376fd8a9",
   "metadata": {},
   "outputs": [
    {
     "data": {
      "text/html": [
       "<div>\n",
       "<style scoped>\n",
       "    .dataframe tbody tr th:only-of-type {\n",
       "        vertical-align: middle;\n",
       "    }\n",
       "\n",
       "    .dataframe tbody tr th {\n",
       "        vertical-align: top;\n",
       "    }\n",
       "\n",
       "    .dataframe thead th {\n",
       "        text-align: right;\n",
       "    }\n",
       "</style>\n",
       "<table border=\"1\" class=\"dataframe\">\n",
       "  <thead>\n",
       "    <tr style=\"text-align: right;\">\n",
       "      <th></th>\n",
       "      <th>Method</th>\n",
       "      <th>Description</th>\n",
       "    </tr>\n",
       "  </thead>\n",
       "  <tbody>\n",
       "    <tr>\n",
       "      <th>0</th>\n",
       "      <td>ChatSession</td>\n",
       "      <td>Contains an ongoing conversation with the mode...</td>\n",
       "    </tr>\n",
       "    <tr>\n",
       "      <th>1</th>\n",
       "      <td>GenerationConfig</td>\n",
       "      <td>A simple dataclass used to configure the gener...</td>\n",
       "    </tr>\n",
       "    <tr>\n",
       "      <th>2</th>\n",
       "      <td>GenerativeModel</td>\n",
       "      <td>\\n    The `genai.GenerativeModel` class wraps ...</td>\n",
       "    </tr>\n",
       "    <tr>\n",
       "      <th>3</th>\n",
       "      <td>chat</td>\n",
       "      <td>Calls the API to initiate a chat with a model ...</td>\n",
       "    </tr>\n",
       "    <tr>\n",
       "      <th>4</th>\n",
       "      <td>chat_async</td>\n",
       "      <td>Calls the API to initiate a chat with a model ...</td>\n",
       "    </tr>\n",
       "    <tr>\n",
       "      <th>5</th>\n",
       "      <td>configure</td>\n",
       "      <td>Captures default client configuration.\\n\\n    ...</td>\n",
       "    </tr>\n",
       "    <tr>\n",
       "      <th>6</th>\n",
       "      <td>count_message_tokens</td>\n",
       "      <td>Calls the API to calculate the number of token...</td>\n",
       "    </tr>\n",
       "    <tr>\n",
       "      <th>7</th>\n",
       "      <td>count_text_tokens</td>\n",
       "      <td>Calls the API to count the number of tokens in...</td>\n",
       "    </tr>\n",
       "    <tr>\n",
       "      <th>8</th>\n",
       "      <td>create_tuned_model</td>\n",
       "      <td>Calls the API to initiate a tuning process tha...</td>\n",
       "    </tr>\n",
       "    <tr>\n",
       "      <th>9</th>\n",
       "      <td>delete_file</td>\n",
       "      <td>Calls the API to permanently delete a specifie...</td>\n",
       "    </tr>\n",
       "    <tr>\n",
       "      <th>10</th>\n",
       "      <td>delete_tuned_model</td>\n",
       "      <td>Calls the API to delete a specified tuned model</td>\n",
       "    </tr>\n",
       "    <tr>\n",
       "      <th>11</th>\n",
       "      <td>embed_content</td>\n",
       "      <td>Calls the API to create embeddings for content...</td>\n",
       "    </tr>\n",
       "    <tr>\n",
       "      <th>12</th>\n",
       "      <td>embed_content_async</td>\n",
       "      <td>Calls the API to create async embeddings for c...</td>\n",
       "    </tr>\n",
       "    <tr>\n",
       "      <th>13</th>\n",
       "      <td>generate_embeddings</td>\n",
       "      <td>Calls the API to create an embedding for the t...</td>\n",
       "    </tr>\n",
       "    <tr>\n",
       "      <th>14</th>\n",
       "      <td>generate_text</td>\n",
       "      <td>Calls the API to generate text based on the pr...</td>\n",
       "    </tr>\n",
       "    <tr>\n",
       "      <th>15</th>\n",
       "      <td>get_base_model</td>\n",
       "      <td>Calls the API to fetch a base model by name.\\n...</td>\n",
       "    </tr>\n",
       "    <tr>\n",
       "      <th>16</th>\n",
       "      <td>get_file</td>\n",
       "      <td>Calls the API to retrieve a specified file usi...</td>\n",
       "    </tr>\n",
       "    <tr>\n",
       "      <th>17</th>\n",
       "      <td>get_model</td>\n",
       "      <td>Calls the API to fetch a model by name.\\n\\n   ...</td>\n",
       "    </tr>\n",
       "    <tr>\n",
       "      <th>18</th>\n",
       "      <td>get_operation</td>\n",
       "      <td>Calls the API to get a specific operation</td>\n",
       "    </tr>\n",
       "    <tr>\n",
       "      <th>19</th>\n",
       "      <td>get_tuned_model</td>\n",
       "      <td>Calls the API to fetch a tuned model by name.\\...</td>\n",
       "    </tr>\n",
       "    <tr>\n",
       "      <th>20</th>\n",
       "      <td>list_files</td>\n",
       "      <td>Calls the API to list files using a supported ...</td>\n",
       "    </tr>\n",
       "    <tr>\n",
       "      <th>21</th>\n",
       "      <td>list_models</td>\n",
       "      <td>Calls the API to list all available models.\\n\\...</td>\n",
       "    </tr>\n",
       "    <tr>\n",
       "      <th>22</th>\n",
       "      <td>list_operations</td>\n",
       "      <td>Calls the API to list all operations</td>\n",
       "    </tr>\n",
       "    <tr>\n",
       "      <th>23</th>\n",
       "      <td>list_tuned_models</td>\n",
       "      <td>Calls the API to list all tuned models.\\n\\n   ...</td>\n",
       "    </tr>\n",
       "    <tr>\n",
       "      <th>24</th>\n",
       "      <td>update_tuned_model</td>\n",
       "      <td>Calls the API to push updates to a specified t...</td>\n",
       "    </tr>\n",
       "    <tr>\n",
       "      <th>25</th>\n",
       "      <td>upload_file</td>\n",
       "      <td>Calls the API to upload a file using a support...</td>\n",
       "    </tr>\n",
       "  </tbody>\n",
       "</table>\n",
       "</div>"
      ],
      "text/plain": [
       "                  Method                                        Description\n",
       "0            ChatSession  Contains an ongoing conversation with the mode...\n",
       "1       GenerationConfig  A simple dataclass used to configure the gener...\n",
       "2        GenerativeModel  \\n    The `genai.GenerativeModel` class wraps ...\n",
       "3                   chat  Calls the API to initiate a chat with a model ...\n",
       "4             chat_async  Calls the API to initiate a chat with a model ...\n",
       "5              configure  Captures default client configuration.\\n\\n    ...\n",
       "6   count_message_tokens  Calls the API to calculate the number of token...\n",
       "7      count_text_tokens  Calls the API to count the number of tokens in...\n",
       "8     create_tuned_model  Calls the API to initiate a tuning process tha...\n",
       "9            delete_file  Calls the API to permanently delete a specifie...\n",
       "10    delete_tuned_model    Calls the API to delete a specified tuned model\n",
       "11         embed_content  Calls the API to create embeddings for content...\n",
       "12   embed_content_async  Calls the API to create async embeddings for c...\n",
       "13   generate_embeddings  Calls the API to create an embedding for the t...\n",
       "14         generate_text  Calls the API to generate text based on the pr...\n",
       "15        get_base_model  Calls the API to fetch a base model by name.\\n...\n",
       "16              get_file  Calls the API to retrieve a specified file usi...\n",
       "17             get_model  Calls the API to fetch a model by name.\\n\\n   ...\n",
       "18         get_operation          Calls the API to get a specific operation\n",
       "19       get_tuned_model  Calls the API to fetch a tuned model by name.\\...\n",
       "20            list_files  Calls the API to list files using a supported ...\n",
       "21           list_models  Calls the API to list all available models.\\n\\...\n",
       "22       list_operations               Calls the API to list all operations\n",
       "23     list_tuned_models  Calls the API to list all tuned models.\\n\\n   ...\n",
       "24    update_tuned_model  Calls the API to push updates to a specified t...\n",
       "25           upload_file  Calls the API to upload a file using a support..."
      ]
     },
     "execution_count": 35,
     "metadata": {},
     "output_type": "execute_result"
    }
   ],
   "source": [
    "# Explore 'genai', listing out some methods with it's description \n",
    "# dir(genai)\n",
    "\n",
    "genai_methods = []\n",
    "genai_descriptions = []\n",
    "\n",
    "for method_name in dir(genai):\n",
    "    if callable(getattr(genai, method_name)): # having doc\n",
    "        genai_methods.append(method_name)\n",
    "        method = getattr(genai, method_name)\n",
    "        genai_descriptions.append(method.__doc__)\n",
    "\n",
    "\n",
    "df_genai = pd.DataFrame({'Method': genai_methods, 'Description': genai_descriptions})\n",
    "\n",
    "df_genai\n"
   ]
  },
  {
   "cell_type": "code",
   "execution_count": 96,
   "id": "673d241d",
   "metadata": {},
   "outputs": [],
   "source": [
    "# Convert genai - models to pandas dataframe.\n",
    "\n",
    "df = pd.DataFrame(models, columns=['name', 'description', 'supported_generation_methods', 'display_name'])\n",
    "df.rename(columns={'name': 'model_name'}, inplace=True)"
   ]
  },
  {
   "cell_type": "code",
   "execution_count": 101,
   "id": "c9bb1015",
   "metadata": {},
   "outputs": [
    {
     "data": {
      "text/html": [
       "<div>\n",
       "<style scoped>\n",
       "    .dataframe tbody tr th:only-of-type {\n",
       "        vertical-align: middle;\n",
       "    }\n",
       "\n",
       "    .dataframe tbody tr th {\n",
       "        vertical-align: top;\n",
       "    }\n",
       "\n",
       "    .dataframe thead th {\n",
       "        text-align: right;\n",
       "    }\n",
       "</style>\n",
       "<table border=\"1\" class=\"dataframe\">\n",
       "  <thead>\n",
       "    <tr style=\"text-align: right;\">\n",
       "      <th></th>\n",
       "      <th>model_name</th>\n",
       "      <th>description</th>\n",
       "      <th>supported_generation_methods</th>\n",
       "      <th>display_name</th>\n",
       "    </tr>\n",
       "  </thead>\n",
       "  <tbody>\n",
       "    <tr>\n",
       "      <th>0</th>\n",
       "      <td>models/chat-bison-001</td>\n",
       "      <td>A legacy text-only model optimized for chat co...</td>\n",
       "      <td>[generateMessage, countMessageTokens]</td>\n",
       "      <td>PaLM 2 Chat (Legacy)</td>\n",
       "    </tr>\n",
       "    <tr>\n",
       "      <th>1</th>\n",
       "      <td>models/text-bison-001</td>\n",
       "      <td>A legacy model that understands text and gener...</td>\n",
       "      <td>[generateText, countTextTokens, createTunedTex...</td>\n",
       "      <td>PaLM 2 (Legacy)</td>\n",
       "    </tr>\n",
       "    <tr>\n",
       "      <th>2</th>\n",
       "      <td>models/embedding-gecko-001</td>\n",
       "      <td>Obtain a distributed representation of a text.</td>\n",
       "      <td>[embedText, countTextTokens]</td>\n",
       "      <td>Embedding Gecko</td>\n",
       "    </tr>\n",
       "    <tr>\n",
       "      <th>3</th>\n",
       "      <td>models/gemini-1.0-pro</td>\n",
       "      <td>The best model for scaling across a wide range...</td>\n",
       "      <td>[generateContent, countTokens]</td>\n",
       "      <td>Gemini 1.0 Pro</td>\n",
       "    </tr>\n",
       "    <tr>\n",
       "      <th>4</th>\n",
       "      <td>models/gemini-1.0-pro-001</td>\n",
       "      <td>The best model for scaling across a wide range...</td>\n",
       "      <td>[generateContent, countTokens, createTunedModel]</td>\n",
       "      <td>Gemini 1.0 Pro 001 (Tuning)</td>\n",
       "    </tr>\n",
       "    <tr>\n",
       "      <th>5</th>\n",
       "      <td>models/gemini-1.0-pro-latest</td>\n",
       "      <td>The best model for scaling across a wide range...</td>\n",
       "      <td>[generateContent, countTokens]</td>\n",
       "      <td>Gemini 1.0 Pro Latest</td>\n",
       "    </tr>\n",
       "    <tr>\n",
       "      <th>6</th>\n",
       "      <td>models/gemini-1.0-pro-vision-latest</td>\n",
       "      <td>The best image understanding model to handle a...</td>\n",
       "      <td>[generateContent, countTokens]</td>\n",
       "      <td>Gemini 1.0 Pro Vision</td>\n",
       "    </tr>\n",
       "    <tr>\n",
       "      <th>7</th>\n",
       "      <td>models/gemini-1.5-flash</td>\n",
       "      <td>Fast and versatile multimodal model for scalin...</td>\n",
       "      <td>[generateContent, countTokens]</td>\n",
       "      <td>Gemini 1.5 Flash</td>\n",
       "    </tr>\n",
       "    <tr>\n",
       "      <th>8</th>\n",
       "      <td>models/gemini-1.5-flash-001</td>\n",
       "      <td>Fast and versatile multimodal model for scalin...</td>\n",
       "      <td>[generateContent, countTokens, createCachedCon...</td>\n",
       "      <td>Gemini 1.5 Flash 001</td>\n",
       "    </tr>\n",
       "    <tr>\n",
       "      <th>9</th>\n",
       "      <td>models/gemini-1.5-flash-latest</td>\n",
       "      <td>Fast and versatile multimodal model for scalin...</td>\n",
       "      <td>[generateContent, countTokens]</td>\n",
       "      <td>Gemini 1.5 Flash Latest</td>\n",
       "    </tr>\n",
       "    <tr>\n",
       "      <th>10</th>\n",
       "      <td>models/gemini-1.5-pro</td>\n",
       "      <td>Mid-size multimodal model that supports up to ...</td>\n",
       "      <td>[generateContent, countTokens]</td>\n",
       "      <td>Gemini 1.5 Pro</td>\n",
       "    </tr>\n",
       "    <tr>\n",
       "      <th>11</th>\n",
       "      <td>models/gemini-1.5-pro-001</td>\n",
       "      <td>Mid-size multimodal model that supports up to ...</td>\n",
       "      <td>[generateContent, countTokens, createCachedCon...</td>\n",
       "      <td>Gemini 1.5 Pro 001</td>\n",
       "    </tr>\n",
       "    <tr>\n",
       "      <th>12</th>\n",
       "      <td>models/gemini-1.5-pro-latest</td>\n",
       "      <td>Mid-size multimodal model that supports up to ...</td>\n",
       "      <td>[generateContent, countTokens]</td>\n",
       "      <td>Gemini 1.5 Pro Latest</td>\n",
       "    </tr>\n",
       "    <tr>\n",
       "      <th>13</th>\n",
       "      <td>models/gemini-pro</td>\n",
       "      <td>The best model for scaling across a wide range...</td>\n",
       "      <td>[generateContent, countTokens]</td>\n",
       "      <td>Gemini 1.0 Pro</td>\n",
       "    </tr>\n",
       "    <tr>\n",
       "      <th>14</th>\n",
       "      <td>models/gemini-pro-vision</td>\n",
       "      <td>The best image understanding model to handle a...</td>\n",
       "      <td>[generateContent, countTokens]</td>\n",
       "      <td>Gemini 1.0 Pro Vision</td>\n",
       "    </tr>\n",
       "    <tr>\n",
       "      <th>15</th>\n",
       "      <td>models/embedding-001</td>\n",
       "      <td>Obtain a distributed representation of a text.</td>\n",
       "      <td>[embedContent]</td>\n",
       "      <td>Embedding 001</td>\n",
       "    </tr>\n",
       "    <tr>\n",
       "      <th>16</th>\n",
       "      <td>models/text-embedding-004</td>\n",
       "      <td>Obtain a distributed representation of a text.</td>\n",
       "      <td>[embedContent]</td>\n",
       "      <td>Text Embedding 004</td>\n",
       "    </tr>\n",
       "    <tr>\n",
       "      <th>17</th>\n",
       "      <td>models/aqa</td>\n",
       "      <td>Model trained to return answers to questions t...</td>\n",
       "      <td>[generateAnswer]</td>\n",
       "      <td>Model that performs Attributed Question Answer...</td>\n",
       "    </tr>\n",
       "  </tbody>\n",
       "</table>\n",
       "</div>"
      ],
      "text/plain": [
       "                             model_name  \\\n",
       "0                 models/chat-bison-001   \n",
       "1                 models/text-bison-001   \n",
       "2            models/embedding-gecko-001   \n",
       "3                 models/gemini-1.0-pro   \n",
       "4             models/gemini-1.0-pro-001   \n",
       "5          models/gemini-1.0-pro-latest   \n",
       "6   models/gemini-1.0-pro-vision-latest   \n",
       "7               models/gemini-1.5-flash   \n",
       "8           models/gemini-1.5-flash-001   \n",
       "9        models/gemini-1.5-flash-latest   \n",
       "10                models/gemini-1.5-pro   \n",
       "11            models/gemini-1.5-pro-001   \n",
       "12         models/gemini-1.5-pro-latest   \n",
       "13                    models/gemini-pro   \n",
       "14             models/gemini-pro-vision   \n",
       "15                 models/embedding-001   \n",
       "16            models/text-embedding-004   \n",
       "17                           models/aqa   \n",
       "\n",
       "                                          description  \\\n",
       "0   A legacy text-only model optimized for chat co...   \n",
       "1   A legacy model that understands text and gener...   \n",
       "2      Obtain a distributed representation of a text.   \n",
       "3   The best model for scaling across a wide range...   \n",
       "4   The best model for scaling across a wide range...   \n",
       "5   The best model for scaling across a wide range...   \n",
       "6   The best image understanding model to handle a...   \n",
       "7   Fast and versatile multimodal model for scalin...   \n",
       "8   Fast and versatile multimodal model for scalin...   \n",
       "9   Fast and versatile multimodal model for scalin...   \n",
       "10  Mid-size multimodal model that supports up to ...   \n",
       "11  Mid-size multimodal model that supports up to ...   \n",
       "12  Mid-size multimodal model that supports up to ...   \n",
       "13  The best model for scaling across a wide range...   \n",
       "14  The best image understanding model to handle a...   \n",
       "15     Obtain a distributed representation of a text.   \n",
       "16     Obtain a distributed representation of a text.   \n",
       "17  Model trained to return answers to questions t...   \n",
       "\n",
       "                         supported_generation_methods  \\\n",
       "0               [generateMessage, countMessageTokens]   \n",
       "1   [generateText, countTextTokens, createTunedTex...   \n",
       "2                        [embedText, countTextTokens]   \n",
       "3                      [generateContent, countTokens]   \n",
       "4    [generateContent, countTokens, createTunedModel]   \n",
       "5                      [generateContent, countTokens]   \n",
       "6                      [generateContent, countTokens]   \n",
       "7                      [generateContent, countTokens]   \n",
       "8   [generateContent, countTokens, createCachedCon...   \n",
       "9                      [generateContent, countTokens]   \n",
       "10                     [generateContent, countTokens]   \n",
       "11  [generateContent, countTokens, createCachedCon...   \n",
       "12                     [generateContent, countTokens]   \n",
       "13                     [generateContent, countTokens]   \n",
       "14                     [generateContent, countTokens]   \n",
       "15                                     [embedContent]   \n",
       "16                                     [embedContent]   \n",
       "17                                   [generateAnswer]   \n",
       "\n",
       "                                         display_name  \n",
       "0                                PaLM 2 Chat (Legacy)  \n",
       "1                                     PaLM 2 (Legacy)  \n",
       "2                                     Embedding Gecko  \n",
       "3                                      Gemini 1.0 Pro  \n",
       "4                         Gemini 1.0 Pro 001 (Tuning)  \n",
       "5                               Gemini 1.0 Pro Latest  \n",
       "6                               Gemini 1.0 Pro Vision  \n",
       "7                                    Gemini 1.5 Flash  \n",
       "8                                Gemini 1.5 Flash 001  \n",
       "9                             Gemini 1.5 Flash Latest  \n",
       "10                                     Gemini 1.5 Pro  \n",
       "11                                 Gemini 1.5 Pro 001  \n",
       "12                              Gemini 1.5 Pro Latest  \n",
       "13                                     Gemini 1.0 Pro  \n",
       "14                              Gemini 1.0 Pro Vision  \n",
       "15                                      Embedding 001  \n",
       "16                                 Text Embedding 004  \n",
       "17  Model that performs Attributed Question Answer...  "
      ]
     },
     "execution_count": 101,
     "metadata": {},
     "output_type": "execute_result"
    }
   ],
   "source": [
    "# Exploring the Model DataFrame\n",
    "\n",
    "df"
   ]
  },
  {
   "cell_type": "code",
   "execution_count": 98,
   "id": "374d4992",
   "metadata": {},
   "outputs": [
    {
     "data": {
      "text/html": [
       "<div>\n",
       "<style scoped>\n",
       "    .dataframe tbody tr th:only-of-type {\n",
       "        vertical-align: middle;\n",
       "    }\n",
       "\n",
       "    .dataframe tbody tr th {\n",
       "        vertical-align: top;\n",
       "    }\n",
       "\n",
       "    .dataframe thead th {\n",
       "        text-align: right;\n",
       "    }\n",
       "</style>\n",
       "<table border=\"1\" class=\"dataframe\">\n",
       "  <thead>\n",
       "    <tr style=\"text-align: right;\">\n",
       "      <th></th>\n",
       "      <th>model_name</th>\n",
       "      <th>description</th>\n",
       "      <th>supported_generation_methods</th>\n",
       "      <th>display_name</th>\n",
       "    </tr>\n",
       "  </thead>\n",
       "  <tbody>\n",
       "    <tr>\n",
       "      <th>count</th>\n",
       "      <td>18</td>\n",
       "      <td>18</td>\n",
       "      <td>18</td>\n",
       "      <td>18</td>\n",
       "    </tr>\n",
       "    <tr>\n",
       "      <th>unique</th>\n",
       "      <td>18</td>\n",
       "      <td>10</td>\n",
       "      <td>8</td>\n",
       "      <td>16</td>\n",
       "    </tr>\n",
       "    <tr>\n",
       "      <th>top</th>\n",
       "      <td>models/chat-bison-001</td>\n",
       "      <td>Obtain a distributed representation of a text.</td>\n",
       "      <td>[generateContent, countTokens]</td>\n",
       "      <td>Gemini 1.0 Pro</td>\n",
       "    </tr>\n",
       "    <tr>\n",
       "      <th>freq</th>\n",
       "      <td>1</td>\n",
       "      <td>3</td>\n",
       "      <td>9</td>\n",
       "      <td>2</td>\n",
       "    </tr>\n",
       "  </tbody>\n",
       "</table>\n",
       "</div>"
      ],
      "text/plain": [
       "                   model_name                                     description  \\\n",
       "count                      18                                              18   \n",
       "unique                     18                                              10   \n",
       "top     models/chat-bison-001  Obtain a distributed representation of a text.   \n",
       "freq                        1                                               3   \n",
       "\n",
       "          supported_generation_methods    display_name  \n",
       "count                               18              18  \n",
       "unique                               8              16  \n",
       "top     [generateContent, countTokens]  Gemini 1.0 Pro  \n",
       "freq                                 9               2  "
      ]
     },
     "execution_count": 98,
     "metadata": {},
     "output_type": "execute_result"
    }
   ],
   "source": [
    "df.describe()"
   ]
  },
  {
   "cell_type": "code",
   "execution_count": 99,
   "id": "4ad6405d",
   "metadata": {},
   "outputs": [
    {
     "name": "stdout",
     "output_type": "stream",
     "text": [
      "Total model: 18, No of unique supported_methods: 12\n"
     ]
    }
   ],
   "source": [
    "count_models = df.model_name.count()\n",
    "unique_supported_methods = df.supported_generation_methods.explode().nunique()\n",
    "print(f\"Total model: {count_models}, No of unique supported_methods: {unique_supported_methods}\")"
   ]
  },
  {
   "cell_type": "code",
   "execution_count": 100,
   "id": "096c26c8",
   "metadata": {},
   "outputs": [
    {
     "data": {
      "text/plain": [
       "generateContent         12\n",
       "countTokens             12\n",
       "countTextTokens          2\n",
       "createCachedContent      2\n",
       "embedContent             2\n",
       "generateMessage          1\n",
       "countMessageTokens       1\n",
       "generateText             1\n",
       "createTunedTextModel     1\n",
       "embedText                1\n",
       "createTunedModel         1\n",
       "generateAnswer           1\n",
       "Name: count, dtype: int64"
      ]
     },
     "execution_count": 100,
     "metadata": {},
     "output_type": "execute_result"
    }
   ],
   "source": [
    "supported_methods = [method for methods in df['supported_generation_methods'] for method in methods]\n",
    "count_of_methods = pd.Series(supported_methods).value_counts()\n",
    "count_of_methods"
   ]
  },
  {
   "cell_type": "code",
   "execution_count": 87,
   "id": "9784b905",
   "metadata": {},
   "outputs": [
    {
     "data": {
      "image/png": "[encoded data removed]",
      "text/plain": [
       "<Figure size 800x600 with 1 Axes>"
      ]
     },
     "metadata": {},
     "output_type": "display_data"
    }
   ],
   "source": [
    "# Plotting pie chart\n",
    "import matplotlib.pyplot as plt\n",
    "\n",
    "plt.figure(figsize=(8, 6))\n",
    "count_of_methods.plot(kind='barh')\n",
    "plt.title('genai: Supported Generation Methods')\n",
    "\n",
    "plt.xlabel('Supported Generation Methods')\n",
    "plt.ylabel('Frequency')\n",
    "plt.grid(axis='x', alpha=0.3)  # Adding faint grid lines"
   ]
  },
  {
   "cell_type": "code",
   "execution_count": 5,
   "id": "00ed2188",
   "metadata": {},
   "outputs": [
    {
     "data": {
      "text/html": [
       "<div>\n",
       "<style scoped>\n",
       "    .dataframe tbody tr th:only-of-type {\n",
       "        vertical-align: middle;\n",
       "    }\n",
       "\n",
       "    .dataframe tbody tr th {\n",
       "        vertical-align: top;\n",
       "    }\n",
       "\n",
       "    .dataframe thead th {\n",
       "        text-align: right;\n",
       "    }\n",
       "</style>\n",
       "<table border=\"1\" class=\"dataframe\">\n",
       "  <thead>\n",
       "    <tr style=\"text-align: right;\">\n",
       "      <th></th>\n",
       "      <th>model_name</th>\n",
       "      <th>display_name</th>\n",
       "    </tr>\n",
       "  </thead>\n",
       "  <tbody>\n",
       "    <tr>\n",
       "      <th>3</th>\n",
       "      <td>models/gemini-1.0-pro</td>\n",
       "      <td>Gemini 1.0 Pro</td>\n",
       "    </tr>\n",
       "    <tr>\n",
       "      <th>4</th>\n",
       "      <td>models/gemini-1.0-pro-001</td>\n",
       "      <td>Gemini 1.0 Pro 001 (Tuning)</td>\n",
       "    </tr>\n",
       "    <tr>\n",
       "      <th>5</th>\n",
       "      <td>models/gemini-1.0-pro-latest</td>\n",
       "      <td>Gemini 1.0 Pro Latest</td>\n",
       "    </tr>\n",
       "    <tr>\n",
       "      <th>6</th>\n",
       "      <td>models/gemini-1.0-pro-vision-latest</td>\n",
       "      <td>Gemini 1.0 Pro Vision</td>\n",
       "    </tr>\n",
       "    <tr>\n",
       "      <th>7</th>\n",
       "      <td>models/gemini-1.5-flash</td>\n",
       "      <td>Gemini 1.5 Flash</td>\n",
       "    </tr>\n",
       "    <tr>\n",
       "      <th>8</th>\n",
       "      <td>models/gemini-1.5-flash-001</td>\n",
       "      <td>Gemini 1.5 Flash 001</td>\n",
       "    </tr>\n",
       "    <tr>\n",
       "      <th>9</th>\n",
       "      <td>models/gemini-1.5-flash-latest</td>\n",
       "      <td>Gemini 1.5 Flash Latest</td>\n",
       "    </tr>\n",
       "    <tr>\n",
       "      <th>10</th>\n",
       "      <td>models/gemini-1.5-pro</td>\n",
       "      <td>Gemini 1.5 Pro</td>\n",
       "    </tr>\n",
       "    <tr>\n",
       "      <th>11</th>\n",
       "      <td>models/gemini-1.5-pro-001</td>\n",
       "      <td>Gemini 1.5 Pro 001</td>\n",
       "    </tr>\n",
       "    <tr>\n",
       "      <th>12</th>\n",
       "      <td>models/gemini-1.5-pro-latest</td>\n",
       "      <td>Gemini 1.5 Pro Latest</td>\n",
       "    </tr>\n",
       "    <tr>\n",
       "      <th>13</th>\n",
       "      <td>models/gemini-pro</td>\n",
       "      <td>Gemini 1.0 Pro</td>\n",
       "    </tr>\n",
       "    <tr>\n",
       "      <th>14</th>\n",
       "      <td>models/gemini-pro-vision</td>\n",
       "      <td>Gemini 1.0 Pro Vision</td>\n",
       "    </tr>\n",
       "  </tbody>\n",
       "</table>\n",
       "</div>"
      ],
      "text/plain": [
       "                             model_name                 display_name\n",
       "3                 models/gemini-1.0-pro               Gemini 1.0 Pro\n",
       "4             models/gemini-1.0-pro-001  Gemini 1.0 Pro 001 (Tuning)\n",
       "5          models/gemini-1.0-pro-latest        Gemini 1.0 Pro Latest\n",
       "6   models/gemini-1.0-pro-vision-latest        Gemini 1.0 Pro Vision\n",
       "7               models/gemini-1.5-flash             Gemini 1.5 Flash\n",
       "8           models/gemini-1.5-flash-001         Gemini 1.5 Flash 001\n",
       "9        models/gemini-1.5-flash-latest      Gemini 1.5 Flash Latest\n",
       "10                models/gemini-1.5-pro               Gemini 1.5 Pro\n",
       "11            models/gemini-1.5-pro-001           Gemini 1.5 Pro 001\n",
       "12         models/gemini-1.5-pro-latest        Gemini 1.5 Pro Latest\n",
       "13                    models/gemini-pro               Gemini 1.0 Pro\n",
       "14             models/gemini-pro-vision        Gemini 1.0 Pro Vision"
      ]
     },
     "execution_count": 5,
     "metadata": {},
     "output_type": "execute_result"
    }
   ],
   "source": [
    "# filter out the 'supported_generation_methods' that contains 'generateContent' only, to be used with 'GenerativeModel'.\n",
    "\n",
    "content_df = df[df['supported_generation_methods'].apply(lambda x: 'generateContent' in x)]\n",
    "content_df[['model_name','display_name']]"
   ]
  },
  {
   "cell_type": "code",
   "execution_count": 16,
   "id": "8637035b",
   "metadata": {},
   "outputs": [
    {
     "data": {
      "text/plain": [
       "['models/gemini-1.0-pro',\n",
       " 'models/gemini-1.5-flash',\n",
       " 'models/gemini-1.5-pro',\n",
       " 'models/gemini-1.5-pro-latest']"
      ]
     },
     "execution_count": 16,
     "metadata": {},
     "output_type": "execute_result"
    }
   ],
   "source": [
    "# selecting few random models name. \n",
    "selected_models = []\n",
    "selected_models.extend(content_df.loc[[3,7,10,12]]['model_name']) \n",
    "selected_models"
   ]
  },
  {
   "cell_type": "markdown",
   "id": "2391094a",
   "metadata": {},
   "source": [
    "<h3> Check the Input/Output token context for selected models.</h3>"
   ]
  },
  {
   "cell_type": "code",
   "execution_count": 7,
   "id": "ae4046d1",
   "metadata": {},
   "outputs": [
    {
     "name": "stdout",
     "output_type": "stream",
     "text": [
      "Model: models/gemini-1.0-pro, Limits: input-30720 output-2048\n",
      "Model: models/gemini-1.5-flash, Limits: input-1048576 output-8192\n",
      "Model: models/gemini-1.5-pro, Limits: input-2097152 output-8192\n",
      "Model: models/gemini-1.5-pro-latest, Limits: input-2097152 output-8192\n"
     ]
    }
   ],
   "source": [
    "for selected_model in selected_models:\n",
    "    info = genai.get_model(selected_model)\n",
    "    input_limit = info.input_token_limit\n",
    "    output_limit = info.output_token_limit\n",
    "    print(f\"Model: {selected_model}, Limits: input-{input_limit}, output-{output_limit}\")"
   ]
  },
  {
   "cell_type": "markdown",
   "id": "f2a8d142",
   "metadata": {},
   "source": [
    "<h3>Selecting model for generating content and preparing prompt</h3>\n"
   ]
  },
  {
   "cell_type": "code",
   "execution_count": 104,
   "id": "cfcac630",
   "metadata": {},
   "outputs": [],
   "source": [
    "model = genai.GenerativeModel(model_name=selected_models[0]) \n",
    "\n",
    "# choosing model, we can also remove the text 'models/' from model text.\n",
    "# model = genai.GenerativeModel(model_name=selected_models[0].replace('models/',''))\n",
    "\n",
    "prompts = [\"list the colors in the rainbow with words in capital\"] # issuing prompt for model chosen. String can also be provided"
   ]
  },
  {
   "cell_type": "code",
   "execution_count": 105,
   "id": "ec52531e",
   "metadata": {},
   "outputs": [
    {
     "data": {
      "text/plain": [
       "total_tokens: 10"
      ]
     },
     "execution_count": 105,
     "metadata": {},
     "output_type": "execute_result"
    }
   ],
   "source": [
    "# Count the tokens, number of tokens for Request!\n",
    "\n",
    "tokens = model.count_tokens(prompts)\n",
    "tokens"
   ]
  },
  {
   "cell_type": "markdown",
   "id": "440d86ee",
   "metadata": {},
   "source": [
    "<h3>Embedding: list of floating point numbers that represent the meaning of a sentence.</h3> "
   ]
  },
  {
   "cell_type": "code",
   "execution_count": 72,
   "id": "55b0701a",
   "metadata": {},
   "outputs": [],
   "source": [
    "# embed = genai.embed_content(model=selected_models[0], content=prompts) \n",
    "\n",
    "# Code above, will result with \"BatchEmbedContentsRequest.requests[0].model: unexpected model name format\" ?"
   ]
  },
  {
   "cell_type": "code",
   "execution_count": 73,
   "id": "586724e6",
   "metadata": {},
   "outputs": [
    {
     "data": {
      "text/plain": [
       "2     models/embedding-gecko-001\n",
       "15          models/embedding-001\n",
       "16     models/text-embedding-004\n",
       "Name: model_name, dtype: object"
      ]
     },
     "execution_count": 73,
     "metadata": {},
     "output_type": "execute_result"
    }
   ],
   "source": [
    "# We need the model that supports embedding. \n",
    "\n",
    "embed_df = df[df['supported_generation_methods'].apply(lambda e: \"embed\" in ''.join(e))] # df['supported_generation_methods'] is a []\n",
    "embed_df['model_name']"
   ]
  },
  {
   "cell_type": "code",
   "execution_count": 119,
   "id": "9ed50004",
   "metadata": {},
   "outputs": [
    {
     "name": "stdout",
     "output_type": "stream",
     "text": [
      "Embed model: models/embedding-001      \n",
      " Embedding: [0.027544947, -0.045868676, -0.031625714, -0.05262981, 0.053381477, -0.021768298, 0.011543624, -0.019891426, 0.01956483, 0.03539606] -(partial),      \n",
      " Dimension: 768\n"
     ]
    }
   ],
   "source": [
    "# embed_df['model_name'].loc[15]\n",
    "embed_model = embed_df['model_name'].loc[15]\n",
    "embed = genai.embed_content(model=embed_model, content=prompts) \n",
    "\n",
    "print(f\"Embed model: {embed_model}\\\n",
    "      \\n Embedding: {str(embed['embedding'][0][:10])} -(partial),\\\n",
    "      \\n Dimension: {len(embed['embedding'][0])}\"\n",
    "      )"
   ]
  },
  {
   "cell_type": "code",
   "execution_count": 106,
   "id": "b9677431",
   "metadata": {},
   "outputs": [
    {
     "data": {
      "text/plain": [
       "response:\n",
       "GenerateContentResponse(\n",
       "    done=True,\n",
       "    iterator=None,\n",
       "    result=protos.GenerateContentResponse({\n",
       "      \"candidates\": [\n",
       "        {\n",
       "          \"content\": {\n",
       "            \"parts\": [\n",
       "              {\n",
       "                \"text\": \"ROYAL RED\\nORANGE OPULENCE\\nYELLOW YELL\\nGREEN GRANDEUR\\nBLUE BRILLIANCE\\nINDIGO ILLUMINATION\\nVIOLET VIBRANCY\"\n",
       "              }\n",
       "            ],\n",
       "            \"role\": \"model\"\n",
       "          },\n",
       "          \"finish_reason\": \"STOP\",\n",
       "          \"index\": 0,\n",
       "          \"safety_ratings\": [\n",
       "            {\n",
       "              \"category\": \"HARM_CATEGORY_SEXUALLY_EXPLICIT\",\n",
       "              \"probability\": \"NEGLIGIBLE\"\n",
       "            },\n",
       "            {\n",
       "              \"category\": \"HARM_CATEGORY_HATE_SPEECH\",\n",
       "              \"probability\": \"NEGLIGIBLE\"\n",
       "            },\n",
       "            {\n",
       "              \"category\": \"HARM_CATEGORY_HARASSMENT\",\n",
       "              \"probability\": \"NEGLIGIBLE\"\n",
       "            },\n",
       "            {\n",
       "              \"category\": \"HARM_CATEGORY_DANGEROUS_CONTENT\",\n",
       "              \"probability\": \"NEGLIGIBLE\"\n",
       "            }\n",
       "          ]\n",
       "        }\n",
       "      ],\n",
       "      \"usage_metadata\": {\n",
       "        \"prompt_token_count\": 11,\n",
       "        \"candidates_token_count\": 33,\n",
       "        \"total_token_count\": 44\n",
       "      }\n",
       "    }),\n",
       ")"
      ]
     },
     "execution_count": 106,
     "metadata": {},
     "output_type": "execute_result"
    }
   ],
   "source": [
    "# https://ai.google.dev/api/python/google/generativeai/GenerativeModel#generate_content\n",
    "response = model.generate_content(prompts) \n",
    "response"
   ]
  },
  {
   "cell_type": "code",
   "execution_count": 107,
   "id": "27477c35",
   "metadata": {},
   "outputs": [
    {
     "name": "stdout",
     "output_type": "stream",
     "text": [
      "ROYAL RED\n",
      "ORANGE OPULENCE\n",
      "YELLOW YELL\n",
      "GREEN GRANDEUR\n",
      "BLUE BRILLIANCE\n",
      "INDIGO ILLUMINATION\n",
      "VIOLET VIBRANCY\n"
     ]
    }
   ],
   "source": [
    "print(response.text)"
   ]
  },
  {
   "cell_type": "markdown",
   "id": "6fbd0e5d",
   "metadata": {},
   "source": [
    "<hr/>\n",
    "<h2>Using LangChain</h2>"
   ]
  },
  {
   "cell_type": "code",
   "execution_count": 115,
   "id": "d56744aa",
   "metadata": {},
   "outputs": [],
   "source": [
    "from langchain_google_genai import ChatGoogleGenerativeAI\n",
    "from langchain_google_genai import GoogleGenerativeAIEmbeddings"
   ]
  },
  {
   "cell_type": "code",
   "execution_count": 109,
   "id": "1cbb1485",
   "metadata": {},
   "outputs": [],
   "source": [
    "import os\n",
    "os.environ[\"GOOGLE_API_KEY\"] = api_key"
   ]
  },
  {
   "cell_type": "code",
   "execution_count": 110,
   "id": "d7805c97",
   "metadata": {},
   "outputs": [],
   "source": [
    "llm = ChatGoogleGenerativeAI(\n",
    "    google_api_key = api_key,\n",
    "    model=selected_models[0],\n",
    "    )"
   ]
  },
  {
   "cell_type": "code",
   "execution_count": 121,
   "id": "4f33a485",
   "metadata": {},
   "outputs": [
    {
     "name": "stdout",
     "output_type": "stream",
     "text": [
      "Embed model: models/embedding-001      \n",
      " Embedding: [0.027544947, -0.045868676, -0.031625714, -0.05262981, 0.053381477, -0.021768298, 0.011543624, -0.019891426, 0.01956483, 0.03539606] -(partial),      \n",
      " Dimension: 768\n"
     ]
    }
   ],
   "source": [
    "# Embedding\n",
    "\n",
    "embeddings = GoogleGenerativeAIEmbeddings(model=embed_model)\n",
    "embeddings.embed_query(prompts[0])\n",
    "\n",
    "print(f\"Embed model: {embed_model}\\\n",
    "      \\n Embedding: {str(embed['embedding'][0][:10])} -(partial),\\\n",
    "      \\n Dimension: {len(embed['embedding'][0])}\"\n",
    "      )"
   ]
  },
  {
   "cell_type": "code",
   "execution_count": 111,
   "id": "653bd925",
   "metadata": {},
   "outputs": [],
   "source": [
    "gem_response = llm.invoke(prompts[0])"
   ]
  },
  {
   "cell_type": "code",
   "execution_count": 112,
   "id": "c01bd66b",
   "metadata": {},
   "outputs": [
    {
     "data": {
      "text/plain": [
       "AIMessage(content='RED\\nORANGE\\nYELLOW\\nGREEN\\nBLUE\\nINDIGO\\nVIOLET \\n', response_metadata={'prompt_feedback': {'block_reason': 0, 'safety_ratings': []}, 'finish_reason': 'STOP', 'safety_ratings': [{'category': 'HARM_CATEGORY_SEXUALLY_EXPLICIT', 'probability': 'NEGLIGIBLE', 'blocked': False}, {'category': 'HARM_CATEGORY_HATE_SPEECH', 'probability': 'NEGLIGIBLE', 'blocked': False}, {'category': 'HARM_CATEGORY_HARASSMENT', 'probability': 'NEGLIGIBLE', 'blocked': False}, {'category': 'HARM_CATEGORY_DANGEROUS_CONTENT', 'probability': 'NEGLIGIBLE', 'blocked': False}]}, id='run-a1b5ba10-51e1-481c-9c41-703bded29c42-0', usage_metadata={'input_tokens': 12, 'output_tokens': 15, 'total_tokens': 27})"
      ]
     },
     "execution_count": 112,
     "metadata": {},
     "output_type": "execute_result"
    }
   ],
   "source": [
    "gem_response"
   ]
  },
  {
   "cell_type": "code",
   "execution_count": 122,
   "id": "82844b26",
   "metadata": {},
   "outputs": [
    {
     "name": "stdout",
     "output_type": "stream",
     "text": [
      "RED\n",
      "ORANGE\n",
      "YELLOW\n",
      "GREEN\n",
      "BLUE\n",
      "INDIGO\n",
      "VIOLET \n",
      "\n"
     ]
    }
   ],
   "source": [
    "print(gem_response.content)"
   ]
  },
  {
   "cell_type": "code",
   "execution_count": 123,
   "id": "0a815f58",
   "metadata": {},
   "outputs": [
    {
     "name": "stdout",
     "output_type": "stream",
     "text": [
      "{'input_tokens': 12, 'output_tokens': 15, 'total_tokens': 27}\n"
     ]
    }
   ],
   "source": [
    "print(gem_response.usage_metadata)"
   ]
  }
 ],
 "metadata": {
  "kernelspec": {
   "display_name": "Python 3.12",
   "language": "python",
   "name": "python3"
  },
  "language_info": {
   "codemirror_mode": {
    "name": "ipython",
    "version": 3
   },
   "file_extension": ".py",
   "mimetype": "text/x-python",
   "name": "python",
   "nbconvert_exporter": "python",
   "pygments_lexer": "ipython3",
   "version": "3.12.3"
  }
 },
 "nbformat": 4,
 "nbformat_minor": 5
}
